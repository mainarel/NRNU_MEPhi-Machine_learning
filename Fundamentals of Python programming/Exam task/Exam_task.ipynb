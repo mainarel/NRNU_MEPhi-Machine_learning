{
 "cells": [
  {
   "cell_type": "markdown",
   "metadata": {},
   "source": [
    "# Задание 1\n",
    "## Обратный порядок слов в блоках текста \n",
    "\n",
    "Дан текстовый файл, каждое предложение которого занимает одну строку. Напишите программу, которая разделяет текст на блоки — каждый блок состоит из нескольких предложений. Затем переворачивает порядок слов только внутри каждого предложения, не меняя порядок самих предложений в блоке.\n",
    "\n",
    "Файл содержит:\n",
    "\n",
    "- Привет как дела\n",
    "- На улице идет дождь\n",
    "- Я люблю программирование\n",
    "\n",
    "Критерии оценки:\n",
    "\n",
    "- Текст разделен на блоки корректно — 2 балла.\n",
    "- Корректно перевернуты блоки — 2 балла."
   ]
  },
  {
   "cell_type": "code",
   "execution_count": 26,
   "metadata": {},
   "outputs": [],
   "source": [
    "BLOCK_SIZE = 1\n",
    "\n",
    "\n",
    "def process_text(file_path, output_file, BLOCK_SIZE: int):\n",
    "\n",
    "    with open(file_path, \"r\", encoding=\"utf-8\") as file:\n",
    "        sentences = [line.strip() for line in file]\n",
    "\n",
    "    if BLOCK_SIZE == 0:\n",
    "        BLOCK_SIZE = len(sentences)  # Один блок = весь текст\n",
    "\n",
    "    with open(output_file, \"w\", encoding=\"utf-8\") as file:\n",
    "\n",
    "        for i in range(0, len(sentences), BLOCK_SIZE):\n",
    "            block = sentences[i : i + BLOCK_SIZE]\n",
    "\n",
    "            for sentence in block:\n",
    "                file.write(\" \".join(sentence.split()[::-1]) + \"\\n\")\n",
    "            file.write(\"\\n\")  # Пустая строка между блоками"
   ]
  },
  {
   "cell_type": "code",
   "execution_count": 27,
   "metadata": {},
   "outputs": [],
   "source": [
    "file_path, output_file = \"data/text.txt\", \"data/output.txt\"\n",
    "process_text(file_path, output_file, BLOCK_SIZE)"
   ]
  },
  {
   "cell_type": "markdown",
   "metadata": {},
   "source": [
    "# Задание 2 \n",
    "Напишите функцию, которая принимает строку и сжимает её определённым образом. Строки содержат произвольные символы, включая пробелы и спецсимволы, и требуют точного учета длины при кодировании. Сжатие строки происходит сериями одинаковых символов в формате символ + количество, но только если длина сжатой строки не превышает исходную.\n",
    "\n",
    "Примеры:\n",
    "- вход: aaabbc → вывод: a3b2c,\n",
    "- вход: abcd → вывод: abcd (так как сжатая равна).\n",
    "\n",
    "Критерии оценки:\n",
    "- Корректно очищен текст — 1 балл.\n",
    "- Выполняется условие — 1 балл."
   ]
  },
  {
   "cell_type": "code",
   "execution_count": 37,
   "metadata": {},
   "outputs": [],
   "source": [
    "def compress_string(s: str) -> str:\n",
    "\n",
    "    compressed = \"\".join(\n",
    "        f\"{s[i]}{count}\" if (count := s[i:].count(s[i])) > 1 else s[i]\n",
    "        for i in range(len(s))\n",
    "        if i == 0 or s[i] != s[i - 1]\n",
    "    )\n",
    "    \n",
    "    return compressed if len(compressed) <= len(s) else s"
   ]
  },
  {
   "cell_type": "code",
   "execution_count": 38,
   "metadata": {},
   "outputs": [
    {
     "name": "stdout",
     "output_type": "stream",
     "text": [
      "a3b2c\n",
      "abcd\n",
      "a3\n",
      "\n",
      "a2b2\n",
      "a@#2$3\n"
     ]
    }
   ],
   "source": [
    "print(compress_string(\"aaabbc\"))  # Вывод: a3b2c\n",
    "print(compress_string(\"abcd\"))    # Вывод: abcd\n",
    "print(compress_string(\"aaa\"))     # Вывод: a3\n",
    "print(compress_string(\"\"))        # Вывод: (пустая строка)\n",
    "print(compress_string(\"aabb\"))    # Вывод: a2b2 (так как длина равна)\n",
    "print(compress_string(\"a@##$$$\")) # Вывод: a@2#2$3"
   ]
  },
  {
   "cell_type": "markdown",
   "metadata": {},
   "source": [
    "# Задание 3\n",
    "## Хаотичные скобки\n",
    "Реализуйте функцию, которая проверяет, правильно ли расставлены скобки в строке (включая круглые, квадратные и фигурные скобки).\n",
    "\n",
    "Критерии оценки:\n",
    "- Функция выполняет условие — 4 балла"
   ]
  },
  {
   "cell_type": "code",
   "execution_count": 39,
   "metadata": {},
   "outputs": [],
   "source": [
    "def is_valid_brackets(s):\n",
    "    stack, pairs = [], {\")\": \"(\", \"]\": \"[\", \"}\": \"{\"}\n",
    "\n",
    "    for char in s:\n",
    "        if char in pairs.values():\n",
    "            stack.append(char)\n",
    "\n",
    "        elif char in pairs and (not stack or stack.pop() != pairs[char]):\n",
    "            return False\n",
    "        \n",
    "    return not stack"
   ]
  },
  {
   "cell_type": "code",
   "execution_count": 40,
   "metadata": {},
   "outputs": [
    {
     "name": "stdout",
     "output_type": "stream",
     "text": [
      "True\n",
      "True\n",
      "True\n",
      "False\n",
      "False\n",
      "True\n",
      "False\n"
     ]
    }
   ],
   "source": [
    "print(is_valid_brackets(\"()\"))          # True\n",
    "print(is_valid_brackets(\"[()]{}\"))      # True\n",
    "print(is_valid_brackets(\"{[()]}\"))      # True\n",
    "print(is_valid_brackets(\"(]\"))          # False\n",
    "print(is_valid_brackets(\"([)]\"))        # False\n",
    "print(is_valid_brackets(\"{[]}\"))        # True\n",
    "print(is_valid_brackets(\"({[}])\"))      # False"
   ]
  },
  {
   "cell_type": "markdown",
   "metadata": {},
   "source": [
    "# Задание 4\n",
    "## Генератор случайных паролей\n",
    "\n",
    "Напишите функцию, которая генерирует пароль заданной длины. В реализации надо учитывать, что:\n",
    "- Пароль должен содержать буквы, цифры и специальные символы.\n",
    "- Длина пароля задается пользователем.\n",
    "\n",
    "Критерии оценки:\n",
    "- Функция выполняет все заявленные условия — 4 балла."
   ]
  },
  {
   "cell_type": "code",
   "execution_count": null,
   "metadata": {},
   "outputs": [],
   "source": [
    "import random\n",
    "import string"
   ]
  },
  {
   "cell_type": "code",
   "execution_count": 44,
   "metadata": {},
   "outputs": [],
   "source": [
    "def generate_password(length: int) -> str:\n",
    "\n",
    "    mandatory = [\n",
    "        random.choice(string.ascii_letters),  # Буква\n",
    "        random.choice(string.digits),  # Цифра\n",
    "        random.choice(\"!@#$%^&*()_-+=<>?\"),  # Специальный символ\n",
    "    ]\n",
    "\n",
    "    # Остальные символы\n",
    "    all_characters = string.ascii_letters + string.digits + \"!@#$%^&*()_-+=<>?\"\n",
    "    password = mandatory + random.choices(all_characters, k=length - 3)\n",
    "\n",
    "    # Перемешиваем и возвращаем\n",
    "    random.shuffle(password)\n",
    "\n",
    "    return \"\".join(password)"
   ]
  },
  {
   "cell_type": "code",
   "execution_count": 45,
   "metadata": {},
   "outputs": [
    {
     "name": "stdout",
     "output_type": "stream",
     "text": [
      "um*3>+7g\n",
      "p?W)pP$SYxc5\n",
      "V(s2\n"
     ]
    }
   ],
   "source": [
    "print(generate_password(8))\n",
    "print(generate_password(12))\n",
    "print(generate_password(4))"
   ]
  },
  {
   "cell_type": "markdown",
   "metadata": {},
   "source": [
    "# Задание 5\n",
    "## Эмуляция работы электронной очереди\n",
    "\n",
    "Напишите класс для симуляции работы электронной очереди, например, в банке.\n",
    "\n",
    "Критерии оценки:\n",
    "- Система должна поддерживать добавление клиентов с указанием их приоритета (например, VIP, обычный) — 1 балл.\n",
    "- Выбор клиента для следующей обработки должен учитывать приоритет — 1 балл.\n",
    "- Реализуйте отчет для администрации с информацией, сколько времени заняло обслуживание клиентов — 4 балла."
   ]
  },
  {
   "cell_type": "code",
   "execution_count": 49,
   "metadata": {},
   "outputs": [],
   "source": [
    "import time\n",
    "from collections import deque\n",
    "import pandas as pd"
   ]
  },
  {
   "cell_type": "code",
   "execution_count": 54,
   "metadata": {},
   "outputs": [
    {
     "name": "stdout",
     "output_type": "stream",
     "text": [
      "Обслуживаем клиента: Елена (VIP)\n",
      "Время обслуживания: 5 секунд\n",
      "Обслуживаем клиента: Мария (VIP)\n",
      "Время обслуживания: 5 секунд\n",
      "Обслуживаем клиента: Алексей (обычный)\n",
      "Время обслуживания: 4 секунд\n",
      "\n",
      "Отчёт о времени обслуживания клиентов:\n"
     ]
    },
    {
     "data": {
      "text/html": [
       "<div>\n",
       "<style scoped>\n",
       "    .dataframe tbody tr th:only-of-type {\n",
       "        vertical-align: middle;\n",
       "    }\n",
       "\n",
       "    .dataframe tbody tr th {\n",
       "        vertical-align: top;\n",
       "    }\n",
       "\n",
       "    .dataframe thead th {\n",
       "        text-align: right;\n",
       "    }\n",
       "</style>\n",
       "<table border=\"1\" class=\"dataframe\">\n",
       "  <thead>\n",
       "    <tr style=\"text-align: right;\">\n",
       "      <th></th>\n",
       "      <th>client</th>\n",
       "      <th>priority</th>\n",
       "      <th>duration</th>\n",
       "    </tr>\n",
       "  </thead>\n",
       "  <tbody>\n",
       "    <tr>\n",
       "      <th>0</th>\n",
       "      <td>Елена</td>\n",
       "      <td>VIP</td>\n",
       "      <td>5</td>\n",
       "    </tr>\n",
       "    <tr>\n",
       "      <th>1</th>\n",
       "      <td>Мария</td>\n",
       "      <td>VIP</td>\n",
       "      <td>5</td>\n",
       "    </tr>\n",
       "    <tr>\n",
       "      <th>2</th>\n",
       "      <td>Алексей</td>\n",
       "      <td>обычный</td>\n",
       "      <td>4</td>\n",
       "    </tr>\n",
       "  </tbody>\n",
       "</table>\n",
       "</div>"
      ],
      "text/plain": [
       "    client priority  duration\n",
       "0    Елена      VIP         5\n",
       "1    Мария      VIP         5\n",
       "2  Алексей  обычный         4"
      ]
     },
     "metadata": {},
     "output_type": "display_data"
    }
   ],
   "source": [
    "class Client:\n",
    "    def __init__(self, name, priority):\n",
    "        self.name = name\n",
    "        self.priority = priority\n",
    "\n",
    "    def __str__(self):\n",
    "        return f\"{self.name} ({self.priority})\"\n",
    "\n",
    "class Queue:\n",
    "    def __init__(self):\n",
    "        self.queue = deque()\n",
    "        self.report = []  # Для хранения отчётов о времени обслуживания\n",
    "\n",
    "    def add_client(self, client):\n",
    "        \"\"\"Добавляет клиента в очередь с учётом приоритета\"\"\"\n",
    "        if client.priority == \"VIP\":\n",
    "            self.queue.appendleft(client)  # VIP клиенты идут в начало\n",
    "        else:\n",
    "            self.queue.append(client)\n",
    "\n",
    "    def serve_client(self):\n",
    "        \"\"\"Обрабатывает следующего клиента с учётом приоритета\"\"\"\n",
    "        if not self.queue:\n",
    "            print(\"Очередь пуста.\")\n",
    "            return None\n",
    "\n",
    "        client = self.queue.popleft()\n",
    "        service_duration = random.randint(\n",
    "            1, 5\n",
    "        )  # Имитация времени обслуживания (1-5 секунд)\n",
    "        time.sleep(service_duration)  # Задержка для имитации работы\n",
    "\n",
    "        self.report.append(\n",
    "            {\n",
    "                \"client\": client.name,\n",
    "                \"priority\": client.priority,\n",
    "                \"duration\": service_duration,\n",
    "            }\n",
    "        )\n",
    "\n",
    "        print(f\"Обслуживаем клиента: {client}\")\n",
    "        print(f\"Время обслуживания: {service_duration} секунд\")\n",
    "        return client\n",
    "\n",
    "    def get_report(self):\n",
    "        \"\"\"Возвращает отчет о времени обслуживания клиентов в виде таблицы pandas\"\"\"\n",
    "        df = pd.DataFrame(self.report)\n",
    "        if not df.empty:\n",
    "            print(\"\\nОтчёт о времени обслуживания клиентов:\")\n",
    "            display(df)\n",
    "        else:\n",
    "            print(\"Нет данных для отчёта.\")\n",
    "\n",
    "queue = Queue()\n",
    "\n",
    "queue.add_client(Client(\"Алексей\", \"обычный\"))\n",
    "queue.add_client(Client(\"Мария\", \"VIP\"))\n",
    "queue.add_client(Client(\"Иван\", \"обычный\"))\n",
    "queue.add_client(Client(\"Елена\", \"VIP\"))\n",
    "\n",
    "queue.serve_client()\n",
    "queue.serve_client()\n",
    "queue.serve_client()\n",
    "\n",
    "queue.get_report()"
   ]
  },
  {
   "cell_type": "markdown",
   "metadata": {},
   "source": [
    "# Задание 6\n",
    "## Проверка на «почти палиндром»\n",
    "\n",
    "Напишите программу, которая проверяет, является ли строка палиндромом или «почти палиндромом». «Почти палиндром» означает, что можно удалить одну букву, чтобы строка стала палиндромом.\n",
    "\n",
    "Критерии оценки:\n",
    "- Функция выполняет все заявленные условия — 2 балла."
   ]
  },
  {
   "cell_type": "code",
   "execution_count": 56,
   "metadata": {},
   "outputs": [],
   "source": [
    "def is_palindrome(s):\n",
    "    return s == s[::-1]\n",
    "\n",
    "\n",
    "def is_almost_palindrome(s):\n",
    "\n",
    "    left, right = 0, len(s) - 1\n",
    "\n",
    "    while left < right:\n",
    "        if s[left] != s[right]:\n",
    "\n",
    "            # Проверяем, можно ли стать палиндромом после удаления одного символа\n",
    "            return is_palindrome(s[left + 1 : right + 1]) or is_palindrome(\n",
    "                s[left:right]\n",
    "            )\n",
    "\n",
    "        left += 1\n",
    "        right -= 1\n",
    "\n",
    "    return True  # Если строка уже палиндром, то она также \"почти палиндром\"\n",
    "\n",
    "\n",
    "def check_palindrome_status(s):\n",
    "    if is_palindrome(s):\n",
    "        return \"Палиндром\"\n",
    "    elif is_almost_palindrome(s):\n",
    "        return \"Почти палиндром\"\n",
    "    else:\n",
    "        return \"Не палиндром\""
   ]
  },
  {
   "cell_type": "code",
   "execution_count": 63,
   "metadata": {},
   "outputs": [
    {
     "name": "stdout",
     "output_type": "stream",
     "text": [
      "Почти палиндром\n",
      "Палиндром\n",
      "Не палиндром\n",
      "Палиндром\n",
      "Не палиндром\n",
      "Палиндром\n",
      "Почти палиндром\n",
      "Почти палиндром\n"
     ]
    }
   ],
   "source": [
    "print(check_palindrome_status(\"abca\"))  # Почти палиндром\n",
    "print(check_palindrome_status(\"racecar\"))  # Палиндром\n",
    "print(check_palindrome_status(\"hello\"))  # Не палиндром\n",
    "print(check_palindrome_status(\"madam\"))  # Палиндром\n",
    "print(check_palindrome_status(\"racec\"))  # Не палиндром\n",
    "print(check_palindrome_status(\"a\"))  # Палиндром\n",
    "print(check_palindrome_status(\"ab\"))  # Почти палиндром\n",
    "print(check_palindrome_status(\"fabcucba\"))  # Почти палиндром"
   ]
  },
  {
   "cell_type": "markdown",
   "metadata": {},
   "source": [
    "# Задание 7\n",
    "## Задача Шредингера\n",
    "\n",
    "Разработайте программу, которая «стирает» фрагменты текста в файле. Например:\n",
    "\n",
    "1. Пользователь указывает файл и процент текста, который нужно удалить (например, 30%).\n",
    "2. Программа случайно выбирает слова или части абзацев и заменяет их на пробел или ..., сохраняя общий объем документа.\n",
    "\n",
    "Вход:\n",
    "«Сегодня солнечный день, и я собираюсь гулять в парке с моими друзьями.»\n",
    "\n",
    "Вывод (удалено ~30%):\n",
    "«Сегодня ... день, и я собираюсь гулять ... моими друзьями.»\n",
    "\n",
    "Критерии оценки:\n",
    "- Чтение файла и ввод параметров пользователя — 3 балла.\n",
    "- Реализация алгоритма случайного удаления текста — 5 баллов.\n",
    "- Запись результата и вывод пользователю — 1 балл."
   ]
  },
  {
   "cell_type": "code",
   "execution_count": 66,
   "metadata": {},
   "outputs": [],
   "source": [
    "def remove_text(text, percent):\n",
    "\n",
    "    words = text.split()\n",
    "    num_words_to_remove = int(len(words) * percent / 100)\n",
    "\n",
    "    # Случайным образом выбираем индексы слов для удаления\n",
    "    words_to_remove = random.sample(range(len(words)), num_words_to_remove)\n",
    "\n",
    "    for idx in words_to_remove:\n",
    "        words[idx] = \"...\"\n",
    "\n",
    "    return \" \".join(words)\n",
    "\n",
    "\n",
    "def process_file(input_filename, output_filename, percent):\n",
    "\n",
    "    with open(input_filename, \"r\", encoding=\"utf-8\") as file:\n",
    "        text = file.read()\n",
    "\n",
    "    modified_text = remove_text(text, percent)\n",
    "\n",
    "    with open(output_filename, \"w\", encoding=\"utf-8\") as file:\n",
    "        file.write(modified_text)"
   ]
  },
  {
   "cell_type": "code",
   "execution_count": 67,
   "metadata": {},
   "outputs": [],
   "source": [
    "input_filename, output_filename, percent = \"data/text2.txt\", \"data/output2.txt\", 30\n",
    "process_file(input_filename, output_filename, percent)"
   ]
  }
 ],
 "metadata": {
  "kernelspec": {
   "display_name": "data_analysis",
   "language": "python",
   "name": "python3"
  },
  "language_info": {
   "codemirror_mode": {
    "name": "ipython",
    "version": 3
   },
   "file_extension": ".py",
   "mimetype": "text/x-python",
   "name": "python",
   "nbconvert_exporter": "python",
   "pygments_lexer": "ipython3",
   "version": "3.12.7"
  }
 },
 "nbformat": 4,
 "nbformat_minor": 2
}
