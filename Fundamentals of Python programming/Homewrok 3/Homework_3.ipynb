{
 "cells": [
  {
   "cell_type": "code",
   "execution_count": null,
   "metadata": {
    "id": "MXXTuy_o0sjk"
   },
   "outputs": [],
   "source": [
    "%pip install kaggle_environments"
   ]
  },
  {
   "cell_type": "code",
   "execution_count": 1,
   "metadata": {
    "id": "yz23vWHD0wcj"
   },
   "outputs": [
    {
     "name": "stdout",
     "output_type": "stream",
     "text": [
      "termcolor not installed, skipping dependency\n",
      "No pygame installed, ignoring import\n"
     ]
    }
   ],
   "source": [
    "import random\n",
    "from kaggle_environments import make"
   ]
  },
  {
   "cell_type": "markdown",
   "metadata": {
    "id": "0kuo6IOxiRub"
   },
   "source": [
    "Опишем поведения агентов:"
   ]
  },
  {
   "cell_type": "code",
   "execution_count": 2,
   "metadata": {},
   "outputs": [],
   "source": [
    "def always_rock(observation, configuration):\n",
    "    return 0  # всегда выбирает \"камень\"\n",
    "\n",
    "\n",
    "def always_paper(observation, configuration):\n",
    "    return 1  # всегда выбирает \"бумагу\"\n",
    "\n",
    "\n",
    "def always_scissors(observation, configuration):\n",
    "    return 2  # всегда выбирает \"ножницы\"\n",
    "\n",
    "\n",
    "def random_choice(observation, configuration):\n",
    "    return random.choice(\n",
    "        [0, 1, 2]\n",
    "    )  # случайный выбор между \"камень\", \"бумага\", \"ножницы\"\n",
    "\n",
    "\n",
    "def counter_strategy(observation, configuration):\n",
    "    if observation.step == 0:\n",
    "        return 0  # на первом ходу выбирает \"камень\"\n",
    "    return (\n",
    "        observation.lastOpponentAction + 1\n",
    "    ) % 3  # выбирает действие, побеждающее предыдущее действие противника\n",
    "\n",
    "\n",
    "def sequential_choice(observation, configuration):\n",
    "    return observation.step % 3  # последовательно чередует действия\n",
    "\n",
    "\n",
    "def weighted_random(observation, configuration):\n",
    "    return random.choices([0, 1, 2], weights=[0.5, 0.3, 0.2])[\n",
    "        0\n",
    "    ]  # случайный выбор с весами\n",
    "\n",
    "\n",
    "def mimic_opponent(observation, configuration):\n",
    "    return (\n",
    "        observation.lastOpponentAction if observation.step > 0 else 0\n",
    "    )  # повторяет предыдущее действие противника\n",
    "\n",
    "\n",
    "def cyclic_shift(observation, configuration):\n",
    "    return (observation.step + 1) % 3  # всегда сдвигает выбор на одно действие вперед\n",
    "\n",
    "\n",
    "def alternating_rock_paper(observation, configuration):\n",
    "    return (\n",
    "        0 if observation.step % 2 == 0 else 1\n",
    "    )  # чередует \"камень\" и \"бумагу\" на четных/нечетных ходах\n",
    "\n",
    "\n",
    "def two_step_cycle(observation, configuration):\n",
    "    return (observation.step // 2) % 3  # меняет действие каждые два хода\n",
    "\n",
    "\n",
    "def rock_paper_random(observation, configuration):\n",
    "    return random.choice([0, 1])  # случайный выбор между \"камнем\" и \"бумагой\"\n",
    "\n",
    "\n",
    "def paper_scissors_random(observation, configuration):\n",
    "    return random.choice([1, 2])  # случайный выбор между \"бумагой\" и \"ножницами\""
   ]
  },
  {
   "cell_type": "code",
   "execution_count": 3,
   "metadata": {},
   "outputs": [],
   "source": [
    "# Список агентов\n",
    "agents = [\n",
    "    always_rock,\n",
    "    always_paper,\n",
    "    always_scissors,\n",
    "    random_choice,\n",
    "    counter_strategy,\n",
    "    sequential_choice,\n",
    "    weighted_random,\n",
    "    mimic_opponent,\n",
    "    cyclic_shift,\n",
    "    alternating_rock_paper,\n",
    "    two_step_cycle,\n",
    "    rock_paper_random,\n",
    "    paper_scissors_random,\n",
    "]"
   ]
  },
  {
   "cell_type": "code",
   "execution_count": 5,
   "metadata": {},
   "outputs": [
    {
     "name": "stdout",
     "output_type": "stream",
     "text": [
      "Победитель: Агент 4 с 794 очками.\n"
     ]
    }
   ],
   "source": [
    "# Инициализация словаря для подсчета очков\n",
    "agent_scores = {agent_index: 0 for agent_index in range(len(agents))}\n",
    "\n",
    "# Количество игр между каждым агентом\n",
    "num_games = 100\n",
    "\n",
    "# Проведение турнира между агентами\n",
    "for i in range(len(agents)):\n",
    "    for j in range(i + 1, len(agents)):\n",
    "        # Создаем среду для игры\n",
    "        tournament_env = make(\"rps\", configuration={\"episodeSteps\": num_games})\n",
    "\n",
    "        # Запускаем игру между двумя агентами\n",
    "        results = tournament_env.run([agents[i], agents[j]])\n",
    "\n",
    "        # Подсчитываем очки для каждого агента\n",
    "        score_agent_i = sum(\n",
    "            1 for result in results if result[0][\"reward\"] > result[1][\"reward\"]\n",
    "        )\n",
    "        score_agent_j = sum(\n",
    "            1 for result in results if result[0][\"reward\"] < result[1][\"reward\"]\n",
    "        )\n",
    "\n",
    "        agent_scores[i] += score_agent_i\n",
    "        agent_scores[j] += score_agent_j\n",
    "\n",
    "# Определение победителя турнира\n",
    "best_agent_index = max(agent_scores, key=agent_scores.get)\n",
    "print(\n",
    "    f\"Победитель: Агент {best_agent_index} с {agent_scores[best_agent_index]} очками.\"\n",
    ")"
   ]
  }
 ],
 "metadata": {
  "colab": {
   "provenance": []
  },
  "kernelspec": {
   "display_name": "base",
   "language": "python",
   "name": "python3"
  },
  "language_info": {
   "codemirror_mode": {
    "name": "ipython",
    "version": 3
   },
   "file_extension": ".py",
   "mimetype": "text/x-python",
   "name": "python",
   "nbconvert_exporter": "python",
   "pygments_lexer": "ipython3",
   "version": "3.12.7"
  }
 },
 "nbformat": 4,
 "nbformat_minor": 0
}
