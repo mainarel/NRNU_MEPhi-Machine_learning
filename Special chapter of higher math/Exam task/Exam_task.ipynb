{
 "cells": [
  {
   "cell_type": "markdown",
   "metadata": {},
   "source": [
    "# Задание 1\n",
    "Найдите значение выражения:\n",
    "\n",
    "$\\left(2,75 \\times \\frac{4}{5}\\right)+\\left(1 \\frac{2}{3} \\div 0,25\\right)-\\left(3,6 \\times \\frac{5}{8}\\right)$\n",
    "\n",
    "Подробно распишите решение. Ответ округлите до сотых."
   ]
  },
  {
   "cell_type": "markdown",
   "metadata": {},
   "source": [
    "$\n",
    "\\left(2,75 \\times \\frac{4}{5}\\right)+\\left(1 \\frac{2}{3} \\div 0,25\\right)-\\left(3,6 \\times \\frac{5}{8}\\right) = (\\frac{11}{4}\\times \\frac{4}{5}) + (\\frac{5}{3} \\div \\frac{1}{4}) - (\\frac{18}{5}\\times\\frac{5}{8}) = \\frac{11}{5} + (\\frac{5}{3}\\times 4) - (9 \\times \\frac{1}{4}) = \\frac{11}{5} + \\frac{20}{3} - \\frac{9}{4} = \\frac{397}{60} = 6 \\frac{37}{60} \\approx 6.62\n",
    "$"
   ]
  },
  {
   "cell_type": "markdown",
   "metadata": {},
   "source": [
    "# Задание 2\n",
    "Найдите значение выражения:\n",
    "\n",
    "$\\left|(-8)+3^2\\right|-\\left|(-2)^3+4\\right|+|6-\\sqrt{49}|$\n",
    "\n",
    "Подробно распишите решение.\n"
   ]
  },
  {
   "cell_type": "markdown",
   "metadata": {},
   "source": [
    "$\n",
    "\\left|(-8)+3^2\\right|-\\left|(-2)^3+4\\right|+|6-\\sqrt{49}| = |-8+9| - |-8+4| + |6-7| = 1-4+1 = -2\n",
    "$"
   ]
  },
  {
   "cell_type": "markdown",
   "metadata": {},
   "source": [
    "# Задание 3\n",
    "Найдите значение выражения:\n",
    "\n",
    "$\\frac{2^{2 n} \\times 4^{n+1}}{8^{n-1} \\times 16^n}$\n",
    "\n",
    "Если известно, что n = 3. Подробно распишите решение."
   ]
  },
  {
   "cell_type": "markdown",
   "metadata": {
    "vscode": {
     "languageId": "plaintext"
    }
   },
   "source": [
    "$\n",
    "\\frac{2^{2 n} \\times 4^{n+1}}{8^{n-1} \\times 16^n} = \\frac{2^{2n} \\times 2^{2n+2}}{2^{3n-3}\\times 2^{4n}} = \\frac{2^{-n+5}}{2^2n} = 2^{-3n+5} \\implies (n=3)\n",
    "$\n",
    "\n",
    "$2^{-3 \\times 3+5} = \\frac{1}{16} = 0.0625$"
   ]
  },
  {
   "cell_type": "markdown",
   "metadata": {},
   "source": [
    "# Задание 4\n",
    "Найдите значение выражения:\n",
    "\n",
    "$\\log _2 32-\\frac{1}{2} \\log _4 16+\\log _{16} 2$\n",
    "\n",
    "Подробно распишите решение."
   ]
  },
  {
   "cell_type": "markdown",
   "metadata": {
    "vscode": {
     "languageId": "plaintext"
    }
   },
   "source": [
    "$\n",
    "\\log _2 32-\\frac{1}{2} \\log _4 16+\\log _{16} 2 = \\log _2 (2^5) - \\frac{1}{2} \\times \\log _4 (4^2) + \\log _{2^{4}} (2) = 5 - \\frac{1}{2} \\times 2 + \\frac{1}{4} = 4 + \\frac{1}{4} = \\frac{17}{4} = 4.25\n",
    "$"
   ]
  },
  {
   "cell_type": "markdown",
   "metadata": {},
   "source": [
    "# Задание 5\n",
    "Найдите значение выражения:\n",
    "\n",
    "$\\frac{\\left|2^3-5 \\times 2^2\\right|}{\\log _2 16}+\\sqrt{\\left(\\frac{1}{2}\\right)^{-4}}-\\log _4\\left(\\frac{1}{16}\\right)$\n",
    "\n",
    "Подробно распишите решение."
   ]
  },
  {
   "cell_type": "markdown",
   "metadata": {},
   "source": [
    "$\n",
    "\\frac{\\left|2^3-5 \\times 2^2\\right|}{\\log _2 16}+\\sqrt{\\left(\\frac{1}{2}\\right)^{-4}}-\\log _4\\left(\\frac{1}{16}\\right) = \\frac{|(2-5)\\times 2^2|}{\\log _2 (2^4)} + (\\frac{1}{2})^{-2} - \\log _{2^2} (2^{-4}) = \\frac{|-3\\times 4|}{4} + 2^2 - (-2) = \\frac{12}{4} + 4 + 2 = 9\n",
    "$"
   ]
  },
  {
   "cell_type": "markdown",
   "metadata": {},
   "source": [
    "# Задание 6\n",
    "Решите уравнение:\n",
    "\n",
    "$(x-2)(x+4)=x^{2}-5$\n",
    "\n",
    "Подробно распишите решение."
   ]
  },
  {
   "cell_type": "markdown",
   "metadata": {},
   "source": [
    "$(x-2)(x+4)=x^{2}-5$\n",
    "\n",
    "$x^2+4x-2x-8=x^2-5$\n",
    "\n",
    "$4x-2x-8=-5$\n",
    "\n",
    "$2x=3$\n",
    "\n",
    "$x=\\frac{3}{2} = 1.5$"
   ]
  },
  {
   "cell_type": "markdown",
   "metadata": {},
   "source": [
    "# Задание 7\n",
    "Решите систему линейных уравнений:\n",
    "\n",
    "$\n",
    "\\begin{cases}\n",
    "   2(3 x-4)-(5(y+2)-3)=0 \\\\\n",
    "   (2 x-(y-1))+3(2 y+1)=20\n",
    "\\end{cases}\n",
    "$\n",
    "\n",
    "Подробно распишите решение."
   ]
  },
  {
   "cell_type": "markdown",
   "metadata": {},
   "source": [
    "$\n",
    "\\begin{cases}\n",
    "   2(3 x-4)-(5(y+2)-3)=0 \\ (1)\\\\\n",
    "   (2 x-(y-1))+3(2 y+1)=20 \\ (2)\n",
    "\\end{cases}\n",
    "$\n",
    "\n",
    "Выразим x в (1) уравнении:\n",
    "\n",
    "$6x-8-5y-7=0$\n",
    "\n",
    "$6x = 15+5y$\n",
    "\n",
    "$x = \\frac{5}{2} + \\frac{5}{6}y$\n",
    "\n",
    "И подставим во (2):\n",
    "\n",
    "$\n",
    "(2(\\frac{5}{2} + \\frac{5}{6}y) - (y-1)) + 3(2y+1) = 20\n",
    "$\n",
    "\n",
    "$\n",
    "(5+\\frac{5}{3}y-y+1) +6y+3=20\n",
    "$\n",
    "\n",
    "$\n",
    "9+\\frac{20}{3}y=20\n",
    "$\n",
    "\n",
    "$\n",
    "20y=33, \\ y = \\frac{33}{20}\n",
    "$\n",
    "\n",
    "$\n",
    "\\implies (x,y) = (\\frac{31}{8}, \\frac{33}{20})\n",
    "$\n",
    "\n"
   ]
  },
  {
   "cell_type": "markdown",
   "metadata": {},
   "source": [
    "# Задание 8\n",
    "Решите уравнение:\n",
    "\n",
    "$x^3-4 x^2+x+6=0$\n",
    "\n",
    "Подробно распишите решение."
   ]
  },
  {
   "cell_type": "markdown",
   "metadata": {},
   "source": [
    "$\n",
    "x^3-4 x^2+x+6=0\n",
    "$\n",
    "\n",
    "$\n",
    "x^3+x^2-5x^2-5x+6x+6=0\n",
    "$\n",
    "\n",
    "$\n",
    "x^2(x+1)-5x(x+1)+6(x+1)=0\n",
    "$\n",
    "\n",
    "$\n",
    "(x+1)(x^2-5x+6)=0\n",
    "$\n",
    "\n",
    "$\n",
    "(x+1)(x^2-2x-3x+6)=0\n",
    "$\n",
    "\n",
    "$\n",
    "(x+1)(x(x-2)-3(x-2))=0\n",
    "$\n",
    "\n",
    "$\n",
    "(x+1)(x-2)(x-3)=0\n",
    "$\n",
    "\n",
    "$\\implies x_1=-1,\\ x_2 =2, \\ x_3 =3$"
   ]
  },
  {
   "cell_type": "markdown",
   "metadata": {},
   "source": [
    "# Задание 9\n",
    "Решите неравенство:\n",
    "\n",
    "$\\frac{5 x-2}{3}-\\frac{2 x+4}{2}>\\frac{7 x-5}{4}+\\frac{x+6}{3}$\n",
    "\n",
    "Подробно распишите решение."
   ]
  },
  {
   "cell_type": "markdown",
   "metadata": {},
   "source": [
    "Умножим обе части на 12:\n",
    "\n",
    "$\n",
    "4(5x-2)-6(2x+4)>3(7x-5)+4(x+6) \n",
    "$\n",
    "\n",
    "$\n",
    "20x-8-12x - 24 > 21x-15+4x+24\n",
    "$\n",
    "\n",
    "$\n",
    "-17x>41\n",
    "$\n",
    "\n",
    "$\n",
    "x< -\\frac{41}{17}\n",
    "$\n",
    "\n",
    "Ответ: $x< -\\frac{41}{17}$\n"
   ]
  },
  {
   "cell_type": "markdown",
   "metadata": {},
   "source": [
    "# Задание 10\n",
    "Разложите на множители многочлен:\n",
    "\n",
    "$x^3-3 x^2-4 x+12$\n",
    "\n",
    "Подробно распишите решение."
   ]
  },
  {
   "cell_type": "markdown",
   "metadata": {},
   "source": [
    "$\n",
    "x^3-3 x^2-4 x+12 = x^2(x-3)-4(x-3) = (x-3)(x^2-4) = (x-3)(x-2)(x+2)\n",
    "$"
   ]
  },
  {
   "cell_type": "markdown",
   "metadata": {},
   "source": [
    "# Задание 11\n",
    "\n",
    "Сколькими способами можно поставить 5 различных книг на полке, если две из них должны стоять рядом?"
   ]
  },
  {
   "cell_type": "markdown",
   "metadata": {},
   "source": [
    "Рассмотрим две книги, которые должны стоять рядом, как один \"блок\". Тогда у нас будет 4 \"объекта\" для размещения на полке: этот \"блок\" и остальные 3 книги.\n",
    "\n",
    "Число способов разместить 4 \"объекта\" на полке равно $4!$, что составляет:\n",
    "\n",
    "$\n",
    "4! = 4 \\times 3 \\times 2 \\times 1 = 24\n",
    "$\n",
    "\n",
    "Внутри \"блока\" две книги можно переставить между собой $2!$ способами:\n",
    "\n",
    "$\n",
    "2! = 2 \\times 1 = 2\n",
    "$\n",
    "\n",
    "Общее число способов расставить книги, чтобы две из них стояли рядом, равно:\n",
    "\n",
    "$\n",
    "4! \\times 2! = 24 \\times 2 = 48\n",
    "$\n",
    "\n",
    "Ответ: 48"
   ]
  },
  {
   "cell_type": "markdown",
   "metadata": {},
   "source": [
    "# Задание 12\n",
    "Вероятность, что первый телефон сломан - 0.1. Вероятность того, что второй телефон сломан - 0.3. Найдите вероятность, что оба телефона работают."
   ]
  },
  {
   "cell_type": "markdown",
   "metadata": {},
   "source": [
    "Чтобы найти вероятность того, что оба телефона работают, нам нужно рассмотреть вероятности, что каждый телефон не сломан.\n",
    "\n",
    "Вероятность того, что первый телефон работает = $1 - 0.1 = 0.9$\n",
    "\n",
    "Вероятность того, что второй телефон работает = $1 - 0.3 = 0.7$\n",
    "\n",
    "Поскольку считается, что состояния телефонов независимы, вероятность того, что оба телефона работают, равна произведению вероятностей того, что каждый телефон работает:\n",
    "\n",
    "$\n",
    "P(\\text{оба работают}) = P(\\text{первый работает}) \\times P(\\text{второй работает}) = 0.9 \\times 0.7 = 0.63\n",
    "$\n",
    "\n",
    "Ответ: 0.63"
   ]
  },
  {
   "cell_type": "markdown",
   "metadata": {},
   "source": [
    "# Задание 13\n",
    "Сколькими способами можно распределить 10 одинаковых яблок между 4 детьми, если каждый ребенок должен получить хотя бы одно яблоко?"
   ]
  },
  {
   "cell_type": "markdown",
   "metadata": {},
   "source": [
    "Сначала мы даем по одному яблоку каждому ребенку, чтобы удовлетворить условие, что каждый ребенок получает хотя бы одно яблоко. Это оставляет нас с $10 - 4 = 6$ яблоками, которые мы можем свободно распределить между 4 детьми.\n",
    "\n",
    "Теперь задача состоит в том, чтобы найти количество решений уравнения:\n",
    "\n",
    "$ \n",
    "x_1 + x_2 + x_3 + x_4 = 6 \n",
    "$\n",
    "\n",
    "где $x_1, x_2, x_3, x_4 \\geq 0$.\n",
    "\n",
    "Количество решений этого уравнения в неотрицательных целых числах дается формулой сочетаний с повторениями:\n",
    "\n",
    "$\n",
    "\\binom{n + k - 1}{k - 1}\n",
    "$\n",
    "\n",
    "где $n$ — это количество яблок, которые нужно распределить (6), а $k$ — количество детей (4).\n",
    "\n",
    "\n",
    "$\n",
    "\\binom{6 + 4 - 1}{4 - 1} = \\binom{9}{3}\n",
    "$\n",
    "\n",
    "\n",
    "$\n",
    "\\binom{9}{3} = \\frac{9 \\times 8 \\times 7}{3 \\times 2 \\times 1} = 84\n",
    "$\n",
    "\n",
    "Ответ: 84"
   ]
  },
  {
   "cell_type": "markdown",
   "metadata": {},
   "source": [
    "# Задание 14\n",
    "На экзамене студент отвечает на 5 вопросов из билета, который содержит 10 вопросов. Порядок вопросов важен. Сколькими способами студент может выбрать и расположить вопросы для ответа?"
   ]
  },
  {
   "cell_type": "markdown",
   "metadata": {},
   "source": [
    "Данная задача на перестановки подмножества и решается с помощью формулы размещений:\n",
    "\n",
    "$\n",
    "A^n_k = \\frac{n!}{(n-k)!}\n",
    "$\n",
    "\n",
    "где $ n $ — общее количество вопросов, а $ k $ — количество вопросов, которые необходимо выбрать и упорядочить.\n",
    "\n",
    "n = 10 $ и $ k = 5 $\n",
    "\n",
    "$\n",
    "A^{10}_5 = \\frac{10!}{(10-5)!} = \\frac{10!}{5!}\n",
    "$\n",
    "\n",
    "\n",
    "$\n",
    "A^{10}_5 = \\frac{10 \\times 9 \\times 8 \\times 7 \\times 6 \\times 5!}{5!} = 10 \\times 9 \\times 8 \\times 7 \\times 6 = 30240\n",
    "$\n",
    "\n",
    "Ответ: 30240"
   ]
  },
  {
   "cell_type": "markdown",
   "metadata": {},
   "source": [
    "# Задание 15\n",
    "\n",
    "Монету бросают 6 раз. Какова вероятность того, что орел выпадет ровно 4 раза?"
   ]
  },
  {
   "cell_type": "markdown",
   "metadata": {},
   "source": [
    "Чтобы найти вероятность того, что орел выпадет ровно 4 раза при 6 бросках монеты, используем биномиальное распределение. Вероятность успеха (выпадения орла) в каждом броске равна $ p = 0.5 $, так как монета честная. \n",
    "\n",
    "Формула биномиального распределения:\n",
    "\n",
    "$\n",
    "P(X = k) = \\binom{n}{k} p^k (1-p)^{n-k}\n",
    "$\n",
    "\n",
    "где:\n",
    "- $ n = 6 $ — общее количество бросков,\n",
    "- $ k = 4 $ — количество успехов (выпадений орла),\n",
    "- $ p = 0.5 $ — вероятность выпадения орла.\n",
    "\n",
    "Подставляем значения в формулу:\n",
    "\n",
    "$\n",
    "P(X = 4) = \\binom{6}{4} (0.5)^4 (0.5)^{6-4}\n",
    "$\n",
    "\n",
    "Вычислим биномиальный коэффициент $\\binom{6}{4}$:\n",
    "\n",
    "$\n",
    "\\binom{6}{4} = \\frac{6!}{4!(6-4)!} = \\frac{6 \\times 5}{2 \\times 1} = 15\n",
    "$\n",
    "\n",
    "Теперь подставим все значения:\n",
    "\n",
    "$\n",
    "P(X = 4) = 15 \\times (0.5)^4 \\times (0.5)^2 = 15 \\times (0.5)^6\n",
    "$\n",
    "\n",
    "$\n",
    "(0.5)^6 = \\frac{1}{64}\n",
    "$\n",
    "\n",
    "Таким образом:\n",
    "\n",
    "$\n",
    "P(X = 4) = 15 \\times \\frac{1}{64} = \\frac{15}{64}\n",
    "$\n",
    "\n",
    "Ответ: $\\frac{15}{64}$"
   ]
  },
  {
   "cell_type": "markdown",
   "metadata": {},
   "source": [
    "# Задания 16\n",
    "Дана функция:\n",
    "\n",
    "$f(x)=\\sqrt{\\frac{\\ln \\left(x^{2}-1\\right)}{x-2}}$\n"
   ]
  },
  {
   "cell_type": "markdown",
   "metadata": {},
   "source": [
    "## Задание 16.1\n",
    "\n",
    "Найдите область определения функции."
   ]
  },
  {
   "cell_type": "markdown",
   "metadata": {},
   "source": [
    "1. **Условие для логарифма:**\n",
    "   \n",
    "$\n",
    "x^2 - 1 > 0 \n",
    "$\n",
    "\n",
    "$\n",
    "x^2 > 1\n",
    "$\n",
    "\n",
    "Это неравенство выполняется при $(x < -1) \\cup  (x > 1)$\n",
    "\n",
    "2. **Условие для знаменателя:**\n",
    "\n",
    "$\n",
    "x - 2 \\neq 0 \n",
    "$\n",
    "\n",
    "$ x \\neq 2 $\n",
    "\n",
    "3. **Условие для подкоренного выражения:**\n",
    "\n",
    "$\n",
    "\\frac{\\ln(x^2 - 1)}{x - 2} \\geq 0\n",
    "$\n",
    "\n",
    "Это дробь, поэтому она будет неотрицательной при выполнении одного из следующих условий:\n",
    "\n",
    "$\n",
    "\\begin{cases}\n",
    "   \\ln(x^2 - 1) >= 0\\\\\n",
    "   x - 2 > 0\n",
    "\\end{cases}\n",
    "$\n",
    "\n",
    "$\n",
    "\\begin{cases}\n",
    "   \\ln(x^2 - 1) <= 0\\\\\n",
    "   x - 2 < 0 \n",
    "\\end{cases}\n",
    "$\n",
    "\n",
    "Находим интервалы для обеих систем:\n",
    "\n",
    "$\n",
    "\\begin{cases}\n",
    "   x \\in (-\\infty, -\\sqrt{2}] \\cup [\\sqrt(2), +\\infty] \\\\\n",
    "   x>2\n",
    "\\end{cases}\n",
    "$\n",
    "\n",
    "$\n",
    "\\begin{cases}\n",
    "   x \\in (2, +\\infty) \\\\\n",
    "   x \\in [-\\sqrt{2}; \\sqrt{2}]\n",
    "\\end{cases}\n",
    "$\n",
    "\n",
    "Получаем из 2 систем 1:\n",
    "$\n",
    "\\begin{cases}\n",
    "   x \\in (2, +\\infty) \\\\\n",
    "   x \\in [-\\sqrt{2}, \\sqrt{2}]\n",
    "\\end{cases}\n",
    "$\n",
    "\n",
    "Находим пересечение областей:\n",
    "$\n",
    "x \\in [-\\sqrt{2}, \\sqrt{2}] \\cup (2, +\\infty)\n",
    "$\n",
    "\n",
    "Объединем эти условия с прошлыми из п.1 и п.2:\n",
    "\n",
    "$\n",
    "x \\in [-\\sqrt{2}, \\sqrt{2}] \\cup (2, +\\infty),\n",
    "$\n",
    "\n",
    "$\n",
    "x \\in(-\\infty,-1)\\cup (1,2) \\cup (2,+\\infty)\n",
    "$\n",
    "\n",
    "Получаем, что функция определена на интервале:\n",
    "\n",
    "$\n",
    "x \\in [-\\sqrt{2}, -1) \\cup (1, \\sqrt{2}] \\cup (2, +\\infty)\n",
    "$\n"
   ]
  },
  {
   "cell_type": "markdown",
   "metadata": {},
   "source": [
    "## Задание 16.2 \n",
    "Найдите область значений функции."
   ]
  },
  {
   "cell_type": "markdown",
   "metadata": {
    "vscode": {
     "languageId": "plaintext"
    }
   },
   "source": [
    "Так как функция неотрицательна, то значения определены на интервале:\n",
    "\n",
    "$y \\in [0, +\\infty)$"
   ]
  },
  {
   "cell_type": "markdown",
   "metadata": {},
   "source": [
    "## Задание 16.3\n",
    "\n",
    "Определите, является ли функция четной или нечетной."
   ]
  },
  {
   "cell_type": "markdown",
   "metadata": {},
   "source": [
    "Функция $ f(x) $ называется **чётной**, если выполняется:\n",
    "\n",
    "$\n",
    "f(-x) = f(x).\n",
    "$\n",
    "\n",
    "Подставим $-x$ в функцию:\n",
    "\n",
    "$\n",
    "f(-x) = \\sqrt{\\frac{\\ln((-x)^2 - 1)}{-x - 2}}.\n",
    "$\n",
    "\n",
    "1. В числителе: $(-x)^2 = x^2$, значит:\n",
    "   $\n",
    "   \\ln((-x)^2 - 1) = \\ln(x^2 - 1).\n",
    "   $\n",
    "\n",
    "2. В знаменателе: $ -x - 2 $ не равно $ x - 2 $.\n",
    "\n",
    "Таким образом, знаменатели $ \\frac{1}{x - 2} $ и $ \\frac{1}{-x - 2} $ различны. Следовательно функция **не является чётной**\n",
    "\n",
    "---\n",
    "Функция $ f(x) $ называется **нечётной**, если выполняется:\n",
    "\n",
    "$\n",
    "f(-x) = -f(x).\n",
    "$\n",
    "\n",
    "Рассмотрим $ f(-x) $:\n",
    "\n",
    "$\n",
    "f(-x) = \\sqrt{\\frac{\\ln(x^2 - 1)}{-x - 2}}.\n",
    "$\n",
    "\n",
    "Сравним с $ -f(x) $:\n",
    "\n",
    "$\n",
    "-f(x) = -\\sqrt{\\frac{\\ln(x^2 - 1)}{x - 2}}.\n",
    "$\n",
    "\n",
    "Знаменатели $ x - 2 $ и $-x - 2$ различны\n",
    "\n",
    "$\n",
    "f(-x) \\neq -f(x),\n",
    "$\n",
    "\n",
    "и функция **не является нечётной**.\n",
    "\n",
    "Ответ:\n",
    "функция не является ни чётной, ни нечётной"
   ]
  },
  {
   "attachments": {
    "image.png": {
     "image/png": "[encoded data removed]"
    }
   },
   "cell_type": "markdown",
   "metadata": {},
   "source": [
    "# Задание 17\n",
    "В треугольнике ABC известно, что AC = BC, AH - высота, tg(BAC) = 7/24. Найдите косинус угла BAH.\n",
    "\n",
    "![image.png](attachment:image.png)"
   ]
  },
  {
   "cell_type": "markdown",
   "metadata": {},
   "source": [
    "Т.к. ABC - равнобедренный, то $BAC = ABC \\implies tg(ABC) = 7/24$\n",
    "\n",
    "$ \n",
    "tg(ABH) = 7/24 = AH/BH \\implies AH=7x, BH = 24x\n",
    "$\n",
    "\n",
    "По т. Пифагора: $(AB)^2 = (AH)^2+(BH)^2$\n",
    "\n",
    "$(AB)^2 = 49x^2+576x^2=625x^2$\n",
    "\n",
    "$AB=25x (AB>0)$\n",
    "\n",
    "$cos(BAH) = AH/AB = 7x/25x = 7/25 = 0.28$\n",
    "\n",
    "Ответ: 0.28\n"
   ]
  },
  {
   "cell_type": "markdown",
   "metadata": {},
   "source": [
    "# Задание 18\n",
    "В треугольнике со сторонами 9 и 5 проведены высоты к этим сторонам. Высота, проведённая к первой из этих сторон, равна 10. Чему равна высота, проведённая ко второй стороне?"
   ]
  },
  {
   "cell_type": "markdown",
   "metadata": {},
   "source": [
    "\n",
    "1. Найдём площадь треугольника $ S $ с помощью высоты $ h_a $:\n",
    "   \n",
    "   $\n",
    "   S = \\frac{1}{2} \\cdot a \\cdot h_a = \\frac{1}{2} \\cdot 9 \\cdot 10 = 45\n",
    "   $\n",
    "\n",
    "2. Теперь выразим площадь $ S $ через высоту $ h_b $ и сторону $ b $:\n",
    "   \n",
    "   $\n",
    "   S = \\frac{1}{2} \\cdot b \\cdot h_b = \\frac{1}{2} \\cdot 5 \\cdot h_b\n",
    "   $\n",
    "\n",
    "3. Приравняем два выражения для площади:\n",
    "   \n",
    "   $\n",
    "   45 = \\frac{1}{2} \\cdot 5 \\cdot h_b\n",
    "   $\n",
    "\n",
    "4. Умножим обе стороны на $ 2 $:\n",
    "\n",
    "   $\n",
    "   90 = 5 \\cdot h_b\n",
    "   $\n",
    "\n",
    "5. Разделим обе стороны на $ 5 $:\n",
    "   \n",
    "   $\n",
    "   h_b = \\frac{90}{5} = 18\n",
    "   $\n",
    "\n",
    "Ответ: $h_b = 18$"
   ]
  },
  {
   "cell_type": "markdown",
   "metadata": {},
   "source": [
    "# Задание 19\n",
    "Найдите объём правильной треугольной пирамиды, стороны основания которой равны 1, а высота равна $\\sqrt{3}$"
   ]
  },
  {
   "cell_type": "markdown",
   "metadata": {},
   "source": [
    "Используем формулу:\n",
    "\n",
    "$\n",
    "V = \\frac{1}{3} S h\n",
    "$\n",
    "\n",
    "где $ S $ — площадь основания, а $ h $ — высота пирамиды.\n",
    "\n",
    "Основание пирамиды является правильным треугольником со стороной $ a = 1 $.\n",
    "\n",
    "Площадь правильного треугольника вычисляется по формуле:\n",
    "\n",
    "$\n",
    "S = \\frac{\\sqrt{3}}{4} a^2\n",
    "$\n",
    "\n",
    "Подставим значение стороны:\n",
    "\n",
    "$\n",
    "S = \\frac{\\sqrt{3}}{4} \\cdot 1^2 = \\frac{\\sqrt{3}}{4}\n",
    "$\n",
    "\n",
    "\n",
    "Высота $ h = \\sqrt{3} $:\n",
    "\n",
    "$\n",
    "V = \\frac{1}{3} S h = \\frac{1}{3} \\cdot \\frac{\\sqrt{3}}{4} \\cdot \\sqrt{3}\n",
    "$\n",
    "\n",
    "$\n",
    "V = \\frac{1}{3} \\cdot \\frac{\\sqrt{3} \\cdot \\sqrt{3}}{4} = \\frac{1}{3} \\cdot \\frac{3}{4} = \\frac{3}{12} = \\frac{1}{4}\n",
    "$\n",
    "\n",
    "\n",
    "Ответ: $\\frac{1}{4}$\n"
   ]
  },
  {
   "cell_type": "markdown",
   "metadata": {},
   "source": [
    "# Задание 20\n",
    "В равнобедренной трапеции основания равны 12 и 27, острый угол равен 60 градусам.\n",
    "\n",
    "Найдите её периметр"
   ]
  },
  {
   "cell_type": "markdown",
   "metadata": {},
   "source": [
    "Назовем трапецию ABCD, где A - острый угол = D\n",
    "\n",
    "Из вершины В опустим высоту ВЕ\n",
    "\n",
    "$АЕ = (AD - BC) / 2$\n",
    "\n",
    "$AE = (27 - 12) / 2 = 15 / 2 = 7.5$\n",
    "\n",
    "Рассмотрим прямоугольный треугольник АВЕ:\n",
    "\n",
    "Угол А = 60 градусов, значит угол В = 90-60 = 30 градусов\n",
    "\n",
    "Катет, лежащий против угла в 30 градусов равен половине гипотенузы, значит $АВ = 2 * АЕ$\n",
    "\n",
    "$АВ = 2 * 7.5 = 15$\n",
    "\n",
    "Периметр трапеции равен: \n",
    "\n",
    "$2 * АВ + ВС + AD = 2 * 15 + 12 + 27 = 69$\n",
    "\n",
    "Ответ: 69"
   ]
  }
 ],
 "metadata": {
  "language_info": {
   "name": "python"
  }
 },
 "nbformat": 4,
 "nbformat_minor": 2
}
