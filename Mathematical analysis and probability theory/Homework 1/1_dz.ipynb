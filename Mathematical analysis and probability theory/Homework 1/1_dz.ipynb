{
 "cells": [
  {
   "cell_type": "code",
   "execution_count": 19,
   "id": "773fba58",
   "metadata": {},
   "outputs": [],
   "source": [
    "from sympy import symbols, diff, solve, Eq\n",
    "import pandas as pd\n",
    "import numpy as np\n",
    "import matplotlib.pyplot as plt"
   ]
  },
  {
   "cell_type": "markdown",
   "id": "0dee24c0-e9bf-427b-9b04-43e4c8220228",
   "metadata": {
    "id": "0dee24c0-e9bf-427b-9b04-43e4c8220228"
   },
   "source": [
    "# Домашнее задание"
   ]
  },
  {
   "cell_type": "markdown",
   "id": "feafcfd9-2d32-4682-bcd0-07a0c9bbd32c",
   "metadata": {
    "id": "feafcfd9-2d32-4682-bcd0-07a0c9bbd32c"
   },
   "source": [
    "Математический анализ\n",
    "69 баллов"
   ]
  },
  {
   "cell_type": "markdown",
   "id": "b2345ed9-1018-4084-9636-7e7b92bd6c64",
   "metadata": {
    "id": "b2345ed9-1018-4084-9636-7e7b92bd6c64"
   },
   "source": [
    "**Задача 1** (14 баллов)\n",
    "\n",
    "Найдите экстремумы функции:"
   ]
  },
  {
   "cell_type": "markdown",
   "id": "e25e75bf-9d1e-4511-8846-8bfe99ae17f8",
   "metadata": {
    "id": "e25e75bf-9d1e-4511-8846-8bfe99ae17f8"
   },
   "source": [
    "$$\n",
    "f(x, y, z)=2 x^3+2 x y+2 x z+y^2+z^2+2 y-8 .\n",
    "$$"
   ]
  },
  {
   "cell_type": "markdown",
   "id": "ce92b07d-f19e-4f72-ab80-d04d0bae9984",
   "metadata": {
    "id": "ce92b07d-f19e-4f72-ab80-d04d0bae9984"
   },
   "source": [
    "Распишите подробное решение."
   ]
  },
  {
   "cell_type": "markdown",
   "id": "fae7c82f",
   "metadata": {},
   "source": [
    "Для поиска экстремумов нужно:\n",
    "1. Найти частные производные $f_x, f_y, f_z$.\n",
    "2. Приравнять их к нулю, решив систему уравнений.\n",
    "\n",
    "**Находим частные производные**\n",
    "\n",
    "- $f_x = \\frac{\\partial f}{\\partial x} = 6x^2 + 2y + 2z,$\n",
    "- $f_y = \\frac{\\partial f}{\\partial y} = 2x + 2y + 2, $\n",
    "- $f_z = \\frac{\\partial f}{\\partial z} = 2x + 2z$\n",
    "\n",
    "\n",
    "**Решаем систему уравнений**\n",
    "\n",
    "- $ 6x^2 + 2y + 2z = 0, $\n",
    "- $ 2x + 2y + 2 = 0, $\n",
    "- $ 2x + 2z = 0.$\n",
    "\n",
    "Из 3-го уравнения $z=-x$  \n",
    "Подставим $z=-x$ в уравнение 2:  \n",
    "$2x + 2y + 2 = 0 \\implies y = -x - 1$\n",
    "\n",
    "Теперь подставим $y = -x - 1 $ и $ z = -x $ в уравнение 1:  \n",
    "$6x^2 + 2(-x - 1) + 2(-x) = 0 \\implies 6x^2 - 2x - 2 + (-2x) = 0 \\implies 6x^2 - 4x - 2 = 0$\n",
    "\n",
    "Разделим на 2:\n",
    "$3x^2 - 2x - 1 = 0$\n",
    "\n",
    "Решим квадратное уравнение:\n",
    "$x = \\frac{-(-2) \\pm \\sqrt{(-2)^2 - 4 \\cdot 3 \\cdot (-1)}}{2 \\cdot 3} = \\frac{2 \\pm \\sqrt{4 + 12}}{6} = \\frac{2 \\pm \\sqrt{16}}{6} = \\frac{2 \\pm 4}{6}$\n",
    "\n",
    "Получаем:\n",
    "$x_1 = 1, \\quad x_2 = -\\frac{1}{3}$\n",
    "\n",
    "Найдем соответствующие значения $y$ и $z$:\n",
    "- При $x = 1$: $y = -1 - 1 = -2$, $z = -1$\n",
    "- При $x = -\\frac{1}{3}$: $y = \\frac{1}{3} - 1 = -\\frac{2}{3}$, $z = \\frac{1}{3}$\n",
    "\n",
    "Экстремумы:\n",
    "$(1, -2, -1), \\quad \\left(-\\frac{1}{3}, -\\frac{2}{3}, \\frac{1}{3}\\right)$"
   ]
  },
  {
   "cell_type": "code",
   "execution_count": 4,
   "id": "0eddb54d-58f6-47ed-bef4-cb262d500cbe",
   "metadata": {
    "id": "0eddb54d-58f6-47ed-bef4-cb262d500cbe"
   },
   "outputs": [
    {
     "name": "stdout",
     "output_type": "stream",
     "text": [
      "Экстремумы:  [(-1/3, -2/3, 1/3), (1, -2, -1)]\n"
     ]
    }
   ],
   "source": [
    "# Определение переменных и функции\n",
    "x, y, z = symbols(\"x y z\")\n",
    "f = 2 * x**3 + 2 * x * y + 2 * x * z + y**2 + z**2 + 2 * y - 8\n",
    "\n",
    "# Частные производные\n",
    "fx = diff(f, x)\n",
    "fy = diff(f, y)\n",
    "fz = diff(f, z)\n",
    "\n",
    "# Решение системы уравнений\n",
    "solutions = solve([fx, fy, fz], (x, y, z))\n",
    "print(\"Экстремумы: \", solutions)"
   ]
  },
  {
   "cell_type": "markdown",
   "id": "b38584b7-0da5-4858-9422-ff5bc2b3854f",
   "metadata": {
    "id": "b38584b7-0da5-4858-9422-ff5bc2b3854f"
   },
   "source": [
    "**Задача 2** (25 баллов)\n",
    "\n",
    "Найдите условные экстремумы функции:"
   ]
  },
  {
   "cell_type": "markdown",
   "id": "b36ed820-965b-484d-baab-b2cafebe7479",
   "metadata": {
    "id": "b36ed820-965b-484d-baab-b2cafebe7479"
   },
   "source": [
    "$$\n",
    "f(x, y)=4 x+8 y, y^2-2 x y+5=0\n",
    "$$"
   ]
  },
  {
   "cell_type": "markdown",
   "id": "2ce1c6f1-d126-4368-a63e-2bbbefffd542",
   "metadata": {
    "id": "2ce1c6f1-d126-4368-a63e-2bbbefffd542"
   },
   "source": [
    "Вычислите результат самостоятельно (вручную) и с помощью Python. Сравните результаты."
   ]
  },
  {
   "cell_type": "markdown",
   "id": "75268c5d",
   "metadata": {},
   "source": [
    "Для нахождения условных экстремумов функции  используем метод Лагранжа. \n",
    "\n",
    "\n",
    "\n",
    "**Составленяем функцию Лагранжа:**  \n",
    "\n",
    "$\n",
    "\\mathcal{L}(x, y, \\lambda) = f(x, y) + \\lambda g(x, y) = 4x + 8y + \\lambda (y^2 - 2xy + 5).\n",
    "$\n",
    "\n",
    "**Частные производные:**  \n",
    "\n",
    "$\n",
    "\\frac{\\partial \\mathcal{L}}{\\partial x} = 4 - 2\\lambda y = 0, \\quad \\\\\n",
    "\\frac{\\partial \\mathcal{L}}{\\partial y} = 8 + 2\\lambda y - 2\\lambda x = 0, \\quad \\\\\n",
    "\\frac{\\partial \\mathcal{L}}{\\partial \\lambda} = y^2 - 2xy + 5 = 0\n",
    "$\n",
    "\n",
    "\n",
    "\n",
    "**Система уравнений:**  \n",
    "\n",
    "$1.\\ 4 - 2\\lambda y = 0, \\quad \\Rightarrow \\lambda = \\frac{2}{y} $\n",
    "\n",
    "$2.\\ 8 + 2\\lambda y - 2\\lambda x = 0, \\quad$\n",
    "\n",
    "$3.\\ y^2 - 2xy + 5 = 0$  \n",
    "\n",
    "Подставим $ \\lambda = \\frac{2}{y} $ во второе уравнение:\n",
    "\n",
    "$8 + 2\\lambda y - 2\\lambda x = 0 \\quad \\Rightarrow \\quad 8 + 4 - \\frac{4x}{y} = 0$\n",
    "\n",
    "Упростим:\n",
    "\n",
    "$\\frac{4x}{y} = 12 \\quad \\Rightarrow \\quad x = 3y$\n",
    "\n",
    "Теперь подставим $x = 3y$ в уравнение условия $y^2 - 2xy + 5 = 0$:\n",
    "\n",
    "$y^2 - 2(3y)y + 5 = 0 \\quad \\Rightarrow \\quad y^2 - 6y^2 + 5 = 0$\n",
    "\n",
    "$-5y^2 + 5 = 0 \\quad \\Rightarrow \\quad y^2 = 1 \\Rightarrow$\n",
    "$y = \\pm 1$\n",
    "\n",
    "Найдем соответствующие $x$:  \n",
    "- Если $ y = 1 $, то $ x = 3y = 3$\n",
    "- Если $ y = -1 $, то $ x = 3y = -3$\n",
    "\n",
    "Условные экстремумы: $(-3, -1), (3, 1)$"
   ]
  },
  {
   "cell_type": "code",
   "execution_count": 7,
   "id": "818929f6-c478-49ad-997e-536d3c4f7f33",
   "metadata": {
    "id": "818929f6-c478-49ad-997e-536d3c4f7f33"
   },
   "outputs": [
    {
     "name": "stdout",
     "output_type": "stream",
     "text": [
      "Условные экстремумы:  [(-3, -1), (3, 1)]\n"
     ]
    }
   ],
   "source": [
    "x, y, lambd = symbols(\"x y lambda\")\n",
    "\n",
    "# Функция и условие\n",
    "f = 4 * x + 8 * y  # Целевая функция\n",
    "g = y**2 - 2 * x * y + 5  # Условие\n",
    "\n",
    "# Вывод уравнений для Лагранжа\n",
    "lagrange_eq1 = Eq(4 - 2 * lambd * y, 0)  # dL/dx = 0\n",
    "lagrange_eq2 = Eq(8 + 2 * lambd * y - 2 * lambd * x, 0)  # dL/dy = 0\n",
    "lagrange_eq3 = Eq(g, 0)  # Условие\n",
    "\n",
    "# Подставляем lambda = 2/y из первого уравнения в остальные\n",
    "lambda_expr = solve(lagrange_eq1, lambd)[0]  # lambda = 2/y\n",
    "eq2_sub = lagrange_eq2.subs(lambd, lambda_expr)  # Подставляем в уравнение 2\n",
    "x_expr = solve(eq2_sub, x)[0]  # Выражаем x через y\n",
    "\n",
    "# Подставляем x в уравнение 3 (условие)\n",
    "g_sub = lagrange_eq3.subs(x, x_expr)\n",
    "y_solutions = solve(g_sub, y)  # Решаем для y\n",
    "\n",
    "# Находим x для каждого y\n",
    "extrema_points = [(x_expr.subs(y, y_val), y_val) for y_val in y_solutions]\n",
    "\n",
    "print(\"Условные экстремумы: \", extrema_points)"
   ]
  },
  {
   "cell_type": "markdown",
   "id": "818083c3-7318-4669-bb15-5a8a48ef543d",
   "metadata": {
    "id": "818083c3-7318-4669-bb15-5a8a48ef543d"
   },
   "source": [
    "**Задача 3** (30 баллов)\n",
    "\n",
    "Вам предложены данные с информацией о успеваемости студентов:\n",
    "\n",
    "Независимые переменные:\n",
    "* Hours Studied: Общее количество часов, потраченных на учебу каждым студентом.\n",
    "* Previous Scores: Баллы, полученные студентами на предыдущих экзаменах.\n",
    "* Sleep Hours: Среднее количество часов сна студента в сутки.\n",
    "* Sample Question Papers Practiced: Количество пробных экзаменационных работ, с которыми студент занимался.\n",
    "  \n",
    "Целевая переменная:\n",
    "* Performance Index: Показатель общей успеваемости каждого студента. Индекс успеваемости отражает академическую успеваемость студента и округляется до ближайшего целого числа. Индекс варьируется от 10 до 100, при этом более высокие значения свидетельствуют о более высокой успеваемости."
   ]
  },
  {
   "cell_type": "markdown",
   "id": "f65c2300-43b2-4c43-b762-1e20d29ae889",
   "metadata": {
    "id": "f65c2300-43b2-4c43-b762-1e20d29ae889"
   },
   "source": [
    "**Решите задачу линейной регрессии, реализовав градиентный спуск самостоятельно, не используя готовое решение из какой-либо библиотеки.**"
   ]
  },
  {
   "cell_type": "code",
   "execution_count": 45,
   "id": "64e087ab",
   "metadata": {},
   "outputs": [],
   "source": [
    "from sklearn.model_selection import train_test_split\n",
    "from sklearn.linear_model import LinearRegression\n",
    "from sklearn.metrics import mean_squared_error, r2_score"
   ]
  },
  {
   "cell_type": "code",
   "execution_count": 70,
   "id": "3900c065-fb9b-45bf-bc1f-a9c9d0ab5c20",
   "metadata": {
    "id": "3900c065-fb9b-45bf-bc1f-a9c9d0ab5c20"
   },
   "outputs": [
    {
     "data": {
      "text/html": [
       "<div>\n",
       "<style scoped>\n",
       "    .dataframe tbody tr th:only-of-type {\n",
       "        vertical-align: middle;\n",
       "    }\n",
       "\n",
       "    .dataframe tbody tr th {\n",
       "        vertical-align: top;\n",
       "    }\n",
       "\n",
       "    .dataframe thead th {\n",
       "        text-align: right;\n",
       "    }\n",
       "</style>\n",
       "<table border=\"1\" class=\"dataframe\">\n",
       "  <thead>\n",
       "    <tr style=\"text-align: right;\">\n",
       "      <th></th>\n",
       "      <th>Hours Studied</th>\n",
       "      <th>Previous Scores</th>\n",
       "      <th>Extracurricular Activities</th>\n",
       "      <th>Sleep Hours</th>\n",
       "      <th>Sample Question Papers Practiced</th>\n",
       "      <th>Performance Index</th>\n",
       "    </tr>\n",
       "  </thead>\n",
       "  <tbody>\n",
       "    <tr>\n",
       "      <th>8502</th>\n",
       "      <td>6</td>\n",
       "      <td>78</td>\n",
       "      <td>No</td>\n",
       "      <td>7</td>\n",
       "      <td>0</td>\n",
       "      <td>66.0</td>\n",
       "    </tr>\n",
       "    <tr>\n",
       "      <th>1566</th>\n",
       "      <td>8</td>\n",
       "      <td>94</td>\n",
       "      <td>Yes</td>\n",
       "      <td>7</td>\n",
       "      <td>4</td>\n",
       "      <td>83.0</td>\n",
       "    </tr>\n",
       "    <tr>\n",
       "      <th>2680</th>\n",
       "      <td>2</td>\n",
       "      <td>53</td>\n",
       "      <td>Yes</td>\n",
       "      <td>5</td>\n",
       "      <td>9</td>\n",
       "      <td>30.0</td>\n",
       "    </tr>\n",
       "    <tr>\n",
       "      <th>3089</th>\n",
       "      <td>1</td>\n",
       "      <td>70</td>\n",
       "      <td>No</td>\n",
       "      <td>9</td>\n",
       "      <td>4</td>\n",
       "      <td>44.0</td>\n",
       "    </tr>\n",
       "    <tr>\n",
       "      <th>9037</th>\n",
       "      <td>9</td>\n",
       "      <td>41</td>\n",
       "      <td>Yes</td>\n",
       "      <td>7</td>\n",
       "      <td>4</td>\n",
       "      <td>42.0</td>\n",
       "    </tr>\n",
       "  </tbody>\n",
       "</table>\n",
       "</div>"
      ],
      "text/plain": [
       "      Hours Studied  Previous Scores Extracurricular Activities  Sleep Hours  \\\n",
       "8502              6               78                         No            7   \n",
       "1566              8               94                        Yes            7   \n",
       "2680              2               53                        Yes            5   \n",
       "3089              1               70                         No            9   \n",
       "9037              9               41                        Yes            7   \n",
       "\n",
       "      Sample Question Papers Practiced  Performance Index  \n",
       "8502                                 0               66.0  \n",
       "1566                                 4               83.0  \n",
       "2680                                 9               30.0  \n",
       "3089                                 4               44.0  \n",
       "9037                                 4               42.0  "
      ]
     },
     "execution_count": 70,
     "metadata": {},
     "output_type": "execute_result"
    }
   ],
   "source": [
    "data = pd.read_csv(\"data/Student_Performance.txt\")\n",
    "data.sample(5)"
   ]
  },
  {
   "cell_type": "markdown",
   "id": "5fa73a4a",
   "metadata": {},
   "source": [
    "Посмотрим на признаки:"
   ]
  },
  {
   "cell_type": "code",
   "execution_count": 17,
   "id": "858110ed",
   "metadata": {},
   "outputs": [
    {
     "name": "stdout",
     "output_type": "stream",
     "text": [
      "<class 'pandas.core.frame.DataFrame'>\n",
      "RangeIndex: 10000 entries, 0 to 9999\n",
      "Data columns (total 6 columns):\n",
      " #   Column                            Non-Null Count  Dtype  \n",
      "---  ------                            --------------  -----  \n",
      " 0   Hours Studied                     10000 non-null  int64  \n",
      " 1   Previous Scores                   10000 non-null  int64  \n",
      " 2   Extracurricular Activities        10000 non-null  object \n",
      " 3   Sleep Hours                       10000 non-null  int64  \n",
      " 4   Sample Question Papers Practiced  10000 non-null  int64  \n",
      " 5   Performance Index                 10000 non-null  float64\n",
      "dtypes: float64(1), int64(4), object(1)\n",
      "memory usage: 468.9+ KB\n"
     ]
    }
   ],
   "source": [
    "data.info()"
   ]
  },
  {
   "cell_type": "markdown",
   "id": "c8337e6e",
   "metadata": {},
   "source": [
    "Они являются числовыми, столбец типа object не будет использоваться по условию задания"
   ]
  },
  {
   "cell_type": "markdown",
   "id": "d04ac2f2",
   "metadata": {},
   "source": [
    "Проверяем наличие пропусков:"
   ]
  },
  {
   "cell_type": "code",
   "execution_count": 21,
   "id": "a321b618",
   "metadata": {},
   "outputs": [
    {
     "data": {
      "text/plain": [
       "Hours Studied                       0\n",
       "Previous Scores                     0\n",
       "Extracurricular Activities          0\n",
       "Sleep Hours                         0\n",
       "Sample Question Papers Practiced    0\n",
       "Performance Index                   0\n",
       "dtype: int64"
      ]
     },
     "execution_count": 21,
     "metadata": {},
     "output_type": "execute_result"
    }
   ],
   "source": [
    "data.isnull().sum()"
   ]
  },
  {
   "cell_type": "markdown",
   "id": "ce6bea20",
   "metadata": {},
   "source": [
    "Пропуски в данных отсутствуют"
   ]
  },
  {
   "cell_type": "code",
   "execution_count": 71,
   "id": "5ed3cb1a",
   "metadata": {},
   "outputs": [],
   "source": [
    "# Признаки и целевая переменная\n",
    "X = data[\n",
    "    [\n",
    "        \"Hours Studied\",\n",
    "        \"Previous Scores\",\n",
    "        \"Sleep Hours\",\n",
    "        \"Sample Question Papers Practiced\",\n",
    "    ]\n",
    "].values\n",
    "y = data[\"Performance Index\"].values"
   ]
  },
  {
   "cell_type": "code",
   "execution_count": 72,
   "id": "cd74ec9f",
   "metadata": {},
   "outputs": [],
   "source": [
    "# Нормализация данных\n",
    "X = (X - X.mean(axis=0)) / X.std(axis=0)\n",
    "X = np.c_[np.ones(X.shape[0]), X]  # Добавляем единичный столбец для смещения (bias)"
   ]
  },
  {
   "cell_type": "code",
   "execution_count": 73,
   "id": "e783a37f",
   "metadata": {},
   "outputs": [],
   "source": [
    "# Разделение на обучающую и тестовую выборки\n",
    "X_train, X_test, y_train, y_test = train_test_split(X, y, test_size=0.2, random_state=42)"
   ]
  },
  {
   "cell_type": "code",
   "execution_count": 74,
   "id": "aef241ae",
   "metadata": {},
   "outputs": [],
   "source": [
    "# Инициализация параметров\n",
    "theta = np.zeros(X.shape[1])  # Начальные значения для коэффициентов\n",
    "learning_rate = 0.01  # Шаг обучения\n",
    "iterations = 1000  # Количество итераций"
   ]
  },
  {
   "cell_type": "code",
   "execution_count": 75,
   "id": "af585f27",
   "metadata": {},
   "outputs": [],
   "source": [
    "# Реализация функции ошибки (среднеквадратичная ошибка)\n",
    "def compute_cost(X, y, theta):\n",
    "    m = len(y)\n",
    "    predictions = X.dot(theta)\n",
    "    error = predictions - y\n",
    "    cost = (1 / (2 * m)) * np.sum(error**2)\n",
    "    return cost"
   ]
  },
  {
   "cell_type": "code",
   "execution_count": 76,
   "id": "d03ebfff",
   "metadata": {},
   "outputs": [],
   "source": [
    "# Градиентный спуск\n",
    "def gradient_descent(X, y, theta, learning_rate, iterations):\n",
    "    m = len(y)\n",
    "    cost_history = np.zeros(iterations)\n",
    "\n",
    "    for i in range(iterations):\n",
    "        predictions = X.dot(theta)\n",
    "        error = predictions - y\n",
    "        gradient = (1 / m) * X.T.dot(error)\n",
    "        theta -= learning_rate * gradient\n",
    "        cost_history[i] = compute_cost(X, y, theta)\n",
    "\n",
    "    return theta, cost_history"
   ]
  },
  {
   "cell_type": "code",
   "execution_count": 77,
   "id": "9678bd15",
   "metadata": {},
   "outputs": [],
   "source": [
    "# Обучение модели\n",
    "theta, cost_history = gradient_descent(X_train, y_train, theta, learning_rate, iterations)\n",
    "\n",
    "# Оценка модели\n",
    "y_train_pred = X_train.dot(theta)\n",
    "y_test_pred = X_test.dot(theta)\n",
    "\n",
    "# Среднеквадратичная ошибка и R2 для тестовой выборки\n",
    "mse_test = mean_squared_error(y_test, y_test_pred)\n",
    "r2_test = r2_score(y_test, y_test_pred)"
   ]
  },
  {
   "cell_type": "code",
   "execution_count": 78,
   "id": "e9f97bf8",
   "metadata": {},
   "outputs": [
    {
     "data": {
      "image/png": "[encoded data removed]",
      "text/plain": [
       "<Figure size 640x480 with 1 Axes>"
      ]
     },
     "metadata": {},
     "output_type": "display_data"
    }
   ],
   "source": [
    "# Визуализация изменения ошибки на каждой итерации\n",
    "plt.plot(range(iterations), cost_history, color='blue')\n",
    "plt.xlabel('Количество итераций')\n",
    "plt.ylabel('Ошибка')\n",
    "plt.title('Изменение ошибки на каждой итерации')\n",
    "plt.show()"
   ]
  },
  {
   "cell_type": "code",
   "execution_count": 80,
   "id": "360c2ee6",
   "metadata": {},
   "outputs": [
    {
     "name": "stdout",
     "output_type": "stream",
     "text": [
      "Коэффициенты модели (theta): [55.23830455  7.38615123 17.63701614  0.80279009  0.5501177 ]\n",
      "Среднеквадратичная ошибка на тестовой выборке: 4.182029972838589\n",
      "R-squared на тестовой выборке: 0.9887150622292165\n"
     ]
    }
   ],
   "source": [
    "print(f\"Коэффициенты модели (theta): {theta}\")\n",
    "print(f\"Среднеквадратичная ошибка на тестовой выборке: {mse_test}\")\n",
    "print(f\"R-squared на тестовой выборке: {r2_test}\")\n"
   ]
  },
  {
   "cell_type": "code",
   "execution_count": 81,
   "id": "06a5b3a5",
   "metadata": {},
   "outputs": [],
   "source": [
    "# Сравнение с использованием sklearn\n",
    "sklearn_model = LinearRegression()\n",
    "sklearn_model.fit(X_train[:, 1:], y_train)  # Модель из sklearn\n",
    "y_sklearn_pred = sklearn_model.predict(X_test[:, 1:])"
   ]
  },
  {
   "cell_type": "code",
   "execution_count": 82,
   "id": "47e848b3",
   "metadata": {},
   "outputs": [
    {
     "name": "stdout",
     "output_type": "stream",
     "text": [
      "Среднеквадратичная ошибка (sklearn): 4.182254914593824\n",
      "R-squared (sklearn): 0.9887144552384186\n",
      "Коэффициенты (sklearn): [ 7.3866529  17.6377233   0.80264289  0.54971847]\n",
      "Коэффициенты (градиентный спуск): [55.23830455  7.38615123 17.63701614  0.80279009  0.5501177 ]\n"
     ]
    }
   ],
   "source": [
    "mse_sklearn = mean_squared_error(y_test, y_sklearn_pred)\n",
    "r2_sklearn = r2_score(y_test, y_sklearn_pred)\n",
    "\n",
    "print(f\"Среднеквадратичная ошибка (sklearn): {mse_sklearn}\")\n",
    "print(f\"R-squared (sklearn): {r2_sklearn}\")\n",
    "\n",
    "# Сравнение коэффициентов\n",
    "print(f\"Коэффициенты (sklearn): {sklearn_model.coef_}\")\n",
    "print(f\"Коэффициенты (градиентный спуск): {theta}\")"
   ]
  },
  {
   "cell_type": "markdown",
   "id": "b3164832",
   "metadata": {},
   "source": [
    "Коэффициенты модели при применении библиотеки и реализации вручную одинаковые, что может говорить о высоком качестве модели"
   ]
  }
 ],
 "metadata": {
  "colab": {
   "provenance": []
  },
  "kernelspec": {
   "display_name": "base",
   "language": "python",
   "name": "python3"
  },
  "language_info": {
   "codemirror_mode": {
    "name": "ipython",
    "version": 3
   },
   "file_extension": ".py",
   "mimetype": "text/x-python",
   "name": "python",
   "nbconvert_exporter": "python",
   "pygments_lexer": "ipython3",
   "version": "3.12.7"
  }
 },
 "nbformat": 4,
 "nbformat_minor": 5
}
