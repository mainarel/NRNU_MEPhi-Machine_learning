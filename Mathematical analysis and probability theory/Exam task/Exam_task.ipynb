{
 "cells": [
  {
   "cell_type": "markdown",
   "metadata": {},
   "source": [
    "# Задание 1\n",
    "Найдите производные функций. Подробно распишите решение. Задание должно быть решено без использования Python."
   ]
  },
  {
   "cell_type": "markdown",
   "metadata": {},
   "source": [
    "$$ a) \\ y = e^{\\ln{3x+1}} $$"
   ]
  },
  {
   "cell_type": "markdown",
   "metadata": {},
   "source": [
    "**Упростим выражение:**  \n",
    "\n",
    "По свойству логарифма и экспоненты $ e^{\\ln(u)} = u $, если $ u > 0 $ Поэтому:  \n",
    "$y = 3x + 1$\n",
    "\n",
    "**Найдем производную:**  \n",
    "\n",
    "$y' = \\frac{d}{dx}(3x + 1) = 3$\n",
    "\n",
    "$y' = 3$"
   ]
  },
  {
   "cell_type": "markdown",
   "metadata": {},
   "source": [
    "$$ б) \\ y = e^{x^2}\\sqrt{(x^3+4x^2-7)} $$"
   ]
  },
  {
   "cell_type": "markdown",
   "metadata": {},
   "source": [
    "***Применим правило произведения***  \n",
    "\n",
    "$\\frac{d}{dx}(u \\cdot v) = u' \\cdot v + u \\cdot v'$  \n",
    "\n",
    "Здесь:  \n",
    "$u(x) = e^{x^2}, \\quad v(x) = (x^3 + 4x^2 - 7)^{1/2}$\n",
    "\n",
    "***Производная*** $ u(x) $:\n",
    "$\n",
    "u'(x) = \\frac{d}{dx} \\left(e^{x^2}\\right) = e^{x^2} \\cdot 2x\n",
    "$\n",
    "\n",
    "***Производная*** $ v(x) $:  \n",
    "\n",
    "$v'(x) = \\frac{d}{dx} \\left( (x^3 + 4x^2 - 7)^{1/2} \\right)$\n",
    "\n",
    "$v'(x) = \\frac{1}{2}(x^3 + 4x^2 - 7)^{-1/2} \\cdot \\frac{d}{dx}(x^3 + 4x^2 - 7) = \\frac{1}{2}(x^3 + 4x^2 - 7)^{-1/2} \\cdot (3x^2 + 8x)\n",
    "$\n",
    "\n",
    "***Сложим производные***\n",
    "\n",
    "$y' = \\left(e^{x^2} \\cdot 2x\\right) \\cdot (x^3 + 4x^2 - 7)^{1/2} + e^{x^2} \\cdot \\left[\\frac{1}{2}(x^3 + 4x^2 - 7)^{-1/2} \\cdot (3x^2 + 8x)\\right] $\n",
    "\n",
    "***Упростим***\n",
    "Вынесем общий множитель $ e^{x^2} $:\n",
    "\n",
    "$y' = e^{x^2} \\left[ 2x(x^3 + 4x^2 - 7)^{1/2} + \\frac{(3x^2 + 8x)}{2(x^3 + 4x^2 - 7)^{1/2}} \\right]$\n",
    "\n",
    "**Ответ:**\n",
    "$y' = e^{x^2} \\left[ \\frac{4x^4+16x^3-20x+3x^2}{2(x^3 + 4x^2 - 7)^{1/2}} \\right]$"
   ]
  },
  {
   "cell_type": "markdown",
   "metadata": {},
   "source": [
    "$$в) \\ y = \\frac{x\\sqrt{1-x^2}}{1+x^2}$$"
   ]
  },
  {
   "cell_type": "markdown",
   "metadata": {},
   "source": [
    "***Применение правила производной частного***\n",
    "\n",
    "Для функции $ y = \\frac{u(x)}{v(x)} $, производная задается формулой:\n",
    "$\n",
    "\\frac{d}{dx}\\left(\\frac{u}{v}\\right) = \\frac{u'v - uv'}{v^2}\n",
    "$\n",
    "\n",
    "Здесь:\n",
    "$\n",
    "u(x) = x\\sqrt{1-x^2}, \\quad v(x) = 1+x^2\n",
    "$\n",
    "\n",
    "***Найдем*** $ u'(x) $:\n",
    "\n",
    "Используем правило произведения: $ u' = u_1' u_2 + u_1 u_2' $, где $ u_1 = x $ и $ u_2 = \\sqrt{1-x^2} $\n",
    "\n",
    "1. Производная $ u_1 = x $:\n",
    "$\n",
    "u_1' = 1\n",
    "$\n",
    "\n",
    "1. Производная $ u_2 = \\sqrt{1-x^2} $:\n",
    "$\n",
    "u_2 = (1-x^2)^{1/2}, \\quad u_2' = \\frac{1}{2}(1-x^2)^{-1/2} \\cdot (-2x) = \\frac{-x}{\\sqrt{1-x^2}}\n",
    "$\n",
    "\n",
    "Теперь подставим:\n",
    "$\n",
    "u'(x) = 1 \\cdot \\sqrt{1-x^2} + x \\cdot \\frac{-x}{\\sqrt{1-x^2}} = \\sqrt{1-x^2} - \\frac{x^2}{\\sqrt{1-x^2}}\n",
    "$\n",
    "\n",
    "Приведем к общему знаменателю:\n",
    "$\n",
    "u'(x) = \\frac{(1-x^2) - x^2}{\\sqrt{1-x^2}} = \\frac{1-2x^2}{\\sqrt{1-x^2}}\n",
    "$\n",
    "\n",
    "***Найдем*** $ v'(x) $:\n",
    "$\n",
    "v(x) = 1+x^2, \\quad v'(x) = 2x\n",
    "$\n",
    "\n",
    "***Подставим в формулу производной частного***\n",
    "\n",
    "$\n",
    "y' = \\frac{u'v - uv'}{v^2}\n",
    "$\n",
    "\n",
    "$\n",
    "y' = \\frac{\\left(\\frac{1-2x^2}{\\sqrt{1-x^2}}\\right)(1+x^2) - \\left(x\\sqrt{1-x^2}\\right)(2x)}{(1+x^2)^2}\n",
    "$\n",
    "\n",
    "1. Упростим числитель:\n",
    "$\n",
    "\\frac{(1-2x^2)(1+x^2)}{\\sqrt{1-x^2}} - \\frac{2x^2\\sqrt{1-x^2}}{\\sqrt{1-x^2}}\n",
    "= \\frac{(1-2x^2)(1+x^2) - 2x^2(1-x^2)}{\\sqrt{1-x^2}}.\n",
    "$\n",
    "\n",
    "1. Раскроем скобки:\n",
    "$\n",
    "(1-2x^2)(1+x^2) = 1 + x^2 - 2x^2 - 2x^4 = 1 - x^2 - 2x^4\n",
    "$\n",
    "\n",
    "$\n",
    "-2x^2(1-x^2) = -2x^2 + 2x^4\n",
    "$\n",
    "\n",
    "Итак, числитель:\n",
    "$\n",
    "1 - x^2 - 2x^4 - 2x^2 + 2x^4 = 1 - x^2 - 2x^2 = 1 - 3x^2\n",
    "$\n",
    "\n",
    "\n",
    "**Ответ:**\n",
    "$\n",
    "y' = \\frac{1 - 3x^2}{\\sqrt{1-x^2}(1+x^2)^2}.\n",
    "$"
   ]
  },
  {
   "cell_type": "markdown",
   "metadata": {},
   "source": [
    "## Задание 2\n",
    "Найдите безусловные экстремумы функции:\n",
    "$$u=3 x^{3}+y^{2}+z^{2}+6 x y-2 z+1$$\n"
   ]
  },
  {
   "cell_type": "markdown",
   "metadata": {},
   "source": [
    "### Найдем частные производные функции\n",
    "Функция $ u(x, y, z) $:\n",
    "$\n",
    "u = 3x^3 + y^2 + z^2 + 6xy - 2z + 1\n",
    "$\n",
    "\n",
    "Частные производные:\n",
    "- По $ x $:\n",
    "$\n",
    "\\frac{\\partial u}{\\partial x} = 9x^2 + 6y\n",
    "$  \n",
    "- По $ y $:\n",
    "$  \n",
    "\\frac{\\partial u}{\\partial y} = 2y + 6x\n",
    "$  \n",
    "- По $ z $:\n",
    "$\n",
    "\\frac{\\partial u}{\\partial z} = 2z - 2\n",
    "$\n",
    "\n",
    "### Условие стационарных точек\n",
    "Найдём точки, где все частные производные равны нулю:\n",
    "\n",
    "$\n",
    "\\frac{\\partial u}{\\partial x} = 0, \\quad \\frac{\\partial u}{\\partial y} = 0, \\quad \\frac{\\partial u}{\\partial z} = 0\n",
    "$\n",
    "\n",
    "1. Из $ \\frac{\\partial u}{\\partial x} = 9x^2 + 6y = 0 $:\n",
    "$\n",
    "y = -\\frac{3}{2}x^2 \n",
    "$\n",
    "\n",
    "2. Из $ \\frac{\\partial u}{\\partial y} = 2y + 6x = 0 $:\n",
    "$\n",
    "y = -3x\n",
    "$\n",
    "\n",
    "Сравним $ y = -\\frac{3}{2}x^2 $ и $ y = -3x $:\n",
    "\n",
    "$\n",
    "-\\frac{3}{2}x^2 = -3x \\quad \\Rightarrow \\quad \\frac{3}{2}x^2 - 3x = 0 \\quad \\Rightarrow \\quad \\frac{3}{2}x(x - 2) = 0\n",
    "$\n",
    "\n",
    "Отсюда:\n",
    "$\n",
    "x = 0 \\quad \\text{или} \\quad x = 2\n",
    "$\n",
    "\n",
    "3. Из $ \\frac{\\partial u}{\\partial z} = 2z - 2 = 0 $:\n",
    "$\n",
    "z = 1\n",
    "$\n",
    "\n",
    "### Найдём точки\n",
    "- При $ x = 0 $:\n",
    "$\n",
    "y = -3 \\cdot 0 = 0, \\quad z = 1 \\quad \\Rightarrow \\quad (x, y, z) = (0, 0, 1)\n",
    "$\n",
    "- При $ x = 2 $:\n",
    "$\n",
    "y = -3 \\cdot 2 = -6, \\quad z = 1 \\quad \\Rightarrow \\quad (x, y, z) = (2, -6, 1)\n",
    "$\n",
    "\n",
    "### Исследуем характер точек\n",
    "Для исследования характера стационарных точек используем **матрицу Гессе** (матрицу вторых частных производных)\n",
    "\n",
    "$\n",
    "\\frac{\\partial^2 u}{\\partial x^2} = 18x, \\quad \\frac{\\partial^2 u}{\\partial y^2} = 2, \\quad \\frac{\\partial^2 u}{\\partial z^2} = 2,\n",
    "$\n",
    "$\n",
    "\\frac{\\partial^2 u}{\\partial x \\partial y} = 6, \\quad \\frac{\\partial^2 u}{\\partial x \\partial z} = 0, \\quad \\frac{\\partial^2 u}{\\partial y \\partial z} = 0\n",
    "$\n",
    "\n",
    "Матрица Гессе:\n",
    "$\n",
    "H =\n",
    "\\begin{pmatrix}\n",
    "18x & 6 & 0 \\\\\n",
    "6 & 2 & 0 \\\\\n",
    "0 & 0 & 2\n",
    "\\end{pmatrix}\n",
    "$\n",
    "\n",
    "\n",
    "#### Для точки $ (0, 0, 1) $:\n",
    "$\n",
    "H =\n",
    "\\begin{pmatrix}\n",
    "0 & 6 & 0 \\\\\n",
    "6 & 2 & 0 \\\\\n",
    "0 & 0 & 2\n",
    "\\end{pmatrix}\n",
    "$\n",
    "\n",
    "Старший минор 1-го порядка:\n",
    "$\n",
    "\\Delta_1 = 0\n",
    "$\n",
    "\n",
    "Старший минор 2-го порядка:\n",
    "$\n",
    "\\Delta_2 =\n",
    "\\begin{vmatrix}\n",
    "0 & 6 \\\\\n",
    "6 & 2\n",
    "\\end{vmatrix}\n",
    "= 0 - 36 = -36\n",
    "$\n",
    "\n",
    "Так как $\\Delta_2 < 0$, точка $(0, 0, 1)$ — седловая\n",
    "\n",
    "---\n",
    "\n",
    "#### Для точки $ (2, -6, 1) $:\n",
    "$\n",
    "H =\n",
    "\\begin{pmatrix}\n",
    "36 & 6 & 0 \\\\\n",
    "6 & 2 & 0 \\\\\n",
    "0 & 0 & 2\n",
    "\\end{pmatrix}\n",
    "$\n",
    "\n",
    "Старший минор 1-го порядка:\n",
    "$\n",
    "\\Delta_1 = 36 > 0\n",
    "$\n",
    "\n",
    "Старший минор 2-го порядка:\n",
    "$\n",
    "\\Delta_2 =\n",
    "\\begin{vmatrix}\n",
    "36 & 6 \\\\\n",
    "6 & 2\n",
    "\\end{vmatrix}\n",
    "= 36 \\cdot 2 - 6 \\cdot 6 = 72 - 36 = 36 > 0\n",
    "$\n",
    "\n",
    "Определитель матрицы:\n",
    "$\n",
    "\\Delta_3 = \\det H = 36 \\cdot (2 \\cdot 2 - 0) - 6 \\cdot (6 \\cdot 2 - 0) + 0 = 144 - 72 + 0 = 72 > 0\n",
    "$\n",
    "\n",
    "Так как все главные миноры положительны, точка $(2, -6, 1)$ — точка минимума\n",
    "\n",
    "### Ответ:\n",
    "- Седловая точка: $(0, 0, 1)$,\n",
    "- Точка минимума: $(2, -6, 1)$"
   ]
  },
  {
   "cell_type": "markdown",
   "metadata": {},
   "source": [
    "## Задание 3\n",
    "Найдите условный экстремум функции:\n",
    "$$z=e^{-x-y}$$\n",
    "Если задано следующее условие:\n",
    "$$\\frac{x^{2}}{4}+y^{2}=5$$"
   ]
  },
  {
   "cell_type": "markdown",
   "metadata": {},
   "source": [
    "Используем метод множителей Лагранжа\n",
    "\n",
    "***Определяем функцию Лагранжа:***\n",
    "\n",
    "$\n",
    "\\mathcal{L}(x, y, \\lambda) = e^{-x-y} + \\lambda \\left( \\frac{x^2}{4} + y^2 - 5 \\right)\n",
    "$\n",
    "\n",
    "Нам нужно найти критические точки, решив систему уравнений, полученную при вычислении частных производных от $\\mathcal{L}$\n",
    "\n",
    "1. Вычисляем частные производные:\n",
    "\n",
    "$\n",
    "\\frac{\\partial \\mathcal{L}}{\\partial x} = -e^{-x-y} + \\lambda \\cdot \\frac{x}{2} = 0\n",
    "$\n",
    "\n",
    "$\n",
    "\\frac{\\partial \\mathcal{L}}{\\partial y} = -e^{-x-y} + 2\\lambda y = 0\n",
    "$\n",
    "\n",
    "$\n",
    "\\frac{\\partial \\mathcal{L}}{\\partial \\lambda} = \\frac{x^2}{4} + y^2 - 5 = 0\n",
    "$\n",
    "\n",
    "2. Решим систему уравнени:\n",
    "\n",
    "Из 1 уравнения:\n",
    "\n",
    "$\n",
    "\\lambda = \\frac{2 e^{-x-y}}{x}\n",
    "$\n",
    "\n",
    "Из 2:\n",
    "\n",
    "$\n",
    "\\lambda = \\frac{e^{-x-y}}{2y}\n",
    "$\n",
    "\n",
    "Приравниваем выражения для $\\lambda$:\n",
    "\n",
    "$\n",
    "\\frac{2 e^{-x-y}}{x} = \\frac{e^{-x-y}}{2y}\n",
    "$\n",
    "\n",
    "Упрощаем:\n",
    "\n",
    "$\n",
    "\\frac{2}{x} = \\frac{1}{2y} \\quad \\Rightarrow \\quad 4y = x\n",
    "$\n",
    "\n",
    "Заменяем $x = 4y$ в ограничении:\n",
    "\n",
    "$\n",
    "\\frac{(4y)^2}{4} + y^2 = 5\n",
    "$\n",
    "\n",
    "$\n",
    "\\frac{16y^2}{4} + y^2 = 5 \\quad \\Rightarrow \\quad 4y^2 + y^2 = 5\n",
    "$\n",
    "\n",
    "$\n",
    "5y^2 = 5 \\quad \\Rightarrow \\quad y^2 = 1 \\quad \\Rightarrow \\quad y = \\pm 1\n",
    "$\n",
    "\n",
    "Для $y = 1$, $x = 4 \\times 1 = 4$.\n",
    "\n",
    "Для $y = -1$, $x = 4 \\times (-1) = -4$.\n",
    "\n",
    "Подставим точки в $z = e^{-x-y}$:\n",
    "\n",
    "Для $(x, y) = (4, 1)$:\n",
    "$\n",
    "z = e^{-4-1} = e^{-5}\n",
    "$\n",
    "\n",
    "Для $(x, y) = (-4, -1)$:\n",
    "$\n",
    "z = e^{-(-4) - (-1)} = e^{5}\n",
    "$\n",
    "\n",
    "Ответ: минимум в точке (4,1) со значением $e^{-5}$, максимум в точке (-4, -1) со значением $e^{5}$."
   ]
  },
  {
   "cell_type": "markdown",
   "metadata": {},
   "source": [
    "# Задание 4\n",
    "Вам предоставлены данные о людях с наличием или отсутствием заболевания:\n",
    "\n",
    "Признаки:\n",
    "- Age — возрастная группа.\n",
    "- Test — позитивный или негативный тест на заболевание.\n",
    "- Status — целевая переменная, есть инфекция или нет.\n",
    "\n",
    "Необходимо реализовать алгоритм Наивного Байеса для решения задачи классификации. Обязательно оцените качество полученного результата по итогу."
   ]
  },
  {
   "cell_type": "code",
   "execution_count": 5,
   "metadata": {},
   "outputs": [],
   "source": [
    "import pandas as pd\n",
    "from sklearn.model_selection import train_test_split\n",
    "from sklearn.preprocessing import LabelEncoder\n",
    "from sklearn.naive_bayes import GaussianNB\n",
    "from sklearn.metrics import accuracy_score, classification_report, confusion_matrix\n"
   ]
  },
  {
   "cell_type": "code",
   "execution_count": 10,
   "metadata": {},
   "outputs": [
    {
     "data": {
      "text/html": [
       "<div>\n",
       "<style scoped>\n",
       "    .dataframe tbody tr th:only-of-type {\n",
       "        vertical-align: middle;\n",
       "    }\n",
       "\n",
       "    .dataframe tbody tr th {\n",
       "        vertical-align: top;\n",
       "    }\n",
       "\n",
       "    .dataframe thead th {\n",
       "        text-align: right;\n",
       "    }\n",
       "</style>\n",
       "<table border=\"1\" class=\"dataframe\">\n",
       "  <thead>\n",
       "    <tr style=\"text-align: right;\">\n",
       "      <th></th>\n",
       "      <th>Test</th>\n",
       "      <th>Age_Group</th>\n",
       "      <th>Status</th>\n",
       "    </tr>\n",
       "  </thead>\n",
       "  <tbody>\n",
       "    <tr>\n",
       "      <th>0</th>\n",
       "      <td>Positive</td>\n",
       "      <td>Young</td>\n",
       "      <td>Infected</td>\n",
       "    </tr>\n",
       "    <tr>\n",
       "      <th>1</th>\n",
       "      <td>Positive</td>\n",
       "      <td>Young</td>\n",
       "      <td>Infected</td>\n",
       "    </tr>\n",
       "    <tr>\n",
       "      <th>2</th>\n",
       "      <td>Positive</td>\n",
       "      <td>Young</td>\n",
       "      <td>Infected</td>\n",
       "    </tr>\n",
       "    <tr>\n",
       "      <th>3</th>\n",
       "      <td>Positive</td>\n",
       "      <td>Old</td>\n",
       "      <td>Infected</td>\n",
       "    </tr>\n",
       "    <tr>\n",
       "      <th>4</th>\n",
       "      <td>Positive</td>\n",
       "      <td>Old</td>\n",
       "      <td>Infected</td>\n",
       "    </tr>\n",
       "  </tbody>\n",
       "</table>\n",
       "</div>"
      ],
      "text/plain": [
       "       Test Age_Group    Status\n",
       "0  Positive     Young  Infected\n",
       "1  Positive     Young  Infected\n",
       "2  Positive     Young  Infected\n",
       "3  Positive       Old  Infected\n",
       "4  Positive       Old  Infected"
      ]
     },
     "execution_count": 10,
     "metadata": {},
     "output_type": "execute_result"
    }
   ],
   "source": [
    "data = pd.read_csv(\n",
    "    \"data/asset-v1_SkillFactory+MIFIML-1sem+2024+type@asset+block@sf_exam.csv\"\n",
    ")\n",
    "data.head()"
   ]
  },
  {
   "cell_type": "code",
   "execution_count": 13,
   "metadata": {},
   "outputs": [],
   "source": [
    "label_encoder = LabelEncoder()\n",
    "\n",
    "# преобразуем категориальные признаки в числовые\n",
    "data[\"Age_Group\"] = label_encoder.fit_transform(data[\"Age_Group\"])\n",
    "data[\"Test\"] = label_encoder.fit_transform(data[\"Test\"])\n",
    "data[\"Status\"] = label_encoder.fit_transform(data[\"Status\"])"
   ]
  },
  {
   "cell_type": "code",
   "execution_count": 22,
   "metadata": {},
   "outputs": [
    {
     "name": "stdout",
     "output_type": "stream",
     "text": [
      "Accuracy: 0.61\n",
      "\n",
      "Матрица ошибок:\n"
     ]
    },
    {
     "data": {
      "text/html": [
       "<div>\n",
       "<style scoped>\n",
       "    .dataframe tbody tr th:only-of-type {\n",
       "        vertical-align: middle;\n",
       "    }\n",
       "\n",
       "    .dataframe tbody tr th {\n",
       "        vertical-align: top;\n",
       "    }\n",
       "\n",
       "    .dataframe thead th {\n",
       "        text-align: right;\n",
       "    }\n",
       "</style>\n",
       "<table border=\"1\" class=\"dataframe\">\n",
       "  <thead>\n",
       "    <tr style=\"text-align: right;\">\n",
       "      <th></th>\n",
       "      <th>0</th>\n",
       "      <th>1</th>\n",
       "    </tr>\n",
       "  </thead>\n",
       "  <tbody>\n",
       "    <tr>\n",
       "      <th>0</th>\n",
       "      <td>13</td>\n",
       "      <td>20</td>\n",
       "    </tr>\n",
       "    <tr>\n",
       "      <th>1</th>\n",
       "      <td>2</td>\n",
       "      <td>21</td>\n",
       "    </tr>\n",
       "  </tbody>\n",
       "</table>\n",
       "</div>"
      ],
      "text/plain": [
       "    0   1\n",
       "0  13  20\n",
       "1   2  21"
      ]
     },
     "metadata": {},
     "output_type": "display_data"
    },
    {
     "name": "stdout",
     "output_type": "stream",
     "text": [
      "Classification Report:\n",
      "              precision    recall  f1-score   support\n",
      "\n",
      "           0       0.87      0.39      0.54        33\n",
      "           1       0.51      0.91      0.66        23\n",
      "\n",
      "    accuracy                           0.61        56\n",
      "   macro avg       0.69      0.65      0.60        56\n",
      "weighted avg       0.72      0.61      0.59        56\n",
      "\n"
     ]
    }
   ],
   "source": [
    "# выделяем признаки и целевую переменную\n",
    "X = data[[\"Age_Group\", \"Test\"]]\n",
    "y = data[\"Status\"]\n",
    "\n",
    "# разделим данные на обучающую и тестовую выборки (80% - обучение, 20% - тест)\n",
    "X_train, X_test, y_train, y_test = train_test_split(\n",
    "    X, y, test_size=0.2, random_state=42\n",
    ")\n",
    "\n",
    "# обучение модели наивного Байеса\n",
    "nb_classifier = GaussianNB()\n",
    "nb_classifier.fit(X_train, y_train)\n",
    "\n",
    "# предсказания на тестовой выборке\n",
    "y_pred = nb_classifier.predict(X_test)\n",
    "\n",
    "# оцениваем качество модели\n",
    "accuracy = accuracy_score(y_test, y_pred)\n",
    "print(f\"Accuracy: {accuracy:.2f}\\n\")\n",
    "\n",
    "print(\"Матрица ошибок:\")\n",
    "display(pd.DataFrame(confusion_matrix(y_test, y_pred)))\n",
    "\n",
    "# классификационные метрики: precision, recall, f1-score\n",
    "print(\"Classification Report:\")\n",
    "print(classification_report(y_test, y_pred))"
   ]
  },
  {
   "cell_type": "markdown",
   "metadata": {},
   "source": [
    "Задание 5\n",
    "Дана функция:\n",
    "\n",
    "$$f(x)=x^{4}+3 x^{3}-12 x^{2}+7 x-2$$\n",
    "Оптимизируйте её с помощью метода Ньютона, используя язык программирования Python.\n",
    "\n",
    "За начальную точку возьмите х = 10, необходимую точность 0.0001."
   ]
  },
  {
   "cell_type": "code",
   "execution_count": 23,
   "metadata": {},
   "outputs": [],
   "source": [
    "import sympy as sp"
   ]
  },
  {
   "cell_type": "code",
   "execution_count": 24,
   "metadata": {},
   "outputs": [],
   "source": [
    "# определим символическую переменную и функцию f(x)\n",
    "x = sp.symbols(\"x\")\n",
    "f_x = x**4 + 3 * x**3 - 12 * x**2 + 7 * x - 2\n",
    "\n",
    "# вычислим первую и вторую производные\n",
    "f_prime_x = sp.diff(f_x, x)\n",
    "f_double_prime_x = sp.diff(f_prime_x, x)\n",
    "\n",
    "# преобразуем производные в функции для вычислений\n",
    "f_prime_func = sp.lambdify(x, f_prime_x, \"numpy\")\n",
    "f_double_prime_func = sp.lambdify(x, f_double_prime_x, \"numpy\")"
   ]
  },
  {
   "cell_type": "code",
   "execution_count": 26,
   "metadata": {},
   "outputs": [],
   "source": [
    "# реализуем метод Ньютона\n",
    "def newton_method(x0, tolerance=0.0001, max_iter=1000):\n",
    "    x = x0\n",
    "\n",
    "    for i in range(max_iter):\n",
    "        # вычисляем значение функции и её производных в точке x\n",
    "        f_prime_val = f_prime_func(x)\n",
    "        f_double_prime_val = f_double_prime_func(x)\n",
    "\n",
    "        if f_double_prime_val == 0:\n",
    "            print(\"Ошибка: вторая производная равна нулю.\")\n",
    "            return None\n",
    "\n",
    "        x_new = x - f_prime_val / f_double_prime_val\n",
    "\n",
    "        # проверим, достигается ли нужная точность\n",
    "        if abs(x_new - x) < tolerance:\n",
    "            print(f\"Найден корень: {x_new}\")\n",
    "            return x_new\n",
    "\n",
    "        x = x_new\n",
    "\n",
    "    print(\"Не удалось найти корень за максимальное количество итераций.\")\n",
    "    return None"
   ]
  },
  {
   "cell_type": "code",
   "execution_count": 28,
   "metadata": {},
   "outputs": [
    {
     "name": "stdout",
     "output_type": "stream",
     "text": [
      "Найден корень: 1.3101356031490567\n"
     ]
    }
   ],
   "source": [
    "initial_guess = 10\n",
    "result = newton_method(initial_guess, tolerance=0.0001)"
   ]
  },
  {
   "attachments": {
    "image.png": {
     "image/png": "[encoded data removed]"
    }
   },
   "cell_type": "markdown",
   "metadata": {},
   "source": [
    "# Задание 6\n",
    "Дано распределение случайной величины, которая отражает вероятность получения разного количества спам-писем в течение дня:\n",
    "\n",
    "![image.png](attachment:image.png)"
   ]
  },
  {
   "cell_type": "markdown",
   "metadata": {},
   "source": [
    "## 1. Найдите вероятность получения 7 спам-писем."
   ]
  },
  {
   "cell_type": "markdown",
   "metadata": {},
   "source": [
    "Сумма всех вероятностей случайной величины должна равняться 1, то есть:\n",
    "$\n",
    "P(0) + P(1) + P(2) + P(3) + P(4) + P(5) + P(6) + P(7) = 1\n",
    "$\n",
    "\n",
    "Известны все вероятности, кроме $ P(7) $.  \n",
    "Найдём её:\n",
    "$\n",
    "P(7) = 1 - (P(0) + P(1) + P(2) + P(3) + P(4) + P(5) + P(6))\n",
    "$\n",
    "\n",
    "Подставляем данные:\n",
    "$\n",
    "P(7) = 1 - (0.1 + 0.3 + 0.1 + 0.25 + 0.05 + 0.05 + 0.1)\n",
    "$\n",
    "\n",
    "Ответ:\n",
    "$\n",
    "P(7) = 1 - 0.95 = 0.05\n",
    "$"
   ]
  },
  {
   "cell_type": "code",
   "execution_count": 32,
   "metadata": {},
   "outputs": [
    {
     "data": {
      "text/plain": [
       "0.050000000000000044"
      ]
     },
     "execution_count": 32,
     "metadata": {},
     "output_type": "execute_result"
    }
   ],
   "source": [
    "probabilities = [0.1, 0.3, 0.1, 0.25, 0.05, 0.05, 0.1]\n",
    "values = list(range(len(probabilities)))\n",
    "\n",
    "p7 = 1 - sum(probabilities)\n",
    "p7"
   ]
  },
  {
   "cell_type": "code",
   "execution_count": 33,
   "metadata": {},
   "outputs": [],
   "source": [
    "probabilities.append(p7)\n",
    "values.append(7)"
   ]
  },
  {
   "cell_type": "markdown",
   "metadata": {},
   "source": [
    "## 2. Найдите математическое ожидание для количества полученных писем."
   ]
  },
  {
   "cell_type": "markdown",
   "metadata": {},
   "source": [
    "Формула математического ожидания:\n",
    "\n",
    "$\n",
    "E(X) = \\sum_{i=0}^7 x_i P(x_i)\n",
    "$\n",
    "\n",
    "Подставляем данные:\n",
    "\n",
    "$\n",
    "E(X) = 0 \\cdot 0.1 + 1 \\cdot 0.3 + 2 \\cdot 0.1 + 3 \\cdot 0.25 + 4 \\cdot 0.05 + 5 \\cdot 0.05 + 6 \\cdot 0.1 + 7 \\cdot 0.05\n",
    "$\n",
    "\n",
    "\n",
    "$\n",
    "E(X) = 0 + 0.3 + 0.2 + 0.75 + 0.2 + 0.25 + 0.6 + 0.35 = 2.65\n",
    "$\n",
    "\n",
    "Ответ: $E(x) = 2.65$"
   ]
  },
  {
   "cell_type": "code",
   "execution_count": 34,
   "metadata": {},
   "outputs": [
    {
     "data": {
      "text/plain": [
       "2.6500000000000004"
      ]
     },
     "execution_count": 34,
     "metadata": {},
     "output_type": "execute_result"
    }
   ],
   "source": [
    "mean_value = sum(x * p for x, p in zip(values, probabilities))\n",
    "mean_value"
   ]
  },
  {
   "cell_type": "markdown",
   "metadata": {},
   "source": [
    "## 3. Найдите дисперсию для количества полученных писем. Ответ округлите до сотых."
   ]
  },
  {
   "cell_type": "markdown",
   "metadata": {},
   "source": [
    "Формула дисперсии:\n",
    "\n",
    "$\n",
    "D(X) = \\sum_{i=0}^7 P(x_i) \\cdot (x_i - E(X))^2\n",
    "$\n",
    "\n",
    "Выполним расчёты для каждого значения $x_i $:\n",
    "\n",
    "$\n",
    "D(X) = 0.1 \\cdot (0 - 2.65)^2 + 0.3 \\cdot (1 - 2.65)^2 + 0.1 \\cdot (2 - 2.65)^2 + 0.25 \\cdot (3 - 2.65)^2 + 0.05 \\cdot (4 - 2.65)^2 + 0.05 \\cdot (5 - 2.65)^2 + 0.1 \\cdot (6 - 2.65)^2 + 0.05 \\cdot (7 - 2.65)^2\n",
    "$"
   ]
  },
  {
   "cell_type": "code",
   "execution_count": 36,
   "metadata": {},
   "outputs": [
    {
     "data": {
      "text/plain": [
       "4.028"
      ]
     },
     "execution_count": 36,
     "metadata": {},
     "output_type": "execute_result"
    }
   ],
   "source": [
    "variance = sum(p * (x - mean_value) ** 2 for x, p in zip(values, probabilities))\n",
    "round(variance, 3)"
   ]
  },
  {
   "cell_type": "markdown",
   "metadata": {},
   "source": [
    "# Задание 7\n",
    "За 8 часов рабочего дня в колл-центр поступает в среднем 16 звонков. Найдите вероятность, что за час в колл-центр поступит не более 4 и не менее 2 звонков. Ответ округлите до тысячных. Задание должно быть решено без использования готовых функций Python."
   ]
  },
  {
   "cell_type": "markdown",
   "metadata": {},
   "source": [
    "***Формула распределения Пуассона:***\n",
    "\n",
    "$\n",
    "P(k; \\lambda) = \\frac{\\lambda^k e^{-\\lambda}}{k!}\n",
    "$\n",
    "где:\n",
    "\n",
    "- $ k $ — число событий,\n",
    "- $ \\lambda $ — среднее число событий,\n",
    "\n",
    "\n",
    "***Дано:***\n",
    "- Среднее число звонков за 8 часов: $ \\lambda_{8 \\text{ч}} = 16 $.\n",
    "- Среднее число звонков за 1 час: $ \\lambda_{1 \\text{ч}} = \\frac{16}{8} = 2 $.\n",
    "- Требуется найти вероятность:\n",
    "$\n",
    "P(2 \\leq k \\leq 4) = P(k = 2) + P(k = 3) + P(k = 4)\n",
    "$\n",
    "\n",
    "1. Вычислим $ P(k) $ для $ k = 2, 3, 4 $ с использованием формулы Пуассона.\n",
    "2. Сложим результаты, чтобы найти искомую вероятность."
   ]
  },
  {
   "cell_type": "code",
   "execution_count": 38,
   "metadata": {},
   "outputs": [],
   "source": [
    "import math"
   ]
  },
  {
   "cell_type": "code",
   "execution_count": 40,
   "metadata": {},
   "outputs": [
    {
     "data": {
      "text/plain": [
       "0.541"
      ]
     },
     "execution_count": 40,
     "metadata": {},
     "output_type": "execute_result"
    }
   ],
   "source": [
    "lambda_hour = 2\n",
    "\n",
    "probabilities = [(lambda_hour**k * math.exp(-lambda_hour)) / math.factorial(k) for k in range(2, 5)]\n",
    "\n",
    "total_probability = sum(probabilities)\n",
    "round(total_probability, 3)\n"
   ]
  }
 ],
 "metadata": {
  "kernelspec": {
   "display_name": "base",
   "language": "python",
   "name": "python3"
  },
  "language_info": {
   "codemirror_mode": {
    "name": "ipython",
    "version": 3
   },
   "file_extension": ".py",
   "mimetype": "text/x-python",
   "name": "python",
   "nbconvert_exporter": "python",
   "pygments_lexer": "ipython3",
   "version": "3.12.7"
  }
 },
 "nbformat": 4,
 "nbformat_minor": 2
}
