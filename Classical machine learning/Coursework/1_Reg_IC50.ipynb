{
 "cells": [
  {
   "cell_type": "code",
   "execution_count": 1,
   "id": "cdf67809",
   "metadata": {},
   "outputs": [],
   "source": [
    "from sklearn.model_selection import train_test_split, GridSearchCV\n",
    "from sklearn.preprocessing import StandardScaler\n",
    "from sklearn.pipeline import Pipeline\n",
    "from sklearn.linear_model import Ridge, Lasso\n",
    "from sklearn.ensemble import RandomForestRegressor\n",
    "import xgboost as xgb\n",
    "from sklearn.metrics import mean_absolute_error, r2_score, mean_squared_error\n",
    "import pandas as pd\n",
    "import numpy as np"
   ]
  },
  {
   "cell_type": "code",
   "execution_count": 2,
   "id": "2a7bfba1",
   "metadata": {},
   "outputs": [],
   "source": [
    "data = pd.read_excel(\"data/data.xlsx\")"
   ]
  },
  {
   "cell_type": "markdown",
   "id": "8ced2929",
   "metadata": {},
   "source": [
    "Подготовка признаков и целевой переменной"
   ]
  },
  {
   "cell_type": "code",
   "execution_count": 3,
   "id": "f4d82eb2",
   "metadata": {},
   "outputs": [],
   "source": [
    "target = \"IC50, mM\"\n",
    "X = data.drop(\n",
    "    columns=[target, \"CC50, mM\", \"SI\", \"log10_CC50, mM\", \"log10_SI\", \"log10_IC50, mM\"],\n",
    "    errors=\"ignore\",\n",
    ")\n",
    "y = data[target]\n",
    "\n",
    "# Логарифмирование целевой переменной\n",
    "y_log = np.log10(y + 1e-9)  # чтобы избежать log(0)\n",
    "\n",
    "# Разделение на train/test\n",
    "X_train, X_test, y_train, y_test = train_test_split(\n",
    "    X, y_log, test_size=0.2, random_state=42\n",
    ")\n"
   ]
  },
  {
   "cell_type": "markdown",
   "id": "526ed399",
   "metadata": {},
   "source": [
    "пределение моделей и сеток гиперпараметров"
   ]
  },
  {
   "cell_type": "code",
   "execution_count": 4,
   "id": "859fe838",
   "metadata": {},
   "outputs": [],
   "source": [
    "models_params = {\n",
    "    \"Ridge\": {\n",
    "        \"model\": Pipeline([(\"scaler\", StandardScaler()), (\"ridge\", Ridge())]),\n",
    "        \"params\": {\"ridge__alpha\": [0.01, 0.1, 1, 10, 100]},\n",
    "    },\n",
    "    \"Lasso\": {\n",
    "        \"model\": Pipeline(\n",
    "            [(\"scaler\", StandardScaler()), (\"lasso\", Lasso(max_iter=5000))]\n",
    "        ),\n",
    "        \"params\": {\"lasso__alpha\": [0.001, 0.01, 0.1, 1]},\n",
    "    },\n",
    "    \"RandomForest\": {\n",
    "        \"model\": RandomForestRegressor(random_state=42),\n",
    "        \"params\": {\n",
    "            \"n_estimators\": [100, 200],\n",
    "            \"max_depth\": [None, 5, 10],\n",
    "            \"min_samples_split\": [2, 5],\n",
    "        },\n",
    "    },\n",
    "    \"XGBoost\": {\n",
    "        \"model\": xgb.XGBRegressor(objective=\"reg:squarederror\", random_state=42),\n",
    "        \"params\": {\n",
    "            \"n_estimators\": [100, 200],\n",
    "            \"max_depth\": [3, 5, 7],\n",
    "            \"learning_rate\": [0.01, 0.1, 0.2],\n",
    "        },\n",
    "    },\n",
    "}"
   ]
  },
  {
   "cell_type": "markdown",
   "id": "a2f405c6",
   "metadata": {},
   "source": [
    "Подбор гиперпараметров и оценка"
   ]
  },
  {
   "cell_type": "code",
   "execution_count": 5,
   "id": "dae98c0c",
   "metadata": {},
   "outputs": [
    {
     "name": "stdout",
     "output_type": "stream",
     "text": [
      "Обучение модели: Ridge\n",
      "Обучение модели: Lasso\n",
      "Обучение модели: RandomForest\n",
      "Обучение модели: XGBoost\n"
     ]
    },
    {
     "data": {
      "text/html": [
       "<div>\n",
       "<style scoped>\n",
       "    .dataframe tbody tr th:only-of-type {\n",
       "        vertical-align: middle;\n",
       "    }\n",
       "\n",
       "    .dataframe tbody tr th {\n",
       "        vertical-align: top;\n",
       "    }\n",
       "\n",
       "    .dataframe thead th {\n",
       "        text-align: right;\n",
       "    }\n",
       "</style>\n",
       "<table border=\"1\" class=\"dataframe\">\n",
       "  <thead>\n",
       "    <tr style=\"text-align: right;\">\n",
       "      <th></th>\n",
       "      <th>Model</th>\n",
       "      <th>Best_Params</th>\n",
       "      <th>MAE</th>\n",
       "      <th>MSE</th>\n",
       "      <th>RMSE</th>\n",
       "      <th>R2</th>\n",
       "    </tr>\n",
       "  </thead>\n",
       "  <tbody>\n",
       "    <tr>\n",
       "      <th>3</th>\n",
       "      <td>XGBoost</td>\n",
       "      <td>{'learning_rate': 0.1, 'max_depth': 3, 'n_esti...</td>\n",
       "      <td>0.567483</td>\n",
       "      <td>0.528221</td>\n",
       "      <td>0.726788</td>\n",
       "      <td>0.441278</td>\n",
       "    </tr>\n",
       "    <tr>\n",
       "      <th>2</th>\n",
       "      <td>RandomForest</td>\n",
       "      <td>{'max_depth': 10, 'min_samples_split': 2, 'n_e...</td>\n",
       "      <td>0.569543</td>\n",
       "      <td>0.543866</td>\n",
       "      <td>0.737472</td>\n",
       "      <td>0.424729</td>\n",
       "    </tr>\n",
       "    <tr>\n",
       "      <th>0</th>\n",
       "      <td>Ridge</td>\n",
       "      <td>{'ridge__alpha': 100}</td>\n",
       "      <td>0.628652</td>\n",
       "      <td>0.678122</td>\n",
       "      <td>0.823482</td>\n",
       "      <td>0.282720</td>\n",
       "    </tr>\n",
       "    <tr>\n",
       "      <th>1</th>\n",
       "      <td>Lasso</td>\n",
       "      <td>{'lasso__alpha': 0.1}</td>\n",
       "      <td>0.682355</td>\n",
       "      <td>0.776955</td>\n",
       "      <td>0.881450</td>\n",
       "      <td>0.178180</td>\n",
       "    </tr>\n",
       "  </tbody>\n",
       "</table>\n",
       "</div>"
      ],
      "text/plain": [
       "          Model                                        Best_Params       MAE  \\\n",
       "3       XGBoost  {'learning_rate': 0.1, 'max_depth': 3, 'n_esti...  0.567483   \n",
       "2  RandomForest  {'max_depth': 10, 'min_samples_split': 2, 'n_e...  0.569543   \n",
       "0         Ridge                              {'ridge__alpha': 100}  0.628652   \n",
       "1         Lasso                              {'lasso__alpha': 0.1}  0.682355   \n",
       "\n",
       "        MSE      RMSE        R2  \n",
       "3  0.528221  0.726788  0.441278  \n",
       "2  0.543866  0.737472  0.424729  \n",
       "0  0.678122  0.823482  0.282720  \n",
       "1  0.776955  0.881450  0.178180  "
      ]
     },
     "metadata": {},
     "output_type": "display_data"
    }
   ],
   "source": [
    "results = []\n",
    "best_models = {}\n",
    "\n",
    "for name, mp in models_params.items():\n",
    "    print(f\"Обучение модели: {name}\")\n",
    "    grid = GridSearchCV(mp[\"model\"], mp[\"params\"], cv=5, scoring=\"r2\", n_jobs=-1)\n",
    "    grid.fit(X_train, y_train)\n",
    "\n",
    "    y_pred_log = grid.predict(X_test)\n",
    "    \n",
    "    mae = mean_absolute_error(y_test, y_pred_log)\n",
    "    r2 = r2_score(y_test, y_pred_log)\n",
    "    mse = mean_squared_error(y_test, y_pred_log)\n",
    "    rmse = np.sqrt(mse)\n",
    "    \n",
    "    results.append(\n",
    "        {\n",
    "            \"Model\": name,\n",
    "            \"Best_Params\": grid.best_params_,\n",
    "            \"MAE\": mae,\n",
    "            \"MSE\": mse,\n",
    "            \"RMSE\": rmse,\n",
    "            \"R2\": r2,\n",
    "        }\n",
    "    )\n",
    "\n",
    "    best_models[name] = grid \n",
    "\n",
    "results_df = pd.DataFrame(results).sort_values(by=\"R2\", ascending=False)\n",
    "display(results_df)\n"
   ]
  },
  {
   "cell_type": "code",
   "execution_count": 6,
   "id": "d9881a74",
   "metadata": {},
   "outputs": [
    {
     "name": "stdout",
     "output_type": "stream",
     "text": [
      "Лучшая модель: XGBoost\n"
     ]
    }
   ],
   "source": [
    "# Автоматический выбор лучшей модели по R2\n",
    "best_idx = results_df['R2'].idxmax()\n",
    "best_model_name = results_df.loc[best_idx, 'Model']\n",
    "best_model = best_models[best_model_name]\n",
    "\n",
    "print(f\"Лучшая модель: {best_model_name}\")\n"
   ]
  }
 ],
 "metadata": {
  "kernelspec": {
   "display_name": "base",
   "language": "python",
   "name": "python3"
  },
  "language_info": {
   "codemirror_mode": {
    "name": "ipython",
    "version": 3
   },
   "file_extension": ".py",
   "mimetype": "text/x-python",
   "name": "python",
   "nbconvert_exporter": "python",
   "pygments_lexer": "ipython3",
   "version": "3.12.7"
  }
 },
 "nbformat": 4,
 "nbformat_minor": 5
}
