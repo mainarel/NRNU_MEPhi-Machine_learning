{
 "cells": [
  {
   "cell_type": "code",
   "execution_count": 1,
   "id": "2510d4fb",
   "metadata": {},
   "outputs": [],
   "source": [
    "from sklearn.model_selection import train_test_split, GridSearchCV\n",
    "from sklearn.preprocessing import StandardScaler\n",
    "from sklearn.pipeline import Pipeline\n",
    "from sklearn.linear_model import Ridge, Lasso\n",
    "from sklearn.ensemble import RandomForestRegressor\n",
    "import xgboost as xgb\n",
    "from sklearn.metrics import mean_absolute_error, r2_score, mean_squared_error\n",
    "import pandas as pd\n",
    "import numpy as np"
   ]
  },
  {
   "cell_type": "code",
   "execution_count": 2,
   "id": "4309d0f1",
   "metadata": {},
   "outputs": [],
   "source": [
    "data = pd.read_excel(\"data/data.xlsx\")"
   ]
  },
  {
   "cell_type": "markdown",
   "id": "a122313f",
   "metadata": {},
   "source": [
    "Подготовка признаков и целевой переменной"
   ]
  },
  {
   "cell_type": "code",
   "execution_count": 3,
   "id": "f1c141b6",
   "metadata": {},
   "outputs": [],
   "source": [
    "target = \"SI\"\n",
    "X = data.drop(\n",
    "    columns=[\n",
    "        target,\n",
    "        \"IC50, mM\",\n",
    "        \"CC50, mM\",\n",
    "        \"SI\",\n",
    "        \"log10_IC50, mM\",\n",
    "        \"log10_SI\",\n",
    "        \"log10_CC50, mM\",\n",
    "    ],\n",
    "    errors=\"ignore\",\n",
    ")\n",
    "y = data[target]\n",
    "\n",
    "# Логарифмирование целевой переменной\n",
    "y_log = np.log10(y + 1e-9)  # чтобы избежать log(0)\n",
    "\n",
    "# Разделение на train/test\n",
    "X_train, X_test, y_train, y_test = train_test_split(\n",
    "    X, y_log, test_size=0.2, random_state=42\n",
    ")"
   ]
  },
  {
   "cell_type": "markdown",
   "id": "418fdce9",
   "metadata": {},
   "source": [
    "Определение моделей и сеток гиперпараметров"
   ]
  },
  {
   "cell_type": "code",
   "execution_count": 4,
   "id": "f3640087",
   "metadata": {},
   "outputs": [],
   "source": [
    "models_params = {\n",
    "    \"Ridge\": {\n",
    "        \"model\": Pipeline([(\"scaler\", StandardScaler()), (\"ridge\", Ridge())]),\n",
    "        \"params\": {\"ridge__alpha\": [0.01, 0.1, 1, 10, 100]},\n",
    "    },\n",
    "    \"Lasso\": {\n",
    "        \"model\": Pipeline(\n",
    "            [(\"scaler\", StandardScaler()), (\"lasso\", Lasso(max_iter=5000))]\n",
    "        ),\n",
    "        \"params\": {\"lasso__alpha\": [0.001, 0.01, 0.1, 1]},\n",
    "    },\n",
    "    \"RandomForest\": {\n",
    "        \"model\": RandomForestRegressor(random_state=42),\n",
    "        \"params\": {\n",
    "            \"n_estimators\": [100, 200],\n",
    "            \"max_depth\": [None, 5, 10],\n",
    "            \"min_samples_split\": [2, 5],\n",
    "        },\n",
    "    },\n",
    "    \"XGBoost\": {\n",
    "        \"model\": xgb.XGBRegressor(objective=\"reg:squarederror\", random_state=42),\n",
    "        \"params\": {\n",
    "            \"n_estimators\": [100, 200],\n",
    "            \"max_depth\": [3, 5, 7],\n",
    "            \"learning_rate\": [0.01, 0.1, 0.2],\n",
    "        },\n",
    "    },\n",
    "}"
   ]
  },
  {
   "cell_type": "markdown",
   "id": "618b64ff",
   "metadata": {},
   "source": [
    "Подбор гиперпараметров и оценка"
   ]
  },
  {
   "cell_type": "code",
   "execution_count": 5,
   "id": "aa83a48c",
   "metadata": {},
   "outputs": [
    {
     "name": "stdout",
     "output_type": "stream",
     "text": [
      "Обучение модели: Ridge\n",
      "Обучение модели: Lasso\n",
      "Обучение модели: RandomForest\n",
      "Обучение модели: XGBoost\n"
     ]
    },
    {
     "data": {
      "text/html": [
       "<div>\n",
       "<style scoped>\n",
       "    .dataframe tbody tr th:only-of-type {\n",
       "        vertical-align: middle;\n",
       "    }\n",
       "\n",
       "    .dataframe tbody tr th {\n",
       "        vertical-align: top;\n",
       "    }\n",
       "\n",
       "    .dataframe thead th {\n",
       "        text-align: right;\n",
       "    }\n",
       "</style>\n",
       "<table border=\"1\" class=\"dataframe\">\n",
       "  <thead>\n",
       "    <tr style=\"text-align: right;\">\n",
       "      <th></th>\n",
       "      <th>Model</th>\n",
       "      <th>Best_Params</th>\n",
       "      <th>MAE</th>\n",
       "      <th>MSE</th>\n",
       "      <th>RMSE</th>\n",
       "      <th>R2</th>\n",
       "    </tr>\n",
       "  </thead>\n",
       "  <tbody>\n",
       "    <tr>\n",
       "      <th>3</th>\n",
       "      <td>XGBoost</td>\n",
       "      <td>{'learning_rate': 0.01, 'max_depth': 5, 'n_est...</td>\n",
       "      <td>0.514141</td>\n",
       "      <td>0.423730</td>\n",
       "      <td>0.650945</td>\n",
       "      <td>0.234066</td>\n",
       "    </tr>\n",
       "    <tr>\n",
       "      <th>2</th>\n",
       "      <td>RandomForest</td>\n",
       "      <td>{'max_depth': 10, 'min_samples_split': 2, 'n_e...</td>\n",
       "      <td>0.507325</td>\n",
       "      <td>0.444152</td>\n",
       "      <td>0.666447</td>\n",
       "      <td>0.197151</td>\n",
       "    </tr>\n",
       "    <tr>\n",
       "      <th>0</th>\n",
       "      <td>Ridge</td>\n",
       "      <td>{'ridge__alpha': 100}</td>\n",
       "      <td>0.550539</td>\n",
       "      <td>0.498331</td>\n",
       "      <td>0.705925</td>\n",
       "      <td>0.099218</td>\n",
       "    </tr>\n",
       "    <tr>\n",
       "      <th>1</th>\n",
       "      <td>Lasso</td>\n",
       "      <td>{'lasso__alpha': 0.01}</td>\n",
       "      <td>0.557933</td>\n",
       "      <td>0.498677</td>\n",
       "      <td>0.706171</td>\n",
       "      <td>0.098591</td>\n",
       "    </tr>\n",
       "  </tbody>\n",
       "</table>\n",
       "</div>"
      ],
      "text/plain": [
       "          Model                                        Best_Params       MAE  \\\n",
       "3       XGBoost  {'learning_rate': 0.01, 'max_depth': 5, 'n_est...  0.514141   \n",
       "2  RandomForest  {'max_depth': 10, 'min_samples_split': 2, 'n_e...  0.507325   \n",
       "0         Ridge                              {'ridge__alpha': 100}  0.550539   \n",
       "1         Lasso                             {'lasso__alpha': 0.01}  0.557933   \n",
       "\n",
       "        MSE      RMSE        R2  \n",
       "3  0.423730  0.650945  0.234066  \n",
       "2  0.444152  0.666447  0.197151  \n",
       "0  0.498331  0.705925  0.099218  \n",
       "1  0.498677  0.706171  0.098591  "
      ]
     },
     "metadata": {},
     "output_type": "display_data"
    }
   ],
   "source": [
    "results = []\n",
    "best_models = {}\n",
    "\n",
    "for name, mp in models_params.items():\n",
    "    print(f\"Обучение модели: {name}\")\n",
    "    grid = GridSearchCV(mp[\"model\"], mp[\"params\"], cv=5, scoring=\"r2\", n_jobs=-1)\n",
    "    grid.fit(X_train, y_train)\n",
    "\n",
    "    y_pred_log = grid.predict(X_test)\n",
    "\n",
    "    mae = mean_absolute_error(y_test, y_pred_log)\n",
    "    r2 = r2_score(y_test, y_pred_log)\n",
    "    mse = mean_squared_error(y_test, y_pred_log)\n",
    "    rmse = np.sqrt(mse)\n",
    "\n",
    "    results.append(\n",
    "        {\n",
    "            \"Model\": name,\n",
    "            \"Best_Params\": grid.best_params_,\n",
    "            \"MAE\": mae,\n",
    "            \"MSE\": mse,\n",
    "            \"RMSE\": rmse,\n",
    "            \"R2\": r2,\n",
    "        }\n",
    "    )\n",
    "\n",
    "    best_models[name] = grid\n",
    "\n",
    "results_df = pd.DataFrame(results).sort_values(by=\"R2\", ascending=False)\n",
    "display(results_df)"
   ]
  },
  {
   "cell_type": "code",
   "execution_count": 6,
   "id": "a97bd9dc",
   "metadata": {},
   "outputs": [
    {
     "name": "stdout",
     "output_type": "stream",
     "text": [
      "Лучшая модель: XGBoost\n"
     ]
    }
   ],
   "source": [
    "# Автоматический выбор лучшей модели по R2\n",
    "best_idx = results_df[\"R2\"].idxmax()\n",
    "best_model_name = results_df.loc[best_idx, \"Model\"]\n",
    "best_model = best_models[best_model_name]\n",
    "\n",
    "print(f\"Лучшая модель: {best_model_name}\")"
   ]
  }
 ],
 "metadata": {
  "kernelspec": {
   "display_name": "base",
   "language": "python",
   "name": "python3"
  },
  "language_info": {
   "codemirror_mode": {
    "name": "ipython",
    "version": 3
   },
   "file_extension": ".py",
   "mimetype": "text/x-python",
   "name": "python",
   "nbconvert_exporter": "python",
   "pygments_lexer": "ipython3",
   "version": "3.12.7"
  }
 },
 "nbformat": 4,
 "nbformat_minor": 5
}
