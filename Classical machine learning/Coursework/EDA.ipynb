{
 "cells": [
  {
   "cell_type": "code",
   "execution_count": 1,
   "id": "7ab54fd3",
   "metadata": {},
   "outputs": [],
   "source": [
    "import pandas as pd\n",
    "import numpy as np\n",
    "import matplotlib.pyplot as plt\n",
    "import seaborn as sns\n",
    "import plotly.express as px"
   ]
  },
  {
   "cell_type": "code",
   "execution_count": 2,
   "id": "a376fea2",
   "metadata": {},
   "outputs": [],
   "source": [
    "data = pd.read_excel(\n",
    "    \"data\\Данные_для_курсовои_Классическое_МО.xlsx\"\n",
    ")"
   ]
  },
  {
   "cell_type": "code",
   "execution_count": 3,
   "id": "49b3f34e",
   "metadata": {},
   "outputs": [
    {
     "name": "stdout",
     "output_type": "stream",
     "text": [
      "<class 'pandas.core.frame.DataFrame'>\n",
      "RangeIndex: 1001 entries, 0 to 1000\n",
      "Columns: 214 entries, Unnamed: 0 to fr_urea\n",
      "dtypes: float64(107), int64(107)\n",
      "memory usage: 1.6 MB\n"
     ]
    }
   ],
   "source": [
    "data.info()"
   ]
  },
  {
   "cell_type": "code",
   "execution_count": 4,
   "id": "e5e301d5",
   "metadata": {},
   "outputs": [
    {
     "data": {
      "text/html": [
       "<div>\n",
       "<style scoped>\n",
       "    .dataframe tbody tr th:only-of-type {\n",
       "        vertical-align: middle;\n",
       "    }\n",
       "\n",
       "    .dataframe tbody tr th {\n",
       "        vertical-align: top;\n",
       "    }\n",
       "\n",
       "    .dataframe thead th {\n",
       "        text-align: right;\n",
       "    }\n",
       "</style>\n",
       "<table border=\"1\" class=\"dataframe\">\n",
       "  <thead>\n",
       "    <tr style=\"text-align: right;\">\n",
       "      <th></th>\n",
       "      <th>Unnamed: 0</th>\n",
       "      <th>IC50, mM</th>\n",
       "      <th>CC50, mM</th>\n",
       "      <th>SI</th>\n",
       "      <th>MaxAbsEStateIndex</th>\n",
       "      <th>MaxEStateIndex</th>\n",
       "      <th>MinAbsEStateIndex</th>\n",
       "      <th>MinEStateIndex</th>\n",
       "      <th>qed</th>\n",
       "      <th>SPS</th>\n",
       "      <th>...</th>\n",
       "      <th>fr_sulfide</th>\n",
       "      <th>fr_sulfonamd</th>\n",
       "      <th>fr_sulfone</th>\n",
       "      <th>fr_term_acetylene</th>\n",
       "      <th>fr_tetrazole</th>\n",
       "      <th>fr_thiazole</th>\n",
       "      <th>fr_thiocyan</th>\n",
       "      <th>fr_thiophene</th>\n",
       "      <th>fr_unbrch_alkane</th>\n",
       "      <th>fr_urea</th>\n",
       "    </tr>\n",
       "  </thead>\n",
       "  <tbody>\n",
       "    <tr>\n",
       "      <th>0</th>\n",
       "      <td>0</td>\n",
       "      <td>6.239374</td>\n",
       "      <td>175.482382</td>\n",
       "      <td>28.125000</td>\n",
       "      <td>5.094096</td>\n",
       "      <td>5.094096</td>\n",
       "      <td>0.387225</td>\n",
       "      <td>0.387225</td>\n",
       "      <td>0.417362</td>\n",
       "      <td>42.928571</td>\n",
       "      <td>...</td>\n",
       "      <td>0</td>\n",
       "      <td>0</td>\n",
       "      <td>0</td>\n",
       "      <td>0</td>\n",
       "      <td>0</td>\n",
       "      <td>0</td>\n",
       "      <td>0</td>\n",
       "      <td>0</td>\n",
       "      <td>3</td>\n",
       "      <td>0</td>\n",
       "    </tr>\n",
       "    <tr>\n",
       "      <th>1</th>\n",
       "      <td>1</td>\n",
       "      <td>0.771831</td>\n",
       "      <td>5.402819</td>\n",
       "      <td>7.000000</td>\n",
       "      <td>3.961417</td>\n",
       "      <td>3.961417</td>\n",
       "      <td>0.533868</td>\n",
       "      <td>0.533868</td>\n",
       "      <td>0.462473</td>\n",
       "      <td>45.214286</td>\n",
       "      <td>...</td>\n",
       "      <td>0</td>\n",
       "      <td>0</td>\n",
       "      <td>0</td>\n",
       "      <td>0</td>\n",
       "      <td>0</td>\n",
       "      <td>0</td>\n",
       "      <td>0</td>\n",
       "      <td>0</td>\n",
       "      <td>3</td>\n",
       "      <td>0</td>\n",
       "    </tr>\n",
       "    <tr>\n",
       "      <th>2</th>\n",
       "      <td>2</td>\n",
       "      <td>223.808778</td>\n",
       "      <td>161.142320</td>\n",
       "      <td>0.720000</td>\n",
       "      <td>2.627117</td>\n",
       "      <td>2.627117</td>\n",
       "      <td>0.543231</td>\n",
       "      <td>0.543231</td>\n",
       "      <td>0.260923</td>\n",
       "      <td>42.187500</td>\n",
       "      <td>...</td>\n",
       "      <td>0</td>\n",
       "      <td>0</td>\n",
       "      <td>0</td>\n",
       "      <td>0</td>\n",
       "      <td>0</td>\n",
       "      <td>0</td>\n",
       "      <td>0</td>\n",
       "      <td>0</td>\n",
       "      <td>3</td>\n",
       "      <td>0</td>\n",
       "    </tr>\n",
       "    <tr>\n",
       "      <th>3</th>\n",
       "      <td>3</td>\n",
       "      <td>1.705624</td>\n",
       "      <td>107.855654</td>\n",
       "      <td>63.235294</td>\n",
       "      <td>5.097360</td>\n",
       "      <td>5.097360</td>\n",
       "      <td>0.390603</td>\n",
       "      <td>0.390603</td>\n",
       "      <td>0.377846</td>\n",
       "      <td>41.862069</td>\n",
       "      <td>...</td>\n",
       "      <td>0</td>\n",
       "      <td>0</td>\n",
       "      <td>0</td>\n",
       "      <td>0</td>\n",
       "      <td>0</td>\n",
       "      <td>0</td>\n",
       "      <td>0</td>\n",
       "      <td>0</td>\n",
       "      <td>4</td>\n",
       "      <td>0</td>\n",
       "    </tr>\n",
       "    <tr>\n",
       "      <th>4</th>\n",
       "      <td>4</td>\n",
       "      <td>107.131532</td>\n",
       "      <td>139.270991</td>\n",
       "      <td>1.300000</td>\n",
       "      <td>5.150510</td>\n",
       "      <td>5.150510</td>\n",
       "      <td>0.270476</td>\n",
       "      <td>0.270476</td>\n",
       "      <td>0.429038</td>\n",
       "      <td>36.514286</td>\n",
       "      <td>...</td>\n",
       "      <td>0</td>\n",
       "      <td>0</td>\n",
       "      <td>0</td>\n",
       "      <td>0</td>\n",
       "      <td>0</td>\n",
       "      <td>0</td>\n",
       "      <td>0</td>\n",
       "      <td>0</td>\n",
       "      <td>0</td>\n",
       "      <td>0</td>\n",
       "    </tr>\n",
       "  </tbody>\n",
       "</table>\n",
       "<p>5 rows × 214 columns</p>\n",
       "</div>"
      ],
      "text/plain": [
       "   Unnamed: 0    IC50, mM    CC50, mM         SI  MaxAbsEStateIndex  \\\n",
       "0           0    6.239374  175.482382  28.125000           5.094096   \n",
       "1           1    0.771831    5.402819   7.000000           3.961417   \n",
       "2           2  223.808778  161.142320   0.720000           2.627117   \n",
       "3           3    1.705624  107.855654  63.235294           5.097360   \n",
       "4           4  107.131532  139.270991   1.300000           5.150510   \n",
       "\n",
       "   MaxEStateIndex  MinAbsEStateIndex  MinEStateIndex       qed        SPS  \\\n",
       "0        5.094096           0.387225        0.387225  0.417362  42.928571   \n",
       "1        3.961417           0.533868        0.533868  0.462473  45.214286   \n",
       "2        2.627117           0.543231        0.543231  0.260923  42.187500   \n",
       "3        5.097360           0.390603        0.390603  0.377846  41.862069   \n",
       "4        5.150510           0.270476        0.270476  0.429038  36.514286   \n",
       "\n",
       "   ...  fr_sulfide  fr_sulfonamd  fr_sulfone  fr_term_acetylene  fr_tetrazole  \\\n",
       "0  ...           0             0           0                  0             0   \n",
       "1  ...           0             0           0                  0             0   \n",
       "2  ...           0             0           0                  0             0   \n",
       "3  ...           0             0           0                  0             0   \n",
       "4  ...           0             0           0                  0             0   \n",
       "\n",
       "   fr_thiazole  fr_thiocyan  fr_thiophene  fr_unbrch_alkane  fr_urea  \n",
       "0            0            0             0                 3        0  \n",
       "1            0            0             0                 3        0  \n",
       "2            0            0             0                 3        0  \n",
       "3            0            0             0                 4        0  \n",
       "4            0            0             0                 0        0  \n",
       "\n",
       "[5 rows x 214 columns]"
      ]
     },
     "execution_count": 4,
     "metadata": {},
     "output_type": "execute_result"
    }
   ],
   "source": [
    "data.head()"
   ]
  },
  {
   "cell_type": "code",
   "execution_count": 5,
   "id": "b8a646d2",
   "metadata": {},
   "outputs": [],
   "source": [
    "data.drop([\"Unnamed: 0\"], axis=1, inplace=True)"
   ]
  },
  {
   "cell_type": "code",
   "execution_count": 6,
   "id": "87e982b8",
   "metadata": {},
   "outputs": [
    {
     "data": {
      "text/html": [
       "<div>\n",
       "<style scoped>\n",
       "    .dataframe tbody tr th:only-of-type {\n",
       "        vertical-align: middle;\n",
       "    }\n",
       "\n",
       "    .dataframe tbody tr th {\n",
       "        vertical-align: top;\n",
       "    }\n",
       "\n",
       "    .dataframe thead th {\n",
       "        text-align: right;\n",
       "    }\n",
       "</style>\n",
       "<table border=\"1\" class=\"dataframe\">\n",
       "  <thead>\n",
       "    <tr style=\"text-align: right;\">\n",
       "      <th></th>\n",
       "      <th>IC50, mM</th>\n",
       "      <th>CC50, mM</th>\n",
       "      <th>SI</th>\n",
       "      <th>MaxAbsEStateIndex</th>\n",
       "      <th>MaxEStateIndex</th>\n",
       "      <th>MinAbsEStateIndex</th>\n",
       "      <th>MinEStateIndex</th>\n",
       "      <th>qed</th>\n",
       "      <th>SPS</th>\n",
       "      <th>MolWt</th>\n",
       "      <th>...</th>\n",
       "      <th>fr_sulfide</th>\n",
       "      <th>fr_sulfonamd</th>\n",
       "      <th>fr_sulfone</th>\n",
       "      <th>fr_term_acetylene</th>\n",
       "      <th>fr_tetrazole</th>\n",
       "      <th>fr_thiazole</th>\n",
       "      <th>fr_thiocyan</th>\n",
       "      <th>fr_thiophene</th>\n",
       "      <th>fr_unbrch_alkane</th>\n",
       "      <th>fr_urea</th>\n",
       "    </tr>\n",
       "  </thead>\n",
       "  <tbody>\n",
       "    <tr>\n",
       "      <th>count</th>\n",
       "      <td>1001.000000</td>\n",
       "      <td>1001.000000</td>\n",
       "      <td>1001.000000</td>\n",
       "      <td>1001.000000</td>\n",
       "      <td>1001.000000</td>\n",
       "      <td>1001.000000</td>\n",
       "      <td>1001.000000</td>\n",
       "      <td>1001.000000</td>\n",
       "      <td>1001.000000</td>\n",
       "      <td>1001.000000</td>\n",
       "      <td>...</td>\n",
       "      <td>1001.000000</td>\n",
       "      <td>1001.000000</td>\n",
       "      <td>1001.000000</td>\n",
       "      <td>1001.000000</td>\n",
       "      <td>1001.000000</td>\n",
       "      <td>1001.000000</td>\n",
       "      <td>1001.0</td>\n",
       "      <td>1001.000000</td>\n",
       "      <td>1001.000000</td>\n",
       "      <td>1001.000000</td>\n",
       "    </tr>\n",
       "    <tr>\n",
       "      <th>mean</th>\n",
       "      <td>222.805156</td>\n",
       "      <td>589.110728</td>\n",
       "      <td>72.508823</td>\n",
       "      <td>10.831637</td>\n",
       "      <td>10.831637</td>\n",
       "      <td>0.180681</td>\n",
       "      <td>-0.967237</td>\n",
       "      <td>0.580412</td>\n",
       "      <td>29.487989</td>\n",
       "      <td>348.262234</td>\n",
       "      <td>...</td>\n",
       "      <td>0.053946</td>\n",
       "      <td>0.011988</td>\n",
       "      <td>0.008991</td>\n",
       "      <td>0.000999</td>\n",
       "      <td>0.000999</td>\n",
       "      <td>0.051948</td>\n",
       "      <td>0.0</td>\n",
       "      <td>0.069930</td>\n",
       "      <td>0.204795</td>\n",
       "      <td>0.006993</td>\n",
       "    </tr>\n",
       "    <tr>\n",
       "      <th>std</th>\n",
       "      <td>402.169734</td>\n",
       "      <td>642.867508</td>\n",
       "      <td>684.482739</td>\n",
       "      <td>3.307505</td>\n",
       "      <td>3.307505</td>\n",
       "      <td>0.168710</td>\n",
       "      <td>1.588036</td>\n",
       "      <td>0.212230</td>\n",
       "      <td>12.742749</td>\n",
       "      <td>126.946370</td>\n",
       "      <td>...</td>\n",
       "      <td>0.259011</td>\n",
       "      <td>0.108886</td>\n",
       "      <td>0.094441</td>\n",
       "      <td>0.031607</td>\n",
       "      <td>0.031607</td>\n",
       "      <td>0.222033</td>\n",
       "      <td>0.0</td>\n",
       "      <td>0.255157</td>\n",
       "      <td>1.215326</td>\n",
       "      <td>0.083373</td>\n",
       "    </tr>\n",
       "    <tr>\n",
       "      <th>min</th>\n",
       "      <td>0.003517</td>\n",
       "      <td>0.700808</td>\n",
       "      <td>0.011489</td>\n",
       "      <td>2.321942</td>\n",
       "      <td>2.321942</td>\n",
       "      <td>0.000039</td>\n",
       "      <td>-6.992796</td>\n",
       "      <td>0.059567</td>\n",
       "      <td>9.416667</td>\n",
       "      <td>110.156000</td>\n",
       "      <td>...</td>\n",
       "      <td>0.000000</td>\n",
       "      <td>0.000000</td>\n",
       "      <td>0.000000</td>\n",
       "      <td>0.000000</td>\n",
       "      <td>0.000000</td>\n",
       "      <td>0.000000</td>\n",
       "      <td>0.0</td>\n",
       "      <td>0.000000</td>\n",
       "      <td>0.000000</td>\n",
       "      <td>0.000000</td>\n",
       "    </tr>\n",
       "    <tr>\n",
       "      <th>25%</th>\n",
       "      <td>12.515396</td>\n",
       "      <td>99.999036</td>\n",
       "      <td>1.433333</td>\n",
       "      <td>9.252350</td>\n",
       "      <td>9.252350</td>\n",
       "      <td>0.051073</td>\n",
       "      <td>-1.334487</td>\n",
       "      <td>0.442842</td>\n",
       "      <td>18.486486</td>\n",
       "      <td>264.321000</td>\n",
       "      <td>...</td>\n",
       "      <td>0.000000</td>\n",
       "      <td>0.000000</td>\n",
       "      <td>0.000000</td>\n",
       "      <td>0.000000</td>\n",
       "      <td>0.000000</td>\n",
       "      <td>0.000000</td>\n",
       "      <td>0.0</td>\n",
       "      <td>0.000000</td>\n",
       "      <td>0.000000</td>\n",
       "      <td>0.000000</td>\n",
       "    </tr>\n",
       "    <tr>\n",
       "      <th>50%</th>\n",
       "      <td>46.585183</td>\n",
       "      <td>411.039342</td>\n",
       "      <td>3.846154</td>\n",
       "      <td>12.179236</td>\n",
       "      <td>12.179236</td>\n",
       "      <td>0.124606</td>\n",
       "      <td>-0.419485</td>\n",
       "      <td>0.634981</td>\n",
       "      <td>29.290323</td>\n",
       "      <td>315.457000</td>\n",
       "      <td>...</td>\n",
       "      <td>0.000000</td>\n",
       "      <td>0.000000</td>\n",
       "      <td>0.000000</td>\n",
       "      <td>0.000000</td>\n",
       "      <td>0.000000</td>\n",
       "      <td>0.000000</td>\n",
       "      <td>0.0</td>\n",
       "      <td>0.000000</td>\n",
       "      <td>0.000000</td>\n",
       "      <td>0.000000</td>\n",
       "    </tr>\n",
       "    <tr>\n",
       "      <th>75%</th>\n",
       "      <td>224.975928</td>\n",
       "      <td>894.089176</td>\n",
       "      <td>16.566667</td>\n",
       "      <td>13.167843</td>\n",
       "      <td>13.167843</td>\n",
       "      <td>0.291020</td>\n",
       "      <td>0.061754</td>\n",
       "      <td>0.742483</td>\n",
       "      <td>38.750000</td>\n",
       "      <td>409.283000</td>\n",
       "      <td>...</td>\n",
       "      <td>0.000000</td>\n",
       "      <td>0.000000</td>\n",
       "      <td>0.000000</td>\n",
       "      <td>0.000000</td>\n",
       "      <td>0.000000</td>\n",
       "      <td>0.000000</td>\n",
       "      <td>0.0</td>\n",
       "      <td>0.000000</td>\n",
       "      <td>0.000000</td>\n",
       "      <td>0.000000</td>\n",
       "    </tr>\n",
       "    <tr>\n",
       "      <th>max</th>\n",
       "      <td>4128.529377</td>\n",
       "      <td>4538.976189</td>\n",
       "      <td>15620.600000</td>\n",
       "      <td>15.933463</td>\n",
       "      <td>15.933463</td>\n",
       "      <td>1.374614</td>\n",
       "      <td>1.374614</td>\n",
       "      <td>0.947265</td>\n",
       "      <td>60.272727</td>\n",
       "      <td>904.777000</td>\n",
       "      <td>...</td>\n",
       "      <td>2.000000</td>\n",
       "      <td>1.000000</td>\n",
       "      <td>1.000000</td>\n",
       "      <td>1.000000</td>\n",
       "      <td>1.000000</td>\n",
       "      <td>1.000000</td>\n",
       "      <td>0.0</td>\n",
       "      <td>1.000000</td>\n",
       "      <td>20.000000</td>\n",
       "      <td>1.000000</td>\n",
       "    </tr>\n",
       "  </tbody>\n",
       "</table>\n",
       "<p>8 rows × 213 columns</p>\n",
       "</div>"
      ],
      "text/plain": [
       "          IC50, mM     CC50, mM            SI  MaxAbsEStateIndex  \\\n",
       "count  1001.000000  1001.000000   1001.000000        1001.000000   \n",
       "mean    222.805156   589.110728     72.508823          10.831637   \n",
       "std     402.169734   642.867508    684.482739           3.307505   \n",
       "min       0.003517     0.700808      0.011489           2.321942   \n",
       "25%      12.515396    99.999036      1.433333           9.252350   \n",
       "50%      46.585183   411.039342      3.846154          12.179236   \n",
       "75%     224.975928   894.089176     16.566667          13.167843   \n",
       "max    4128.529377  4538.976189  15620.600000          15.933463   \n",
       "\n",
       "       MaxEStateIndex  MinAbsEStateIndex  MinEStateIndex          qed  \\\n",
       "count     1001.000000        1001.000000     1001.000000  1001.000000   \n",
       "mean        10.831637           0.180681       -0.967237     0.580412   \n",
       "std          3.307505           0.168710        1.588036     0.212230   \n",
       "min          2.321942           0.000039       -6.992796     0.059567   \n",
       "25%          9.252350           0.051073       -1.334487     0.442842   \n",
       "50%         12.179236           0.124606       -0.419485     0.634981   \n",
       "75%         13.167843           0.291020        0.061754     0.742483   \n",
       "max         15.933463           1.374614        1.374614     0.947265   \n",
       "\n",
       "               SPS        MolWt  ...   fr_sulfide  fr_sulfonamd   fr_sulfone  \\\n",
       "count  1001.000000  1001.000000  ...  1001.000000   1001.000000  1001.000000   \n",
       "mean     29.487989   348.262234  ...     0.053946      0.011988     0.008991   \n",
       "std      12.742749   126.946370  ...     0.259011      0.108886     0.094441   \n",
       "min       9.416667   110.156000  ...     0.000000      0.000000     0.000000   \n",
       "25%      18.486486   264.321000  ...     0.000000      0.000000     0.000000   \n",
       "50%      29.290323   315.457000  ...     0.000000      0.000000     0.000000   \n",
       "75%      38.750000   409.283000  ...     0.000000      0.000000     0.000000   \n",
       "max      60.272727   904.777000  ...     2.000000      1.000000     1.000000   \n",
       "\n",
       "       fr_term_acetylene  fr_tetrazole  fr_thiazole  fr_thiocyan  \\\n",
       "count        1001.000000   1001.000000  1001.000000       1001.0   \n",
       "mean            0.000999      0.000999     0.051948          0.0   \n",
       "std             0.031607      0.031607     0.222033          0.0   \n",
       "min             0.000000      0.000000     0.000000          0.0   \n",
       "25%             0.000000      0.000000     0.000000          0.0   \n",
       "50%             0.000000      0.000000     0.000000          0.0   \n",
       "75%             0.000000      0.000000     0.000000          0.0   \n",
       "max             1.000000      1.000000     1.000000          0.0   \n",
       "\n",
       "       fr_thiophene  fr_unbrch_alkane      fr_urea  \n",
       "count   1001.000000       1001.000000  1001.000000  \n",
       "mean       0.069930          0.204795     0.006993  \n",
       "std        0.255157          1.215326     0.083373  \n",
       "min        0.000000          0.000000     0.000000  \n",
       "25%        0.000000          0.000000     0.000000  \n",
       "50%        0.000000          0.000000     0.000000  \n",
       "75%        0.000000          0.000000     0.000000  \n",
       "max        1.000000         20.000000     1.000000  \n",
       "\n",
       "[8 rows x 213 columns]"
      ]
     },
     "execution_count": 6,
     "metadata": {},
     "output_type": "execute_result"
    }
   ],
   "source": [
    "data.describe()"
   ]
  },
  {
   "cell_type": "markdown",
   "id": "6559e8e5",
   "metadata": {},
   "source": [
    "Обработка пропусков"
   ]
  },
  {
   "cell_type": "code",
   "execution_count": 7,
   "id": "70d02d4a",
   "metadata": {},
   "outputs": [
    {
     "data": {
      "text/plain": [
       "36"
      ]
     },
     "execution_count": 7,
     "metadata": {},
     "output_type": "execute_result"
    }
   ],
   "source": [
    "data.isnull().sum().sum()"
   ]
  },
  {
   "cell_type": "code",
   "execution_count": 8,
   "id": "bbea5169",
   "metadata": {},
   "outputs": [
    {
     "data": {
      "text/plain": [
       "MaxPartialCharge       3\n",
       "MinPartialCharge       3\n",
       "MaxAbsPartialCharge    3\n",
       "MinAbsPartialCharge    3\n",
       "BCUT2D_MWHI            3\n",
       "BCUT2D_MWLOW           3\n",
       "BCUT2D_CHGHI           3\n",
       "BCUT2D_CHGLO           3\n",
       "BCUT2D_LOGPHI          3\n",
       "BCUT2D_LOGPLOW         3\n",
       "BCUT2D_MRHI            3\n",
       "BCUT2D_MRLOW           3\n",
       "dtype: int64"
      ]
     },
     "execution_count": 8,
     "metadata": {},
     "output_type": "execute_result"
    }
   ],
   "source": [
    "columns_with_missing = data.isnull().sum()\n",
    "columns_with_missing = columns_with_missing[columns_with_missing > 0]\n",
    "\n",
    "columns_with_missing"
   ]
  },
  {
   "cell_type": "markdown",
   "id": "b0c393e1",
   "metadata": {},
   "source": [
    "Удаляем строки с пропусками и проверяем, что больше их нет"
   ]
  },
  {
   "cell_type": "code",
   "execution_count": 9,
   "id": "1da27642",
   "metadata": {},
   "outputs": [
    {
     "data": {
      "text/plain": [
       "0"
      ]
     },
     "execution_count": 9,
     "metadata": {},
     "output_type": "execute_result"
    }
   ],
   "source": [
    "data = data.dropna()\n",
    "\n",
    "data.isnull().sum().sum()"
   ]
  },
  {
   "cell_type": "code",
   "execution_count": 10,
   "id": "9b830d98",
   "metadata": {},
   "outputs": [],
   "source": [
    "# Проверим формулу SI = CC50 / IC50 (если SI есть в данных)\n",
    "if {\"IC50\", \"CC50\", \"SI\"}.issubset(data.columns):\n",
    "    data[\"SI_calc\"] = data[\"CC50\"] / data[\"IC50\"]\n",
    "    diff = np.abs(data[\"SI\"] - data[\"SI_calc\"])\n",
    "    print(f\"\\nМаксимальное отклонение между SI и расчетным значением: {diff.max()}\")"
   ]
  },
  {
   "cell_type": "markdown",
   "id": "dbddfc86",
   "metadata": {},
   "source": [
    "Проверка на дубликаты"
   ]
  },
  {
   "cell_type": "code",
   "execution_count": 11,
   "id": "9c0a0291",
   "metadata": {},
   "outputs": [
    {
     "name": "stdout",
     "output_type": "stream",
     "text": [
      "Полных дубликатов: 32\n"
     ]
    }
   ],
   "source": [
    "print(f\"Полных дубликатов: {data.duplicated().sum()}\")"
   ]
  },
  {
   "cell_type": "markdown",
   "id": "ae799a35",
   "metadata": {},
   "source": [
    "Удаляем их"
   ]
  },
  {
   "cell_type": "code",
   "execution_count": 12,
   "id": "83475669",
   "metadata": {},
   "outputs": [
    {
     "name": "stdout",
     "output_type": "stream",
     "text": [
      "Полных дубликатов после чистки: 0\n"
     ]
    }
   ],
   "source": [
    "data = data.drop_duplicates()\n",
    "\n",
    "print(f\"Полных дубликатов после чистки: {data.duplicated().sum()}\")"
   ]
  },
  {
   "cell_type": "markdown",
   "id": "e2373b9e",
   "metadata": {},
   "source": [
    "Рассмотрим более подробно целевые переменные"
   ]
  },
  {
   "cell_type": "code",
   "execution_count": 13,
   "id": "433d52dc",
   "metadata": {},
   "outputs": [],
   "source": [
    "target_variables = [\"IC50, mM\", \"CC50, mM\", \"SI\"]"
   ]
  },
  {
   "cell_type": "code",
   "execution_count": 14,
   "id": "5c1c4216",
   "metadata": {},
   "outputs": [
    {
     "data": {
      "application/vnd.plotly.v1+json": {
       "config": {
        "plotlyServerURL": "https://plot.ly"
       },
       "data": [
        {
         "bingroup": "x",
         "hovertemplate": "IC50, mM=%{x}<br>count=%{y}<extra></extra>",
         "legendgroup": "",
         "marker": {
          "color": "#636efa",
          "pattern": {
           "shape": ""
          }
         },
         "name": "",
         "nbinsx": 50,
         "orientation": "v",
         "showlegend": false,
         "type": "histogram",
         "x": {
          "bdata": "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",
          "dtype": "f8"
         },
         "xaxis": "x",
         "yaxis": "y"
        },
        {
         "hovertemplate": "IC50, mM=%{x}<extra></extra>",
         "legendgroup": "",
         "marker": {
          "color": "#636efa"
         },
         "name": "",
         "notched": true,
         "showlegend": false,
         "type": "box",
         "x": {
          "bdata": "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",
          "dtype": "f8"
         },
         "xaxis": "x2",
         "yaxis": "y2"
        }
       ],
       "layout": {
        "barmode": "relative",
        "legend": {
         "tracegroupgap": 0
        },
        "template": {
         "data": {
          "bar": [
           {
            "error_x": {
             "color": "#2a3f5f"
            },
            "error_y": {
             "color": "#2a3f5f"
            },
            "marker": {
             "line": {
              "color": "#E5ECF6",
              "width": 0.5
             },
             "pattern": {
              "fillmode": "overlay",
              "size": 10,
              "solidity": 0.2
             }
            },
            "type": "bar"
           }
          ],
          "barpolar": [
           {
            "marker": {
             "line": {
              "color": "#E5ECF6",
              "width": 0.5
             },
             "pattern": {
              "fillmode": "overlay",
              "size": 10,
              "solidity": 0.2
             }
            },
            "type": "barpolar"
           }
          ],
          "carpet": [
           {
            "aaxis": {
             "endlinecolor": "#2a3f5f",
             "gridcolor": "white",
             "linecolor": "white",
             "minorgridcolor": "white",
             "startlinecolor": "#2a3f5f"
            },
            "baxis": {
             "endlinecolor": "#2a3f5f",
             "gridcolor": "white",
             "linecolor": "white",
             "minorgridcolor": "white",
             "startlinecolor": "#2a3f5f"
            },
            "type": "carpet"
           }
          ],
          "choropleth": [
           {
            "colorbar": {
             "outlinewidth": 0,
             "ticks": ""
            },
            "type": "choropleth"
           }
          ],
          "contour": [
           {
            "colorbar": {
             "outlinewidth": 0,
             "ticks": ""
            },
            "colorscale": [
             [
              0,
              "#0d0887"
             ],
             [
              0.1111111111111111,
              "#46039f"
             ],
             [
              0.2222222222222222,
              "#7201a8"
             ],
             [
              0.3333333333333333,
              "#9c179e"
             ],
             [
              0.4444444444444444,
              "#bd3786"
             ],
             [
              0.5555555555555556,
              "#d8576b"
             ],
             [
              0.6666666666666666,
              "#ed7953"
             ],
             [
              0.7777777777777778,
              "#fb9f3a"
             ],
             [
              0.8888888888888888,
              "#fdca26"
             ],
             [
              1,
              "#f0f921"
             ]
            ],
            "type": "contour"
           }
          ],
          "contourcarpet": [
           {
            "colorbar": {
             "outlinewidth": 0,
             "ticks": ""
            },
            "type": "contourcarpet"
           }
          ],
          "heatmap": [
           {
            "colorbar": {
             "outlinewidth": 0,
             "ticks": ""
            },
            "colorscale": [
             [
              0,
              "#0d0887"
             ],
             [
              0.1111111111111111,
              "#46039f"
             ],
             [
              0.2222222222222222,
              "#7201a8"
             ],
             [
              0.3333333333333333,
              "#9c179e"
             ],
             [
              0.4444444444444444,
              "#bd3786"
             ],
             [
              0.5555555555555556,
              "#d8576b"
             ],
             [
              0.6666666666666666,
              "#ed7953"
             ],
             [
              0.7777777777777778,
              "#fb9f3a"
             ],
             [
              0.8888888888888888,
              "#fdca26"
             ],
             [
              1,
              "#f0f921"
             ]
            ],
            "type": "heatmap"
           }
          ],
          "histogram": [
           {
            "marker": {
             "pattern": {
              "fillmode": "overlay",
              "size": 10,
              "solidity": 0.2
             }
            },
            "type": "histogram"
           }
          ],
          "histogram2d": [
           {
            "colorbar": {
             "outlinewidth": 0,
             "ticks": ""
            },
            "colorscale": [
             [
              0,
              "#0d0887"
             ],
             [
              0.1111111111111111,
              "#46039f"
             ],
             [
              0.2222222222222222,
              "#7201a8"
             ],
             [
              0.3333333333333333,
              "#9c179e"
             ],
             [
              0.4444444444444444,
              "#bd3786"
             ],
             [
              0.5555555555555556,
              "#d8576b"
             ],
             [
              0.6666666666666666,
              "#ed7953"
             ],
             [
              0.7777777777777778,
              "#fb9f3a"
             ],
             [
              0.8888888888888888,
              "#fdca26"
             ],
             [
              1,
              "#f0f921"
             ]
            ],
            "type": "histogram2d"
           }
          ],
          "histogram2dcontour": [
           {
            "colorbar": {
             "outlinewidth": 0,
             "ticks": ""
            },
            "colorscale": [
             [
              0,
              "#0d0887"
             ],
             [
              0.1111111111111111,
              "#46039f"
             ],
             [
              0.2222222222222222,
              "#7201a8"
             ],
             [
              0.3333333333333333,
              "#9c179e"
             ],
             [
              0.4444444444444444,
              "#bd3786"
             ],
             [
              0.5555555555555556,
              "#d8576b"
             ],
             [
              0.6666666666666666,
              "#ed7953"
             ],
             [
              0.7777777777777778,
              "#fb9f3a"
             ],
             [
              0.8888888888888888,
              "#fdca26"
             ],
             [
              1,
              "#f0f921"
             ]
            ],
            "type": "histogram2dcontour"
           }
          ],
          "mesh3d": [
           {
            "colorbar": {
             "outlinewidth": 0,
             "ticks": ""
            },
            "type": "mesh3d"
           }
          ],
          "parcoords": [
           {
            "line": {
             "colorbar": {
              "outlinewidth": 0,
              "ticks": ""
             }
            },
            "type": "parcoords"
           }
          ],
          "pie": [
           {
            "automargin": true,
            "type": "pie"
           }
          ],
          "scatter": [
           {
            "fillpattern": {
             "fillmode": "overlay",
             "size": 10,
             "solidity": 0.2
            },
            "type": "scatter"
           }
          ],
          "scatter3d": [
           {
            "line": {
             "colorbar": {
              "outlinewidth": 0,
              "ticks": ""
             }
            },
            "marker": {
             "colorbar": {
              "outlinewidth": 0,
              "ticks": ""
             }
            },
            "type": "scatter3d"
           }
          ],
          "scattercarpet": [
           {
            "marker": {
             "colorbar": {
              "outlinewidth": 0,
              "ticks": ""
             }
            },
            "type": "scattercarpet"
           }
          ],
          "scattergeo": [
           {
            "marker": {
             "colorbar": {
              "outlinewidth": 0,
              "ticks": ""
             }
            },
            "type": "scattergeo"
           }
          ],
          "scattergl": [
           {
            "marker": {
             "colorbar": {
              "outlinewidth": 0,
              "ticks": ""
             }
            },
            "type": "scattergl"
           }
          ],
          "scattermap": [
           {
            "marker": {
             "colorbar": {
              "outlinewidth": 0,
              "ticks": ""
             }
            },
            "type": "scattermap"
           }
          ],
          "scattermapbox": [
           {
            "marker": {
             "colorbar": {
              "outlinewidth": 0,
              "ticks": ""
             }
            },
            "type": "scattermapbox"
           }
          ],
          "scatterpolar": [
           {
            "marker": {
             "colorbar": {
              "outlinewidth": 0,
              "ticks": ""
             }
            },
            "type": "scatterpolar"
           }
          ],
          "scatterpolargl": [
           {
            "marker": {
             "colorbar": {
              "outlinewidth": 0,
              "ticks": ""
             }
            },
            "type": "scatterpolargl"
           }
          ],
          "scatterternary": [
           {
            "marker": {
             "colorbar": {
              "outlinewidth": 0,
              "ticks": ""
             }
            },
            "type": "scatterternary"
           }
          ],
          "surface": [
           {
            "colorbar": {
             "outlinewidth": 0,
             "ticks": ""
            },
            "colorscale": [
             [
              0,
              "#0d0887"
             ],
             [
              0.1111111111111111,
              "#46039f"
             ],
             [
              0.2222222222222222,
              "#7201a8"
             ],
             [
              0.3333333333333333,
              "#9c179e"
             ],
             [
              0.4444444444444444,
              "#bd3786"
             ],
             [
              0.5555555555555556,
              "#d8576b"
             ],
             [
              0.6666666666666666,
              "#ed7953"
             ],
             [
              0.7777777777777778,
              "#fb9f3a"
             ],
             [
              0.8888888888888888,
              "#fdca26"
             ],
             [
              1,
              "#f0f921"
             ]
            ],
            "type": "surface"
           }
          ],
          "table": [
           {
            "cells": {
             "fill": {
              "color": "#EBF0F8"
             },
             "line": {
              "color": "white"
             }
            },
            "header": {
             "fill": {
              "color": "#C8D4E3"
             },
             "line": {
              "color": "white"
             }
            },
            "type": "table"
           }
          ]
         },
         "layout": {
          "annotationdefaults": {
           "arrowcolor": "#2a3f5f",
           "arrowhead": 0,
           "arrowwidth": 1
          },
          "autotypenumbers": "strict",
          "coloraxis": {
           "colorbar": {
            "outlinewidth": 0,
            "ticks": ""
           }
          },
          "colorscale": {
           "diverging": [
            [
             0,
             "#8e0152"
            ],
            [
             0.1,
             "#c51b7d"
            ],
            [
             0.2,
             "#de77ae"
            ],
            [
             0.3,
             "#f1b6da"
            ],
            [
             0.4,
             "#fde0ef"
            ],
            [
             0.5,
             "#f7f7f7"
            ],
            [
             0.6,
             "#e6f5d0"
            ],
            [
             0.7,
             "#b8e186"
            ],
            [
             0.8,
             "#7fbc41"
            ],
            [
             0.9,
             "#4d9221"
            ],
            [
             1,
             "#276419"
            ]
           ],
           "sequential": [
            [
             0,
             "#0d0887"
            ],
            [
             0.1111111111111111,
             "#46039f"
            ],
            [
             0.2222222222222222,
             "#7201a8"
            ],
            [
             0.3333333333333333,
             "#9c179e"
            ],
            [
             0.4444444444444444,
             "#bd3786"
            ],
            [
             0.5555555555555556,
             "#d8576b"
            ],
            [
             0.6666666666666666,
             "#ed7953"
            ],
            [
             0.7777777777777778,
             "#fb9f3a"
            ],
            [
             0.8888888888888888,
             "#fdca26"
            ],
            [
             1,
             "#f0f921"
            ]
           ],
           "sequentialminus": [
            [
             0,
             "#0d0887"
            ],
            [
             0.1111111111111111,
             "#46039f"
            ],
            [
             0.2222222222222222,
             "#7201a8"
            ],
            [
             0.3333333333333333,
             "#9c179e"
            ],
            [
             0.4444444444444444,
             "#bd3786"
            ],
            [
             0.5555555555555556,
             "#d8576b"
            ],
            [
             0.6666666666666666,
             "#ed7953"
            ],
            [
             0.7777777777777778,
             "#fb9f3a"
            ],
            [
             0.8888888888888888,
             "#fdca26"
            ],
            [
             1,
             "#f0f921"
            ]
           ]
          },
          "colorway": [
           "#636efa",
           "#EF553B",
           "#00cc96",
           "#ab63fa",
           "#FFA15A",
           "#19d3f3",
           "#FF6692",
           "#B6E880",
           "#FF97FF",
           "#FECB52"
          ],
          "font": {
           "color": "#2a3f5f"
          },
          "geo": {
           "bgcolor": "white",
           "lakecolor": "white",
           "landcolor": "#E5ECF6",
           "showlakes": true,
           "showland": true,
           "subunitcolor": "white"
          },
          "hoverlabel": {
           "align": "left"
          },
          "hovermode": "closest",
          "mapbox": {
           "style": "light"
          },
          "paper_bgcolor": "white",
          "plot_bgcolor": "#E5ECF6",
          "polar": {
           "angularaxis": {
            "gridcolor": "white",
            "linecolor": "white",
            "ticks": ""
           },
           "bgcolor": "#E5ECF6",
           "radialaxis": {
            "gridcolor": "white",
            "linecolor": "white",
            "ticks": ""
           }
          },
          "scene": {
           "xaxis": {
            "backgroundcolor": "#E5ECF6",
            "gridcolor": "white",
            "gridwidth": 2,
            "linecolor": "white",
            "showbackground": true,
            "ticks": "",
            "zerolinecolor": "white"
           },
           "yaxis": {
            "backgroundcolor": "#E5ECF6",
            "gridcolor": "white",
            "gridwidth": 2,
            "linecolor": "white",
            "showbackground": true,
            "ticks": "",
            "zerolinecolor": "white"
           },
           "zaxis": {
            "backgroundcolor": "#E5ECF6",
            "gridcolor": "white",
            "gridwidth": 2,
            "linecolor": "white",
            "showbackground": true,
            "ticks": "",
            "zerolinecolor": "white"
           }
          },
          "shapedefaults": {
           "line": {
            "color": "#2a3f5f"
           }
          },
          "ternary": {
           "aaxis": {
            "gridcolor": "white",
            "linecolor": "white",
            "ticks": ""
           },
           "baxis": {
            "gridcolor": "white",
            "linecolor": "white",
            "ticks": ""
           },
           "bgcolor": "#E5ECF6",
           "caxis": {
            "gridcolor": "white",
            "linecolor": "white",
            "ticks": ""
           }
          },
          "title": {
           "x": 0.05
          },
          "xaxis": {
           "automargin": true,
           "gridcolor": "white",
           "linecolor": "white",
           "ticks": "",
           "title": {
            "standoff": 15
           },
           "zerolinecolor": "white",
           "zerolinewidth": 2
          },
          "yaxis": {
           "automargin": true,
           "gridcolor": "white",
           "linecolor": "white",
           "ticks": "",
           "title": {
            "standoff": 15
           },
           "zerolinecolor": "white",
           "zerolinewidth": 2
          }
         }
        },
        "title": {
         "text": "Распределение IC50, mM"
        },
        "xaxis": {
         "anchor": "y",
         "domain": [
          0,
          1
         ],
         "title": {
          "text": "IC50, mM"
         }
        },
        "xaxis2": {
         "anchor": "y2",
         "domain": [
          0,
          1
         ],
         "matches": "x",
         "showgrid": true,
         "showticklabels": false
        },
        "yaxis": {
         "anchor": "x",
         "domain": [
          0,
          0.8316
         ],
         "title": {
          "text": "count"
         }
        },
        "yaxis2": {
         "anchor": "x2",
         "domain": [
          0.8416,
          1
         ],
         "matches": "y2",
         "showgrid": false,
         "showline": false,
         "showticklabels": false,
         "ticks": ""
        }
       }
      }
     },
     "metadata": {},
     "output_type": "display_data"
    },
    {
     "data": {
      "application/vnd.plotly.v1+json": {
       "config": {
        "plotlyServerURL": "https://plot.ly"
       },
       "data": [
        {
         "bingroup": "x",
         "hovertemplate": "CC50, mM=%{x}<br>count=%{y}<extra></extra>",
         "legendgroup": "",
         "marker": {
          "color": "#636efa",
          "pattern": {
           "shape": ""
          }
         },
         "name": "",
         "nbinsx": 50,
         "orientation": "v",
         "showlegend": false,
         "type": "histogram",
         "x": {
          "bdata": "ftJ4q2/vZUAn+zaDfJwVQDgoreKNJGRAJzYTCcP2WkDxeQ72q2hhQDuUugNpEz5AzDsxDlseLUCHdLTfC5g3QD5i3FKyNmNAlgI4c4AOeUDCJjBCtXFAQGqKCxbnG1JAndqiTQDVg0DylxvIIRQXQJCryqMUw1NABNwc1/+IW0CqB5ltyNskQKO2bZXhIpJApU/+B79/h0BEuFfSD7pxQLbEQ2Tkk25AtCbRXGs0YkAmLwk5zUqWQMlCLHpurJBA+EHundNvlUD4Qe6d02+VQEFGPAMmJ4pAFbvI92n7e0Cwe8UfUB6hQGDuUotg/q9A3bw4hYcgsEAZCnJlbEGeQNzZIoXQ9y5A2hNEG714O0CNPruHq+RRQEVNQy7fAkRAeQPOGOywGUBxcqSYfIFAQLvRywCwq1FA81r+Fp2NRUDpWzU0h64wQJxsAZ5CAJVAUkZB12uycUALmNl+s2F4QIBVnsOKmJNAfCa/4kK9kEAb7v8nO6uQQGOvOuFuUKFAXOkSXUuJd0AxszHpJACkQAjZqK1o4aFA5pd0yRH4gUBWAsIw3pChQFdi1Exkq4JA5ao15uttnUCuor7mMNebQC6wUW5KXYtALrBRbkpdi0AGhSkFaNOJQO/tadRxfIlApPuQU8CXhECEIKHJgeqIQDYEinwZd1xACRaqQhjzVUCSn0C7qbZeQCrFBgqlkUNAcRVolnIOMkAAOMwFP9BMQAhp6OoFxlNANAvbxlQ5VECowfMNn7qCQDUFZUtPT0tAV0I9XrT0SUAKKeOIjfAbQABYfS5YDhtAPHNPbdBwSEDtz2t5yY4jQDnCMe05MpNA0SRLvxD+g0C24dtCwrWeQGyl0DvVy6NAsHvzRRZ0oECb2qiHqaipQJvaqIepqKlAm9qoh6moqUBbk81NC2OEQGRxQM16t5xA9sURR6l6iUCCLi8pkJ9yQPpciac0dWhAR4v5Ipd8g0DlqjXm622dQNpgHLFKK4lAlDBNzO7MYUCb2qiHqaipQJvaqIepqKlAsHvzRRZ0oEDiGoV4NPKaQOWqNebrbZ1ANJlTLTcSn0AmBkOiTHiLQLbh20LCtZ5AtuHbQsK1nkAIXoEW2J6aQIQTgqwOfaFAz+RqieF8c0BhixG/fnSgQMK1qAoOqaJAzogTWxkIc0CiSdIUD51lQCt0IoReNKRAKSmE6ZT4mUBMditTQxJvQJYFKmj5HaBApQq89qMAd0CO2fS6td+XQLrAaS6XXGFAtKkAFz27fEAtYUSoHimWQFYCwjDekKFAoPuZ/wuGoEAIXoEW2J6aQA0DE4pftGJA725OgQDenECjK7+vdHqLQGNw+LzQvoZA8vFwJDfei0BJkoiBPpF5QBG9p7/SIV1A0L9iTpyViUBAOW/4Du9fQBvWxJBjg3pAjFiqf8DLgUAx8S9gRg52QCw9Fi7ygXZAX+2TDbe0kkDE1dUD4ruRQDM/KjN2uZJAw6+7SU4aiUDa8Tkbu9ePQNrxORu7149AFZ2F/Dl4a0CXKv98IURmQPdaCff55ntAg713ViA2c0CAGua6HLeQQHCTk7Pt6GNALIJJuID0QUDdmDIEFeqCQGWI63/ghFNANP1t/nvWokBgSZlyo4qRQEZGsQoMk1BAUt5Ax+JZmkAQ1JOj15KHQKMoBMT3qaJA8d79CXMBkkDNnrmJZGtOQGRR8aufEIZAAUcy+Mm5Z0DML24lobB5QPDOAV69kItAiDFsUHwMNkCWBSpo+R2gQJYFKmj5HaBA8PB3vVCKM0D0ycCRLzw8QA7GqD31BRxADsaoPfUFTEDB0zsqZBqGQMswIaoIyYxAVhSLeMslm0Aol8i3el1kQMvQcH1IcV5AmYUt2ufMjUBWkhSPmhBXQBU6whJMH3BA8cV1vvTXckCfHNOUV/IkQCk/8bDyw5hA1rprkfBpmEB8vneEARqCQItX/mPkvK5AA9d95/m6sUAj12KI0ACqQHwqpifFmZdA6ab9P3dklkAYyKdlM6R1QPk1kmVZcklARhnkJr/baEAOlmxfYxWUQDF5s2Xuv5NASZX6qmc4h0AFEM+qrP2eQOxnEJU8kklAdeSlhhhiYUAm5M4YuoBjQMj6askREn9AvTmtbrevjEBTX95ROdxsQPx3BiFyLI1ANdVBNGgOcUAgjuSFQWaEQOSDJkPV6pVA4dCPneLWQkDAdYcU+POPQGDisbls0VNAl0oFgNSyYEBOHjnzCHxnQPm8U+Xd8ohA/T9fEseQX0DcXMz/LCZdQD5Wa0qdmFJAyro1kcDtWUAgw68p5ChBQMe9kyx1hGpAuPoocIyagEAS59h1GsCKQJrBVtv7po5AfLXQDpbUkEDWLHCQ1VyTQPWTaB0Dj2JANQB5vweqckA5vaetjWaRQJjhpuvEIUxAEXiS6K06YED3R29kmP+IQJAtw/mmSD5AH3e0FGr2WED+XuUE9z2BQN5+6TcQN21Au8NGV1H9R0Bwb+r9/DcpQADWwtM4aYNAnSKkk1dockDE1dUD4ruRQDM/KjN2uZJAxugdV2S5iUD74pQTCauTQOOKQDVSk2VAXWU8OZNcl0D4Qe6d02+VQGYUrlkzGZRApB9nhIx5ckAKVKEyyFeTQOvVUzfH0ohAslQnlEO0g0Bngv8usnpZQCU5YWj6LIFAxugdV2S5iUBz0WRsoRSNQMboHVdkuYlAGWEQz6iCekAkYraTsYmmQP7A5w3W/oJACYUxdzAxXUAJFimjjW1XQGIn3mYjrVlA49uBFGI2UEBd1gSreLcoQHJjesu11ZBACpwWMY+rjkCvE2vTTXKdQNa7CQyvg2dARiCq5E6NV0BOFIaYevBXQI4CY+BEQGZA7wJfiWRAbkAIIORidf5VQPWvzuPMR0lAOsOuEdouhUCZMNp6X7VzQAj7lwoAg2FALEoRg59GlUBWEaoGxfWQQCO74Prw4IJA+0dThw8kkEB4WA+Pv81yQDVZbIDIImlAXWlVG1wojkDj5RS8nIJpQHio7XwBX11A+ZQK7SyWg0BcPl9nCTNhQJMbi7rYAYRA7dWfGovXbUB0DyQLWaJVQPpB7fyvAkBA9yoqfleUiUBGQQiD75iKQEq9VRFj0jxAK8f6JFL3WED0mAFAIbOLQF1TceL4uVlAafrz/6vQf0AM6ZqUfRJ7QJKUfiFxKJpAgT5Sz30YpUCI09/mlipwQEkYE2hh0XdA0hslorbwi0B2DjSVL0dIQAqFxfvLGmNA3OtXGLZPSUAr305ebYCJQO2WUyvOG0RA9/NGrQ40NUChcAhLLACYQNedN/CExZBAMRhEaWyCdkA8er63vYReQHWCcNgxLZZAAmAYnxKSZkBCtSV6V8uRQLC1STA0sIRAyPzM+OWhNUB37WNyWYtnQFYshnsPS4pAFHnwENDkSEBJzCmJ5Y5qQLPhs4WRO1tAxUo2VmkFUkDUgFjkWot0QCcoM88fn3BAaSsNasYvc0DnhFePIKqTQFM7wkKvAHVA8ckuOehlkUAE3x+TzoxqQLLalQEzBj5As6b+QgMQZEBlUwZcF91jQDjODk4gyUZARLuQQAdSVEBEdm8WsnOCQHYbw2rKyFdA/vxu9YZ+YEBSQhKX9ApJQIvx9oUqlDtAPoviuzABj0Dzy2urEMdcQIHlnuTPmpBA31rBoyVeF0Cp36rVb+KIQFvnFermDxtA3vwD9NDhYEAUYdCozZRiQOjXN5PxaU9AzXgMKzWlWUBbU4YDlhOKQKkQB09iYzZAywv22VD6ikD9B+H5v/6OQMMaImFvno9AOnutemBjnkCjkcD3lrt0QGzHQvO5UJRAOnutemBjjkDZ/EaIriaDQGIqBh7wgmhAdhUoY9zMlEBCtSV6V8uRQJ/aok0A1ZNADjPvohgeZUAniHUligeJQJWHLS1boHxAiWyFPbS+NEDn4OAtdlJDQJTuVwoOG45AlDI75RViTUAqNhdf/naCQAk7RHOpM29ASxk2daO4kkAJeguGteqGQFHd/1ZjEnNAfcrcWwFGlECTZpHHfoNwQOfQ2GA+MmpAcO9u6oywkUDBy4ZbOix5QAzBgWhSIFJAdb7RDvdifUCewj7SzxWBQLk0ILeYel1AZPsFLKF4g0D9cR4GWmOOQHNZJO52w2VAGcBW92i5mUBgpj8SYnOJQFflg1lRHJFAdXCM7k0Qa0DaQsVir26UQAIC1z5gY5JA194eNVzAlECTJD46m7ZMQPS0uYslLjdAQBX44QXZZEDBKyucq+RHQLLyhK+NpV1AdLOIDfKFYUAtu9KPTmJeQGKCGHb8iFlAxNYRETKdU0Bp8LicvpyDQC8VwAKO3otA4q874JK7gUBLe+VlaxljQAR0xCgRs4tA99Dy6AVnlEBfXZrKaChFQPsybEOPInBAsx6FcWZveEDeZj5mdzx0QNbiyG8AonNAZWnOFDn6c0DK576RQThxQI7Ww5lCpnNACmazt/UMQkCHpJZGbEB8QBLaX5HS9XtAvpi3tTfpe0CbCp0rh8t7QAnzXtmJjHtAXxx3l4piekDn7KT7/zpjQE2aXRmzWn5Av8vPgA3HfUBBVK2nAHN9QL9KKZcSOH1Av0oplxI4fUDKr0JGCSxjQFpgoRZFwHxAWemPqJpVfEBKrQ+XN/97QOwOmpUtlntAZE8bmHPSfEDOAjJaBU97QIbgWAL/QntA5y9uXI3qekBfHHeXimJ6QOX3NHYUrYZAURQJ2x0/gUCueUauToGBQI7j9WUyjoFAjuP1ZTKOgUCO4/VlMo6BQHxOml3cQIJAnciuzyQlf0D5VRW3z1CAQA4y8DOChIBA7dnHeA3QgEAL0bZaL9B+QDHeJ52MCVBADjLwM4KEgECtsx/a5fAgQN9ZcBWws4FAs7Sov9QaQ0BaEGP5lBCAQH3r9QWVuoJA+Fs9g4eXU0Cinf87jMCAQIlaK4bhfYBAGR6ZXVPMf0DqRFlkEh2CQMpE7yrHUUdAZ06AmyWxgkCZ6sOjCwqAQN9ZcBWws4FA3zk92gOuOEDFaehAGzeBQFRzv6nOioJAjuP1ZTKOgUDyLDLXW1xjQBNhE1cBU01A6a80AIGzf0Cq7I46NU2HQEYEeFo2MYVA/pwIUMdYW0DMJq/v2bN8QA8zF30/HWdAQjzRQ/ohREBPXE9U4wWGQAbpkLzxZ2dAAcF+Cj/0hkDknMY1rqV0QEz1mIVPS5JAFHrIZolAckCaqoXFilqTQEIuHF2GSopAmu4A1uvmh0D78TqTBIWGQJnxz2KzdotAupU2eaD9lUDEiBPDfB1mQLiLqXhX8uk/vyQneP3AJUDdAeSfILI+QEiHw/k7uZBAqty/ac6Yk0DQbJzIY9qPQMjedq+MXZJAeWJMuv82jkA9ULo0FWKLQJMgtbCjCJFAJLjfnazikkDrVs4N+8mKQGR6Y3azLY1AEaZW0je/j0A07n9mnkONQHv0lgFA2JBAwh9/MQ7JkEAWkNLBhYmBQLsV9GFplZJACykMfMWakUCqZsqkUAmQQNBsnMhj2o9AbqRZ/loJjEBbZnv9jK2TQAeaodPnn4NAquyOOjVNh0DugyfAoMaHQEL8F7bv14JAXNWK2ZQ0gEBj0cAR0c5MQC7O1b3CkyNALEmzJzi7ckDYOiVTJIh5QPi/pHwG9otAWPlYgX6kiEBvESpvEWpwQDWQWDD8d4lAQOU2m18WkUC66uT25jWOQKpmyqRQCZBAy573jE6skUASczgfm7iEQEpP0KBsYzFAZfxQCZFYVkA0CkZPw6GFQIrG1fJ/qpBAnhMs3FL5WEAhUZPptGRxQB/tjgBIYI1AoSpYdWcRIkBoAM8wDSt3QNtAvQkY6IhA2mYjCqfnfEAG2SX3vuiUQEz48lLoEotAW2Z7/Yytk0DE90uVTJ53QJnNVzhaNzdACCCQJOxii0CKXBT2clSCQBnZpE6VqoBAEIYNwUmCjkDe2QvvP3aJQM7QkQzFh4lAFa7sI3ubjkCg9E56J72RQHv0lgFA2JBAWy44Tr6Yk0DCH38xDsmQQOj2OvbUk4VAxC+zFoR0lEBFzF0Wdx2TQF1bz5HZgpJAo207Y+OcjkA/d0z3EieSQFlmSeJqd0xAoQ/XtVAEc0AAPge+ZLoXQO939+M3eGhAHgfkUyKvXUDwi6lKcpZFQI3Dr6r2FpFA71jBa+ChUUBLjQB7HRVeQMrAjlUZByVAhFO9dZa1jEDL+bmIXtGNQNhL7CX2EoNAzOCcf+D0gkBkaJxAhsaFQEvh1HIkYIxASSkefLQNMUAzaBwTorSEQFYYu2XTeWhAG4cdEkw4i0DDa5e1gWaGQOMFMOMFMIVAtmIbAtingkCXhezhzmaGQMEgFYO5X4xAL3ZbK4SsZ0A2dOtHmyeKQFLomYfTNY9AtSI0csznhkDka42uxSSQQMv5uYhe0Y1A0IYh9FCyiUDwvMCq6TeLQBQHDIvRQY1A5W4aLgv/hEAeDCfjU3KNQFgYejlkv0lACwTpbx/fakBodM0MDeCAQHz273JV5ZRAfApMoaSMaUCM/8zr/HuQQP5Fl3kNG1ZAjJ7ruIdmjkDPkW/LxaWHQLVF23dB5WBAAlteLeoTjUDl8zLYsQ1/QGu8dWFDpipAhZv4TUI2jEDqU4QspbRTQKnZsq3HxS1AZNXK7U1WhUCD00U7iMWHQDlhgMCRtIFArGuEnfB2WUDPwpBeR6VmQGLrCMB+HYNAjM1b1GBOjkDvaRzOTVCJQO9nWEmjYYlAMs1BNRyCjkBbZnv9jK2TQMwKODhUHo9AAKOy0UGqkEC7FfRhaZWSQO8ZZMucPYZAzhglgpBUhUAMbvZ5Y2BYQLiXu7q23FRAfQlAtTYocUAdaPEP+YGWQBM/g8t22YZAoPROeie9kUBzl1ARHqSPQBx1rSBMAn9A2py8acUBikDCXpctH+FBQMbuBkXiaIFAHHY3wNvDOUBwjKISrE6CQOIVQdLMofo/D65FemTZj0CQG7f2pzSPQLpgKppAjo5AOucK90qwikAQVUOp4kmSQKT9IAv0VpFAGwA15OTFQEC/3OTndmiHQJKdT6fmjYVAmS6sumOthUBSZm2Nb8tyQJm6WRlsF4VAGjN6tyZggUCp6pEWxZ+CQOblOUT+XlNA5ufoOCWDiUCb833WN3WLQObn6Dglg4lAF1rvjZRBkEAqr7GGWAqGQNCd5M1H6YFA8GgRutsoX0AKxfnRtLBTQBcl1lYkxoZAjdEaU3Z6gkB9Tdc8vTWRQMv5uYhe0Y1AAn41F1yLjECVcKcuvH+FQDve65OxmI5AMMG7ySPNjkAsgOaEsJ2GQLcUgUujD4dAJlTd6qFxiUDSYnNUa9aTQPN8Php0u5FA0GcrUmEIPEAYEyJUbPdEQHZkuZ5u1GhASb3FIpXoiUAtPgTJ4BKHQH5LIAB+zI5A80FGnsZcjkDMeTCaUw+LQG2NWfcrCmpA7NWNPVvCI0DanLxpxQGKQDNnUkgG3otAaK8TDIglckB2ffQDOBCHQIye67iHZo5AOr6LcfVdkECy4HnJpcyOQLpgKppAjo5AuuU3UkU4jUCABFCMOh+QQKkiSnfh/4tA2gGGczc0jEAwwbvJI82OQNBzOGzCcY1ANjD3iYgCiEB4Zsdk6WKIQK36odgkh4dA5W4aLgv/hECZLqy6Y62FQHuVM99n1mRAg067RR2jgUBk5AK09yWCQBz1QMtsxWVAMaNi4l6ijEAXJdZWJMaGQHMgbvLoRC5Atg310a8kkEDcpFqprwGHQAZ7oRihjINAgAJ6ed6GhUBHt97P7b9yQPYwlDCSuW9A0masUVEmSEBgJxYf879yQDuAOlS/nGRANa4uEO7/WEA1ri4Q7v9YQBBM66vU/2hAgF8htwRt5j+AXyG3BG3mP5H8pNQXgFFAkfyk1BeAUUCR/KTUF4BRQJH8pNQXgFFAFR/m1sk/f0ARTOur1P9YQIhhnzzhv3FAbHjhcHfBcUAzOwSGCwBZQDM7BIYLAFlAvHXyH9v/M0C8dfIf2/8zQBjjRE8NYFpAA0qFZw5Ab0AzOwSGCwBZQOPFUkYSAGlAWnfn1xZAf0DW5xdSG7B2QApCz3Tu/05A0wpIuxLwdEBvkvWFDWB0QHhNOUphnHVAdtPUF0nzdEC0FPXnde5zQEHyt2oTqHZAeaDJzmyb6T95oMnObJvpP3mgyc5sm+k/eaDJzmyb6T8NIUZljW7mPw0hRmWNbuY/Tp/QoSv17z9On9ChK/XvP+jLWETw/1hADkhUgiMCjkBGyBTG4QJgQI775EaHlUFAWFA3hYQJZEBMqs9x+T9vQO6YQjP0v3JA7o1GslM0nEAcg4G1BgBZQBdL67jOn/E/F0vruM6f8T8XS+u4zp/xPxyDgbUGAFlAqqulKBlAb0D1eV19aXmUQGLdMtYDpKBAYt0y1gOkoEBAHEmh7/9MQJ5xS89dv6dALasghAY4dEBi3TLWA6SgQByDgbUGAFlA4+PhYghAn0Cqq6UoGUBvQJGLVzc3z6BAjw7i07T9f0CdGJIv5v9oQHa4sdDk/1hAwDRbvCEASUB5xlIO5/9oQHjGUg7n/1hAi1KAXesfjUBFfUXby/9YQBsu3gIgM1lAZfMja+L/WEBl8yNr4v9YQL/SCtHsv3JAcZLbE+Fai0DVaQe80eqKQEWNrb75r3FAx9vz2fj/aEBqoZ/0CwEcQGLMweStMlRAbH6xSzj+YUD2XQ+hxqpaQBbOqLDx931AlOHz4YqxdECPzP4QlZF6QNolskv3s11AMOgc9B4r7D8dx3f35xRvQAfcx0Ppv3JAyd1Yhv61g0CUlzKCGxZ6QPpldeL6v3JAOzr7kbmUckAdVSBj7L9yQL/SCtHsv3JAO0XzxihbckDprLOK6/9tQNyZVOzzf4FAq04OsOX/PUCZvv5L6/9dQG3F3H/z/31AR27Jwum/ckBHbsnC6b9yQN6hF6s6GJtAtbuukqprYEBVgec1t+KgQPNUX8vv/0hAJdshoPqXdUCcfXc+BEiSQASRo5Lpa5FAwSmQVrlMNEA/iyP0r8w5QFbvtWYLAFlAyTcZa6OzOkCG8ImLYGZCQDGoiMp4MzBAE9/3Hp3LEEB+UEZn+f9YQMKzWPbEfz5A0bpNEgIAK0Dvzd9y5H9CQN15Cvf6mhtATZQat95mI0AVFx9JiTMgQIM8UmD0ZxpA+qIIKEQzH0D0f6gFRM0aQAJLjpXnmBFA57a7qmFjBkC+DnmvEXNHQH21dWVTABhAMllGpAUAWUAJtg00HgBJQMJyOPv6/1hA5wt9UQ2AS0DIJv5KWs0gQEea9vsEgDNAHqae+ApgVEBl+x8xCQBZQA9C7CvjzFFA////////WED///////9YQE1WimYHAFlATVaKZgcAWUBNVopmBwBZQGg37h0FAFFAaDfuHQUAUUDjxVJGEgBZQBFfmzLw/1hAEV+bMvD/WEARX5sy8P9YQBFfmzLw/1hAt3YwVM//UECK6w8+1v9YQMbmTBTqP39Ap79t7LY/f0BeBWGCZaZzQOb9cwtsM0RAyatkxgZAf0AgP3dxSyZCQJpmimzjP39AShjeDe0/f0BapOXJuz9/QLVgmg/0f1VAia11luY/f0DkyW6p7j9/QNAafg+5FHNAIAGDuNs/f0B+TVPZ0T9/QLOjb6d8gXdAhKwyIlFOckBmvheUFTM9QC1lKk2PTD5AmmaKbOM/f0CAqa9FJhNjQFTz/oYl01lAIhISVUTmW0BJspDjIhNZQOhUP/8nI3dAxuZMFOo/f0AjL3r2TVZnQOhGNhKBGVRAAAAAAABAf0AAAAAAAEB/QBhxB11Kpm9AsKzLOar1AkC2OnWKnOsYQF3vq+mCoQhAUhgkwFGYUkBlyoZ367IqQKcyokcDpDlAMioAMlFmGkBwm/c+5ceTQKLgeV7w/1hA7Y3FRQMASEBcxkIB+v9oQNxEGzH7P29ANFojAh5Ab0CT0DhFr72gQN4EBOLe9phA0FT+5vr/WEBmP8mP+P9YQJYqwXD2/1BA9pcFXfI/VUBE5fVBLgA5QNvni2/ff0pAaTP7e+H/S0ABlTi07f9YQOkU5WP9/1hA7oBMmN7/TED4y0FF9f9YQGQmu+tnMyBAxBBeLggAQUATn11cVAEMQP0JuDPt/0BA1BaT+VQxB0AZJwg+5f9YQDc1k6afzF5AOEc1nEvFP0BNNfTr6qMuQI0WktL/rmFA9aMMm0yhY0Aty4BxCM0iQL13EPXef0BAMfQ/UXb/FUCz60CCiWgOQKQqfb3m/0BAbp1ja9l/QUCCdtaJ9H9BQLNnPdbs/0BABk0yOu7/QECYn6BW9H9AQHs5n1H4/1hA",
          "dtype": "f8"
         },
         "xaxis": "x",
         "yaxis": "y"
        },
        {
         "hovertemplate": "CC50, mM=%{x}<extra></extra>",
         "legendgroup": "",
         "marker": {
          "color": "#636efa"
         },
         "name": "",
         "notched": true,
         "showlegend": false,
         "type": "box",
         "x": {
          "bdata": "ftJ4q2/vZUAn+zaDfJwVQDgoreKNJGRAJzYTCcP2WkDxeQ72q2hhQDuUugNpEz5AzDsxDlseLUCHdLTfC5g3QD5i3FKyNmNAlgI4c4AOeUDCJjBCtXFAQGqKCxbnG1JAndqiTQDVg0DylxvIIRQXQJCryqMUw1NABNwc1/+IW0CqB5ltyNskQKO2bZXhIpJApU/+B79/h0BEuFfSD7pxQLbEQ2Tkk25AtCbRXGs0YkAmLwk5zUqWQMlCLHpurJBA+EHundNvlUD4Qe6d02+VQEFGPAMmJ4pAFbvI92n7e0Cwe8UfUB6hQGDuUotg/q9A3bw4hYcgsEAZCnJlbEGeQNzZIoXQ9y5A2hNEG714O0CNPruHq+RRQEVNQy7fAkRAeQPOGOywGUBxcqSYfIFAQLvRywCwq1FA81r+Fp2NRUDpWzU0h64wQJxsAZ5CAJVAUkZB12uycUALmNl+s2F4QIBVnsOKmJNAfCa/4kK9kEAb7v8nO6uQQGOvOuFuUKFAXOkSXUuJd0AxszHpJACkQAjZqK1o4aFA5pd0yRH4gUBWAsIw3pChQFdi1Exkq4JA5ao15uttnUCuor7mMNebQC6wUW5KXYtALrBRbkpdi0AGhSkFaNOJQO/tadRxfIlApPuQU8CXhECEIKHJgeqIQDYEinwZd1xACRaqQhjzVUCSn0C7qbZeQCrFBgqlkUNAcRVolnIOMkAAOMwFP9BMQAhp6OoFxlNANAvbxlQ5VECowfMNn7qCQDUFZUtPT0tAV0I9XrT0SUAKKeOIjfAbQABYfS5YDhtAPHNPbdBwSEDtz2t5yY4jQDnCMe05MpNA0SRLvxD+g0C24dtCwrWeQGyl0DvVy6NAsHvzRRZ0oECb2qiHqaipQJvaqIepqKlAm9qoh6moqUBbk81NC2OEQGRxQM16t5xA9sURR6l6iUCCLi8pkJ9yQPpciac0dWhAR4v5Ipd8g0DlqjXm622dQNpgHLFKK4lAlDBNzO7MYUCb2qiHqaipQJvaqIepqKlAsHvzRRZ0oEDiGoV4NPKaQOWqNebrbZ1ANJlTLTcSn0AmBkOiTHiLQLbh20LCtZ5AtuHbQsK1nkAIXoEW2J6aQIQTgqwOfaFAz+RqieF8c0BhixG/fnSgQMK1qAoOqaJAzogTWxkIc0CiSdIUD51lQCt0IoReNKRAKSmE6ZT4mUBMditTQxJvQJYFKmj5HaBApQq89qMAd0CO2fS6td+XQLrAaS6XXGFAtKkAFz27fEAtYUSoHimWQFYCwjDekKFAoPuZ/wuGoEAIXoEW2J6aQA0DE4pftGJA725OgQDenECjK7+vdHqLQGNw+LzQvoZA8vFwJDfei0BJkoiBPpF5QBG9p7/SIV1A0L9iTpyViUBAOW/4Du9fQBvWxJBjg3pAjFiqf8DLgUAx8S9gRg52QCw9Fi7ygXZAX+2TDbe0kkDE1dUD4ruRQDM/KjN2uZJAw6+7SU4aiUDa8Tkbu9ePQNrxORu7149AFZ2F/Dl4a0CXKv98IURmQPdaCff55ntAg713ViA2c0CAGua6HLeQQHCTk7Pt6GNALIJJuID0QUDdmDIEFeqCQGWI63/ghFNANP1t/nvWokBgSZlyo4qRQEZGsQoMk1BAUt5Ax+JZmkAQ1JOj15KHQKMoBMT3qaJA8d79CXMBkkDNnrmJZGtOQGRR8aufEIZAAUcy+Mm5Z0DML24lobB5QPDOAV69kItAiDFsUHwMNkCWBSpo+R2gQJYFKmj5HaBA8PB3vVCKM0D0ycCRLzw8QA7GqD31BRxADsaoPfUFTEDB0zsqZBqGQMswIaoIyYxAVhSLeMslm0Aol8i3el1kQMvQcH1IcV5AmYUt2ufMjUBWkhSPmhBXQBU6whJMH3BA8cV1vvTXckCfHNOUV/IkQCk/8bDyw5hA1rprkfBpmEB8vneEARqCQItX/mPkvK5AA9d95/m6sUAj12KI0ACqQHwqpifFmZdA6ab9P3dklkAYyKdlM6R1QPk1kmVZcklARhnkJr/baEAOlmxfYxWUQDF5s2Xuv5NASZX6qmc4h0AFEM+qrP2eQOxnEJU8kklAdeSlhhhiYUAm5M4YuoBjQMj6askREn9AvTmtbrevjEBTX95ROdxsQPx3BiFyLI1ANdVBNGgOcUAgjuSFQWaEQOSDJkPV6pVA4dCPneLWQkDAdYcU+POPQGDisbls0VNAl0oFgNSyYEBOHjnzCHxnQPm8U+Xd8ohA/T9fEseQX0DcXMz/LCZdQD5Wa0qdmFJAyro1kcDtWUAgw68p5ChBQMe9kyx1hGpAuPoocIyagEAS59h1GsCKQJrBVtv7po5AfLXQDpbUkEDWLHCQ1VyTQPWTaB0Dj2JANQB5vweqckA5vaetjWaRQJjhpuvEIUxAEXiS6K06YED3R29kmP+IQJAtw/mmSD5AH3e0FGr2WED+XuUE9z2BQN5+6TcQN21Au8NGV1H9R0Bwb+r9/DcpQADWwtM4aYNAnSKkk1dockDE1dUD4ruRQDM/KjN2uZJAxugdV2S5iUD74pQTCauTQOOKQDVSk2VAXWU8OZNcl0D4Qe6d02+VQGYUrlkzGZRApB9nhIx5ckAKVKEyyFeTQOvVUzfH0ohAslQnlEO0g0Bngv8usnpZQCU5YWj6LIFAxugdV2S5iUBz0WRsoRSNQMboHVdkuYlAGWEQz6iCekAkYraTsYmmQP7A5w3W/oJACYUxdzAxXUAJFimjjW1XQGIn3mYjrVlA49uBFGI2UEBd1gSreLcoQHJjesu11ZBACpwWMY+rjkCvE2vTTXKdQNa7CQyvg2dARiCq5E6NV0BOFIaYevBXQI4CY+BEQGZA7wJfiWRAbkAIIORidf5VQPWvzuPMR0lAOsOuEdouhUCZMNp6X7VzQAj7lwoAg2FALEoRg59GlUBWEaoGxfWQQCO74Prw4IJA+0dThw8kkEB4WA+Pv81yQDVZbIDIImlAXWlVG1wojkDj5RS8nIJpQHio7XwBX11A+ZQK7SyWg0BcPl9nCTNhQJMbi7rYAYRA7dWfGovXbUB0DyQLWaJVQPpB7fyvAkBA9yoqfleUiUBGQQiD75iKQEq9VRFj0jxAK8f6JFL3WED0mAFAIbOLQF1TceL4uVlAafrz/6vQf0AM6ZqUfRJ7QJKUfiFxKJpAgT5Sz30YpUCI09/mlipwQEkYE2hh0XdA0hslorbwi0B2DjSVL0dIQAqFxfvLGmNA3OtXGLZPSUAr305ebYCJQO2WUyvOG0RA9/NGrQ40NUChcAhLLACYQNedN/CExZBAMRhEaWyCdkA8er63vYReQHWCcNgxLZZAAmAYnxKSZkBCtSV6V8uRQLC1STA0sIRAyPzM+OWhNUB37WNyWYtnQFYshnsPS4pAFHnwENDkSEBJzCmJ5Y5qQLPhs4WRO1tAxUo2VmkFUkDUgFjkWot0QCcoM88fn3BAaSsNasYvc0DnhFePIKqTQFM7wkKvAHVA8ckuOehlkUAE3x+TzoxqQLLalQEzBj5As6b+QgMQZEBlUwZcF91jQDjODk4gyUZARLuQQAdSVEBEdm8WsnOCQHYbw2rKyFdA/vxu9YZ+YEBSQhKX9ApJQIvx9oUqlDtAPoviuzABj0Dzy2urEMdcQIHlnuTPmpBA31rBoyVeF0Cp36rVb+KIQFvnFermDxtA3vwD9NDhYEAUYdCozZRiQOjXN5PxaU9AzXgMKzWlWUBbU4YDlhOKQKkQB09iYzZAywv22VD6ikD9B+H5v/6OQMMaImFvno9AOnutemBjnkCjkcD3lrt0QGzHQvO5UJRAOnutemBjjkDZ/EaIriaDQGIqBh7wgmhAdhUoY9zMlEBCtSV6V8uRQJ/aok0A1ZNADjPvohgeZUAniHUligeJQJWHLS1boHxAiWyFPbS+NEDn4OAtdlJDQJTuVwoOG45AlDI75RViTUAqNhdf/naCQAk7RHOpM29ASxk2daO4kkAJeguGteqGQFHd/1ZjEnNAfcrcWwFGlECTZpHHfoNwQOfQ2GA+MmpAcO9u6oywkUDBy4ZbOix5QAzBgWhSIFJAdb7RDvdifUCewj7SzxWBQLk0ILeYel1AZPsFLKF4g0D9cR4GWmOOQHNZJO52w2VAGcBW92i5mUBgpj8SYnOJQFflg1lRHJFAdXCM7k0Qa0DaQsVir26UQAIC1z5gY5JA194eNVzAlECTJD46m7ZMQPS0uYslLjdAQBX44QXZZEDBKyucq+RHQLLyhK+NpV1AdLOIDfKFYUAtu9KPTmJeQGKCGHb8iFlAxNYRETKdU0Bp8LicvpyDQC8VwAKO3otA4q874JK7gUBLe+VlaxljQAR0xCgRs4tA99Dy6AVnlEBfXZrKaChFQPsybEOPInBAsx6FcWZveEDeZj5mdzx0QNbiyG8AonNAZWnOFDn6c0DK576RQThxQI7Ww5lCpnNACmazt/UMQkCHpJZGbEB8QBLaX5HS9XtAvpi3tTfpe0CbCp0rh8t7QAnzXtmJjHtAXxx3l4piekDn7KT7/zpjQE2aXRmzWn5Av8vPgA3HfUBBVK2nAHN9QL9KKZcSOH1Av0oplxI4fUDKr0JGCSxjQFpgoRZFwHxAWemPqJpVfEBKrQ+XN/97QOwOmpUtlntAZE8bmHPSfEDOAjJaBU97QIbgWAL/QntA5y9uXI3qekBfHHeXimJ6QOX3NHYUrYZAURQJ2x0/gUCueUauToGBQI7j9WUyjoFAjuP1ZTKOgUCO4/VlMo6BQHxOml3cQIJAnciuzyQlf0D5VRW3z1CAQA4y8DOChIBA7dnHeA3QgEAL0bZaL9B+QDHeJ52MCVBADjLwM4KEgECtsx/a5fAgQN9ZcBWws4FAs7Sov9QaQ0BaEGP5lBCAQH3r9QWVuoJA+Fs9g4eXU0Cinf87jMCAQIlaK4bhfYBAGR6ZXVPMf0DqRFlkEh2CQMpE7yrHUUdAZ06AmyWxgkCZ6sOjCwqAQN9ZcBWws4FA3zk92gOuOEDFaehAGzeBQFRzv6nOioJAjuP1ZTKOgUDyLDLXW1xjQBNhE1cBU01A6a80AIGzf0Cq7I46NU2HQEYEeFo2MYVA/pwIUMdYW0DMJq/v2bN8QA8zF30/HWdAQjzRQ/ohREBPXE9U4wWGQAbpkLzxZ2dAAcF+Cj/0hkDknMY1rqV0QEz1mIVPS5JAFHrIZolAckCaqoXFilqTQEIuHF2GSopAmu4A1uvmh0D78TqTBIWGQJnxz2KzdotAupU2eaD9lUDEiBPDfB1mQLiLqXhX8uk/vyQneP3AJUDdAeSfILI+QEiHw/k7uZBAqty/ac6Yk0DQbJzIY9qPQMjedq+MXZJAeWJMuv82jkA9ULo0FWKLQJMgtbCjCJFAJLjfnazikkDrVs4N+8mKQGR6Y3azLY1AEaZW0je/j0A07n9mnkONQHv0lgFA2JBAwh9/MQ7JkEAWkNLBhYmBQLsV9GFplZJACykMfMWakUCqZsqkUAmQQNBsnMhj2o9AbqRZ/loJjEBbZnv9jK2TQAeaodPnn4NAquyOOjVNh0DugyfAoMaHQEL8F7bv14JAXNWK2ZQ0gEBj0cAR0c5MQC7O1b3CkyNALEmzJzi7ckDYOiVTJIh5QPi/pHwG9otAWPlYgX6kiEBvESpvEWpwQDWQWDD8d4lAQOU2m18WkUC66uT25jWOQKpmyqRQCZBAy573jE6skUASczgfm7iEQEpP0KBsYzFAZfxQCZFYVkA0CkZPw6GFQIrG1fJ/qpBAnhMs3FL5WEAhUZPptGRxQB/tjgBIYI1AoSpYdWcRIkBoAM8wDSt3QNtAvQkY6IhA2mYjCqfnfEAG2SX3vuiUQEz48lLoEotAW2Z7/Yytk0DE90uVTJ53QJnNVzhaNzdACCCQJOxii0CKXBT2clSCQBnZpE6VqoBAEIYNwUmCjkDe2QvvP3aJQM7QkQzFh4lAFa7sI3ubjkCg9E56J72RQHv0lgFA2JBAWy44Tr6Yk0DCH38xDsmQQOj2OvbUk4VAxC+zFoR0lEBFzF0Wdx2TQF1bz5HZgpJAo207Y+OcjkA/d0z3EieSQFlmSeJqd0xAoQ/XtVAEc0AAPge+ZLoXQO939+M3eGhAHgfkUyKvXUDwi6lKcpZFQI3Dr6r2FpFA71jBa+ChUUBLjQB7HRVeQMrAjlUZByVAhFO9dZa1jEDL+bmIXtGNQNhL7CX2EoNAzOCcf+D0gkBkaJxAhsaFQEvh1HIkYIxASSkefLQNMUAzaBwTorSEQFYYu2XTeWhAG4cdEkw4i0DDa5e1gWaGQOMFMOMFMIVAtmIbAtingkCXhezhzmaGQMEgFYO5X4xAL3ZbK4SsZ0A2dOtHmyeKQFLomYfTNY9AtSI0csznhkDka42uxSSQQMv5uYhe0Y1A0IYh9FCyiUDwvMCq6TeLQBQHDIvRQY1A5W4aLgv/hEAeDCfjU3KNQFgYejlkv0lACwTpbx/fakBodM0MDeCAQHz273JV5ZRAfApMoaSMaUCM/8zr/HuQQP5Fl3kNG1ZAjJ7ruIdmjkDPkW/LxaWHQLVF23dB5WBAAlteLeoTjUDl8zLYsQ1/QGu8dWFDpipAhZv4TUI2jEDqU4QspbRTQKnZsq3HxS1AZNXK7U1WhUCD00U7iMWHQDlhgMCRtIFArGuEnfB2WUDPwpBeR6VmQGLrCMB+HYNAjM1b1GBOjkDvaRzOTVCJQO9nWEmjYYlAMs1BNRyCjkBbZnv9jK2TQMwKODhUHo9AAKOy0UGqkEC7FfRhaZWSQO8ZZMucPYZAzhglgpBUhUAMbvZ5Y2BYQLiXu7q23FRAfQlAtTYocUAdaPEP+YGWQBM/g8t22YZAoPROeie9kUBzl1ARHqSPQBx1rSBMAn9A2py8acUBikDCXpctH+FBQMbuBkXiaIFAHHY3wNvDOUBwjKISrE6CQOIVQdLMofo/D65FemTZj0CQG7f2pzSPQLpgKppAjo5AOucK90qwikAQVUOp4kmSQKT9IAv0VpFAGwA15OTFQEC/3OTndmiHQJKdT6fmjYVAmS6sumOthUBSZm2Nb8tyQJm6WRlsF4VAGjN6tyZggUCp6pEWxZ+CQOblOUT+XlNA5ufoOCWDiUCb833WN3WLQObn6Dglg4lAF1rvjZRBkEAqr7GGWAqGQNCd5M1H6YFA8GgRutsoX0AKxfnRtLBTQBcl1lYkxoZAjdEaU3Z6gkB9Tdc8vTWRQMv5uYhe0Y1AAn41F1yLjECVcKcuvH+FQDve65OxmI5AMMG7ySPNjkAsgOaEsJ2GQLcUgUujD4dAJlTd6qFxiUDSYnNUa9aTQPN8Php0u5FA0GcrUmEIPEAYEyJUbPdEQHZkuZ5u1GhASb3FIpXoiUAtPgTJ4BKHQH5LIAB+zI5A80FGnsZcjkDMeTCaUw+LQG2NWfcrCmpA7NWNPVvCI0DanLxpxQGKQDNnUkgG3otAaK8TDIglckB2ffQDOBCHQIye67iHZo5AOr6LcfVdkECy4HnJpcyOQLpgKppAjo5AuuU3UkU4jUCABFCMOh+QQKkiSnfh/4tA2gGGczc0jEAwwbvJI82OQNBzOGzCcY1ANjD3iYgCiEB4Zsdk6WKIQK36odgkh4dA5W4aLgv/hECZLqy6Y62FQHuVM99n1mRAg067RR2jgUBk5AK09yWCQBz1QMtsxWVAMaNi4l6ijEAXJdZWJMaGQHMgbvLoRC5Atg310a8kkEDcpFqprwGHQAZ7oRihjINAgAJ6ed6GhUBHt97P7b9yQPYwlDCSuW9A0masUVEmSEBgJxYf879yQDuAOlS/nGRANa4uEO7/WEA1ri4Q7v9YQBBM66vU/2hAgF8htwRt5j+AXyG3BG3mP5H8pNQXgFFAkfyk1BeAUUCR/KTUF4BRQJH8pNQXgFFAFR/m1sk/f0ARTOur1P9YQIhhnzzhv3FAbHjhcHfBcUAzOwSGCwBZQDM7BIYLAFlAvHXyH9v/M0C8dfIf2/8zQBjjRE8NYFpAA0qFZw5Ab0AzOwSGCwBZQOPFUkYSAGlAWnfn1xZAf0DW5xdSG7B2QApCz3Tu/05A0wpIuxLwdEBvkvWFDWB0QHhNOUphnHVAdtPUF0nzdEC0FPXnde5zQEHyt2oTqHZAeaDJzmyb6T95oMnObJvpP3mgyc5sm+k/eaDJzmyb6T8NIUZljW7mPw0hRmWNbuY/Tp/QoSv17z9On9ChK/XvP+jLWETw/1hADkhUgiMCjkBGyBTG4QJgQI775EaHlUFAWFA3hYQJZEBMqs9x+T9vQO6YQjP0v3JA7o1GslM0nEAcg4G1BgBZQBdL67jOn/E/F0vruM6f8T8XS+u4zp/xPxyDgbUGAFlAqqulKBlAb0D1eV19aXmUQGLdMtYDpKBAYt0y1gOkoEBAHEmh7/9MQJ5xS89dv6dALasghAY4dEBi3TLWA6SgQByDgbUGAFlA4+PhYghAn0Cqq6UoGUBvQJGLVzc3z6BAjw7i07T9f0CdGJIv5v9oQHa4sdDk/1hAwDRbvCEASUB5xlIO5/9oQHjGUg7n/1hAi1KAXesfjUBFfUXby/9YQBsu3gIgM1lAZfMja+L/WEBl8yNr4v9YQL/SCtHsv3JAcZLbE+Fai0DVaQe80eqKQEWNrb75r3FAx9vz2fj/aEBqoZ/0CwEcQGLMweStMlRAbH6xSzj+YUD2XQ+hxqpaQBbOqLDx931AlOHz4YqxdECPzP4QlZF6QNolskv3s11AMOgc9B4r7D8dx3f35xRvQAfcx0Ppv3JAyd1Yhv61g0CUlzKCGxZ6QPpldeL6v3JAOzr7kbmUckAdVSBj7L9yQL/SCtHsv3JAO0XzxihbckDprLOK6/9tQNyZVOzzf4FAq04OsOX/PUCZvv5L6/9dQG3F3H/z/31AR27Jwum/ckBHbsnC6b9yQN6hF6s6GJtAtbuukqprYEBVgec1t+KgQPNUX8vv/0hAJdshoPqXdUCcfXc+BEiSQASRo5Lpa5FAwSmQVrlMNEA/iyP0r8w5QFbvtWYLAFlAyTcZa6OzOkCG8ImLYGZCQDGoiMp4MzBAE9/3Hp3LEEB+UEZn+f9YQMKzWPbEfz5A0bpNEgIAK0Dvzd9y5H9CQN15Cvf6mhtATZQat95mI0AVFx9JiTMgQIM8UmD0ZxpA+qIIKEQzH0D0f6gFRM0aQAJLjpXnmBFA57a7qmFjBkC+DnmvEXNHQH21dWVTABhAMllGpAUAWUAJtg00HgBJQMJyOPv6/1hA5wt9UQ2AS0DIJv5KWs0gQEea9vsEgDNAHqae+ApgVEBl+x8xCQBZQA9C7CvjzFFA////////WED///////9YQE1WimYHAFlATVaKZgcAWUBNVopmBwBZQGg37h0FAFFAaDfuHQUAUUDjxVJGEgBZQBFfmzLw/1hAEV+bMvD/WEARX5sy8P9YQBFfmzLw/1hAt3YwVM//UECK6w8+1v9YQMbmTBTqP39Ap79t7LY/f0BeBWGCZaZzQOb9cwtsM0RAyatkxgZAf0AgP3dxSyZCQJpmimzjP39AShjeDe0/f0BapOXJuz9/QLVgmg/0f1VAia11luY/f0DkyW6p7j9/QNAafg+5FHNAIAGDuNs/f0B+TVPZ0T9/QLOjb6d8gXdAhKwyIlFOckBmvheUFTM9QC1lKk2PTD5AmmaKbOM/f0CAqa9FJhNjQFTz/oYl01lAIhISVUTmW0BJspDjIhNZQOhUP/8nI3dAxuZMFOo/f0AjL3r2TVZnQOhGNhKBGVRAAAAAAABAf0AAAAAAAEB/QBhxB11Kpm9AsKzLOar1AkC2OnWKnOsYQF3vq+mCoQhAUhgkwFGYUkBlyoZ367IqQKcyokcDpDlAMioAMlFmGkBwm/c+5ceTQKLgeV7w/1hA7Y3FRQMASEBcxkIB+v9oQNxEGzH7P29ANFojAh5Ab0CT0DhFr72gQN4EBOLe9phA0FT+5vr/WEBmP8mP+P9YQJYqwXD2/1BA9pcFXfI/VUBE5fVBLgA5QNvni2/ff0pAaTP7e+H/S0ABlTi07f9YQOkU5WP9/1hA7oBMmN7/TED4y0FF9f9YQGQmu+tnMyBAxBBeLggAQUATn11cVAEMQP0JuDPt/0BA1BaT+VQxB0AZJwg+5f9YQDc1k6afzF5AOEc1nEvFP0BNNfTr6qMuQI0WktL/rmFA9aMMm0yhY0Aty4BxCM0iQL13EPXef0BAMfQ/UXb/FUCz60CCiWgOQKQqfb3m/0BAbp1ja9l/QUCCdtaJ9H9BQLNnPdbs/0BABk0yOu7/QECYn6BW9H9AQHs5n1H4/1hA",
          "dtype": "f8"
         },
         "xaxis": "x2",
         "yaxis": "y2"
        }
       ],
       "layout": {
        "barmode": "relative",
        "legend": {
         "tracegroupgap": 0
        },
        "template": {
         "data": {
          "bar": [
           {
            "error_x": {
             "color": "#2a3f5f"
            },
            "error_y": {
             "color": "#2a3f5f"
            },
            "marker": {
             "line": {
              "color": "#E5ECF6",
              "width": 0.5
             },
             "pattern": {
              "fillmode": "overlay",
              "size": 10,
              "solidity": 0.2
             }
            },
            "type": "bar"
           }
          ],
          "barpolar": [
           {
            "marker": {
             "line": {
              "color": "#E5ECF6",
              "width": 0.5
             },
             "pattern": {
              "fillmode": "overlay",
              "size": 10,
              "solidity": 0.2
             }
            },
            "type": "barpolar"
           }
          ],
          "carpet": [
           {
            "aaxis": {
             "endlinecolor": "#2a3f5f",
             "gridcolor": "white",
             "linecolor": "white",
             "minorgridcolor": "white",
             "startlinecolor": "#2a3f5f"
            },
            "baxis": {
             "endlinecolor": "#2a3f5f",
             "gridcolor": "white",
             "linecolor": "white",
             "minorgridcolor": "white",
             "startlinecolor": "#2a3f5f"
            },
            "type": "carpet"
           }
          ],
          "choropleth": [
           {
            "colorbar": {
             "outlinewidth": 0,
             "ticks": ""
            },
            "type": "choropleth"
           }
          ],
          "contour": [
           {
            "colorbar": {
             "outlinewidth": 0,
             "ticks": ""
            },
            "colorscale": [
             [
              0,
              "#0d0887"
             ],
             [
              0.1111111111111111,
              "#46039f"
             ],
             [
              0.2222222222222222,
              "#7201a8"
             ],
             [
              0.3333333333333333,
              "#9c179e"
             ],
             [
              0.4444444444444444,
              "#bd3786"
             ],
             [
              0.5555555555555556,
              "#d8576b"
             ],
             [
              0.6666666666666666,
              "#ed7953"
             ],
             [
              0.7777777777777778,
              "#fb9f3a"
             ],
             [
              0.8888888888888888,
              "#fdca26"
             ],
             [
              1,
              "#f0f921"
             ]
            ],
            "type": "contour"
           }
          ],
          "contourcarpet": [
           {
            "colorbar": {
             "outlinewidth": 0,
             "ticks": ""
            },
            "type": "contourcarpet"
           }
          ],
          "heatmap": [
           {
            "colorbar": {
             "outlinewidth": 0,
             "ticks": ""
            },
            "colorscale": [
             [
              0,
              "#0d0887"
             ],
             [
              0.1111111111111111,
              "#46039f"
             ],
             [
              0.2222222222222222,
              "#7201a8"
             ],
             [
              0.3333333333333333,
              "#9c179e"
             ],
             [
              0.4444444444444444,
              "#bd3786"
             ],
             [
              0.5555555555555556,
              "#d8576b"
             ],
             [
              0.6666666666666666,
              "#ed7953"
             ],
             [
              0.7777777777777778,
              "#fb9f3a"
             ],
             [
              0.8888888888888888,
              "#fdca26"
             ],
             [
              1,
              "#f0f921"
             ]
            ],
            "type": "heatmap"
           }
          ],
          "histogram": [
           {
            "marker": {
             "pattern": {
              "fillmode": "overlay",
              "size": 10,
              "solidity": 0.2
             }
            },
            "type": "histogram"
           }
          ],
          "histogram2d": [
           {
            "colorbar": {
             "outlinewidth": 0,
             "ticks": ""
            },
            "colorscale": [
             [
              0,
              "#0d0887"
             ],
             [
              0.1111111111111111,
              "#46039f"
             ],
             [
              0.2222222222222222,
              "#7201a8"
             ],
             [
              0.3333333333333333,
              "#9c179e"
             ],
             [
              0.4444444444444444,
              "#bd3786"
             ],
             [
              0.5555555555555556,
              "#d8576b"
             ],
             [
              0.6666666666666666,
              "#ed7953"
             ],
             [
              0.7777777777777778,
              "#fb9f3a"
             ],
             [
              0.8888888888888888,
              "#fdca26"
             ],
             [
              1,
              "#f0f921"
             ]
            ],
            "type": "histogram2d"
           }
          ],
          "histogram2dcontour": [
           {
            "colorbar": {
             "outlinewidth": 0,
             "ticks": ""
            },
            "colorscale": [
             [
              0,
              "#0d0887"
             ],
             [
              0.1111111111111111,
              "#46039f"
             ],
             [
              0.2222222222222222,
              "#7201a8"
             ],
             [
              0.3333333333333333,
              "#9c179e"
             ],
             [
              0.4444444444444444,
              "#bd3786"
             ],
             [
              0.5555555555555556,
              "#d8576b"
             ],
             [
              0.6666666666666666,
              "#ed7953"
             ],
             [
              0.7777777777777778,
              "#fb9f3a"
             ],
             [
              0.8888888888888888,
              "#fdca26"
             ],
             [
              1,
              "#f0f921"
             ]
            ],
            "type": "histogram2dcontour"
           }
          ],
          "mesh3d": [
           {
            "colorbar": {
             "outlinewidth": 0,
             "ticks": ""
            },
            "type": "mesh3d"
           }
          ],
          "parcoords": [
           {
            "line": {
             "colorbar": {
              "outlinewidth": 0,
              "ticks": ""
             }
            },
            "type": "parcoords"
           }
          ],
          "pie": [
           {
            "automargin": true,
            "type": "pie"
           }
          ],
          "scatter": [
           {
            "fillpattern": {
             "fillmode": "overlay",
             "size": 10,
             "solidity": 0.2
            },
            "type": "scatter"
           }
          ],
          "scatter3d": [
           {
            "line": {
             "colorbar": {
              "outlinewidth": 0,
              "ticks": ""
             }
            },
            "marker": {
             "colorbar": {
              "outlinewidth": 0,
              "ticks": ""
             }
            },
            "type": "scatter3d"
           }
          ],
          "scattercarpet": [
           {
            "marker": {
             "colorbar": {
              "outlinewidth": 0,
              "ticks": ""
             }
            },
            "type": "scattercarpet"
           }
          ],
          "scattergeo": [
           {
            "marker": {
             "colorbar": {
              "outlinewidth": 0,
              "ticks": ""
             }
            },
            "type": "scattergeo"
           }
          ],
          "scattergl": [
           {
            "marker": {
             "colorbar": {
              "outlinewidth": 0,
              "ticks": ""
             }
            },
            "type": "scattergl"
           }
          ],
          "scattermap": [
           {
            "marker": {
             "colorbar": {
              "outlinewidth": 0,
              "ticks": ""
             }
            },
            "type": "scattermap"
           }
          ],
          "scattermapbox": [
           {
            "marker": {
             "colorbar": {
              "outlinewidth": 0,
              "ticks": ""
             }
            },
            "type": "scattermapbox"
           }
          ],
          "scatterpolar": [
           {
            "marker": {
             "colorbar": {
              "outlinewidth": 0,
              "ticks": ""
             }
            },
            "type": "scatterpolar"
           }
          ],
          "scatterpolargl": [
           {
            "marker": {
             "colorbar": {
              "outlinewidth": 0,
              "ticks": ""
             }
            },
            "type": "scatterpolargl"
           }
          ],
          "scatterternary": [
           {
            "marker": {
             "colorbar": {
              "outlinewidth": 0,
              "ticks": ""
             }
            },
            "type": "scatterternary"
           }
          ],
          "surface": [
           {
            "colorbar": {
             "outlinewidth": 0,
             "ticks": ""
            },
            "colorscale": [
             [
              0,
              "#0d0887"
             ],
             [
              0.1111111111111111,
              "#46039f"
             ],
             [
              0.2222222222222222,
              "#7201a8"
             ],
             [
              0.3333333333333333,
              "#9c179e"
             ],
             [
              0.4444444444444444,
              "#bd3786"
             ],
             [
              0.5555555555555556,
              "#d8576b"
             ],
             [
              0.6666666666666666,
              "#ed7953"
             ],
             [
              0.7777777777777778,
              "#fb9f3a"
             ],
             [
              0.8888888888888888,
              "#fdca26"
             ],
             [
              1,
              "#f0f921"
             ]
            ],
            "type": "surface"
           }
          ],
          "table": [
           {
            "cells": {
             "fill": {
              "color": "#EBF0F8"
             },
             "line": {
              "color": "white"
             }
            },
            "header": {
             "fill": {
              "color": "#C8D4E3"
             },
             "line": {
              "color": "white"
             }
            },
            "type": "table"
           }
          ]
         },
         "layout": {
          "annotationdefaults": {
           "arrowcolor": "#2a3f5f",
           "arrowhead": 0,
           "arrowwidth": 1
          },
          "autotypenumbers": "strict",
          "coloraxis": {
           "colorbar": {
            "outlinewidth": 0,
            "ticks": ""
           }
          },
          "colorscale": {
           "diverging": [
            [
             0,
             "#8e0152"
            ],
            [
             0.1,
             "#c51b7d"
            ],
            [
             0.2,
             "#de77ae"
            ],
            [
             0.3,
             "#f1b6da"
            ],
            [
             0.4,
             "#fde0ef"
            ],
            [
             0.5,
             "#f7f7f7"
            ],
            [
             0.6,
             "#e6f5d0"
            ],
            [
             0.7,
             "#b8e186"
            ],
            [
             0.8,
             "#7fbc41"
            ],
            [
             0.9,
             "#4d9221"
            ],
            [
             1,
             "#276419"
            ]
           ],
           "sequential": [
            [
             0,
             "#0d0887"
            ],
            [
             0.1111111111111111,
             "#46039f"
            ],
            [
             0.2222222222222222,
             "#7201a8"
            ],
            [
             0.3333333333333333,
             "#9c179e"
            ],
            [
             0.4444444444444444,
             "#bd3786"
            ],
            [
             0.5555555555555556,
             "#d8576b"
            ],
            [
             0.6666666666666666,
             "#ed7953"
            ],
            [
             0.7777777777777778,
             "#fb9f3a"
            ],
            [
             0.8888888888888888,
             "#fdca26"
            ],
            [
             1,
             "#f0f921"
            ]
           ],
           "sequentialminus": [
            [
             0,
             "#0d0887"
            ],
            [
             0.1111111111111111,
             "#46039f"
            ],
            [
             0.2222222222222222,
             "#7201a8"
            ],
            [
             0.3333333333333333,
             "#9c179e"
            ],
            [
             0.4444444444444444,
             "#bd3786"
            ],
            [
             0.5555555555555556,
             "#d8576b"
            ],
            [
             0.6666666666666666,
             "#ed7953"
            ],
            [
             0.7777777777777778,
             "#fb9f3a"
            ],
            [
             0.8888888888888888,
             "#fdca26"
            ],
            [
             1,
             "#f0f921"
            ]
           ]
          },
          "colorway": [
           "#636efa",
           "#EF553B",
           "#00cc96",
           "#ab63fa",
           "#FFA15A",
           "#19d3f3",
           "#FF6692",
           "#B6E880",
           "#FF97FF",
           "#FECB52"
          ],
          "font": {
           "color": "#2a3f5f"
          },
          "geo": {
           "bgcolor": "white",
           "lakecolor": "white",
           "landcolor": "#E5ECF6",
           "showlakes": true,
           "showland": true,
           "subunitcolor": "white"
          },
          "hoverlabel": {
           "align": "left"
          },
          "hovermode": "closest",
          "mapbox": {
           "style": "light"
          },
          "paper_bgcolor": "white",
          "plot_bgcolor": "#E5ECF6",
          "polar": {
           "angularaxis": {
            "gridcolor": "white",
            "linecolor": "white",
            "ticks": ""
           },
           "bgcolor": "#E5ECF6",
           "radialaxis": {
            "gridcolor": "white",
            "linecolor": "white",
            "ticks": ""
           }
          },
          "scene": {
           "xaxis": {
            "backgroundcolor": "#E5ECF6",
            "gridcolor": "white",
            "gridwidth": 2,
            "linecolor": "white",
            "showbackground": true,
            "ticks": "",
            "zerolinecolor": "white"
           },
           "yaxis": {
            "backgroundcolor": "#E5ECF6",
            "gridcolor": "white",
            "gridwidth": 2,
            "linecolor": "white",
            "showbackground": true,
            "ticks": "",
            "zerolinecolor": "white"
           },
           "zaxis": {
            "backgroundcolor": "#E5ECF6",
            "gridcolor": "white",
            "gridwidth": 2,
            "linecolor": "white",
            "showbackground": true,
            "ticks": "",
            "zerolinecolor": "white"
           }
          },
          "shapedefaults": {
           "line": {
            "color": "#2a3f5f"
           }
          },
          "ternary": {
           "aaxis": {
            "gridcolor": "white",
            "linecolor": "white",
            "ticks": ""
           },
           "baxis": {
            "gridcolor": "white",
            "linecolor": "white",
            "ticks": ""
           },
           "bgcolor": "#E5ECF6",
           "caxis": {
            "gridcolor": "white",
            "linecolor": "white",
            "ticks": ""
           }
          },
          "title": {
           "x": 0.05
          },
          "xaxis": {
           "automargin": true,
           "gridcolor": "white",
           "linecolor": "white",
           "ticks": "",
           "title": {
            "standoff": 15
           },
           "zerolinecolor": "white",
           "zerolinewidth": 2
          },
          "yaxis": {
           "automargin": true,
           "gridcolor": "white",
           "linecolor": "white",
           "ticks": "",
           "title": {
            "standoff": 15
           },
           "zerolinecolor": "white",
           "zerolinewidth": 2
          }
         }
        },
        "title": {
         "text": "Распределение CC50, mM"
        },
        "xaxis": {
         "anchor": "y",
         "domain": [
          0,
          1
         ],
         "title": {
          "text": "CC50, mM"
         }
        },
        "xaxis2": {
         "anchor": "y2",
         "domain": [
          0,
          1
         ],
         "matches": "x",
         "showgrid": true,
         "showticklabels": false
        },
        "yaxis": {
         "anchor": "x",
         "domain": [
          0,
          0.8316
         ],
         "title": {
          "text": "count"
         }
        },
        "yaxis2": {
         "anchor": "x2",
         "domain": [
          0.8416,
          1
         ],
         "matches": "y2",
         "showgrid": false,
         "showline": false,
         "showticklabels": false,
         "ticks": ""
        }
       }
      }
     },
     "metadata": {},
     "output_type": "display_data"
    },
    {
     "data": {
      "application/vnd.plotly.v1+json": {
       "config": {
        "plotlyServerURL": "https://plot.ly"
       },
       "data": [
        {
         "bingroup": "x",
         "hovertemplate": "SI=%{x}<br>count=%{y}<extra></extra>",
         "legendgroup": "",
         "marker": {
          "color": "#636efa",
          "pattern": {
           "shape": ""
          }
         },
         "name": "",
         "nbinsx": 50,
         "orientation": "v",
         "showlegend": false,
         "type": "histogram",
         "x": {
          "bdata": "AAAAAAAgPEABAAAAAAAcQArXo3A9Cuc/Hh4eHh6eT0DNzMzMzMz0PwAAAAAAAABApXA9Ctej6D89CtejcD3qP9MeVwHBkAhAEhERERFRT0Detm3btm0fQLM1/m4eofo/lylgPpBdCEAcx3Ecx3EUQLrooosuuh1AAAAAAAAA8D+IndiJndgJQCfFC2RSvDxAAAAAAAAA8D/eLE8i07ARQAPoIK+Sy+k/wTAMwzAMJUD68ePHjx8xQBlIDJdpYgNA9V1Bp6Za7z8AAAAAAADwP7e0tLS0tPw/N4lBYOXQ+D/zPM/zPM/3PwAAAAAAAPA/AAAAAAAA8D8AAAAAAADwP27btm3btiFAPc/zPM/zFEAjIiIiIiIKQL6E9hLaSxRAAAAAAAAACECiiy666KIbQKmqqqqqqipAEw8PDw8PK0BN7MRO7MQaQD6NsNzTSFZAAAAAAABQPkCamZmZmRkwQJL3eI/3eEtAZHA+BudjCEC3bdu2bdsGQNupPDrwnkhAXDsw1w7MOUBfQnsJ7SVnQEmSJEmS9INAFF100UUXLUDxRlPn1x5OQHwgu7AYCQ1A2BP2hD1hM0CQkVDaeEcpQMHsAbMHzDJAAAAAAAAACUAAAAAAAADwP4OCgoKCglhA2aDJlw2aDEDwwQcffPBiQBPaS2gvoRVAj8L1KFyP6j8AAAAAAJAgQIsuuuiii/4/WPuGtW9Y6z8ZXXTRRRftP0i9jtTrSPU/wq1Q3ArF9T/lNZTXUF5BQLD2DWvfsAJAaoTlnkZYEEAAAAAAAADwPwAAAAAAAPA/5TiO4ziOCUBmZmZmZmb2PwAAAAAAAPA/IjXBeCs7QUDHcRzHcVyBQE022WSTTT5A/v////8/f0AAAAAAAABZQEkPVM5u4fc/4MWgItxSE0DxhwMefzg7QMb60Fgf2kRATH6x5BcLQUAeHh4eHh44QIqd2Imd2EJAVKf8Uaf8OEATfJu/wqw+QG7ep7hkiEBAO0egaKvBD0DTocjiYuz/PwAAAAAAAPA/CaVQCqVQMkBCX9AX9AU8QF/vmBrYO0BAVV2GvdKfK0B0DQ4Dyd0nQAIAAAAAQH9AAAAAAACIs0AAAAAAAAA5QGmQBmmQBmBAmpmZmZl5QEDmoosuumhcQCZJkiRJUnZA8vDw8PBwNUBJkiRJkiRWQCqvobyGcmBAXzZo8mWDBkAmSZIkSZIcQMZxHMdxXHFAy2sor6G8OEDFTuzETixnQEiSJEmSJDhAuG3btm3bVkDo1vywSBlBQOIVXuEVXkVA////////WEBUVVVVVdU0QJlv+ZZv+RhAcdu2bduWa0BJkiRJkiQXQEYXXXTRRQRATuzETuzEDkDGBA/mifrfP8SSXyz5xfY/AAAAAAAA8D8r+cWSXyz1PwAAAAAAYDBASOF6FK5H/T+amZmZmZnzP/YoXI/C9fA/AQAAAADgFUAAAAAAAAA5QA7sHVMDeyNAH4XrUbgeAUAAAAAAAADwP84555xzzglAQqcNdNpAAUAQEREREREBQBcNO/Bc0QBADI1+1csF+j/c0wjLPY0AQFhVVVVVVf0/fcVXfMVXDECXlpaWlpY4QAAAAAAAADNAAAAAAACIc0BUVVVVVRVCQAAAAAAAACBAAAAAAABAX0BWVVVVVVVMQFdVVVVV1WRA7og74o64QkAAAAAAAEBFQFdaWlpaWltA/v////8/f0AAAAAAAIAvQOIVXuEVXkVAxXEcx3Ec/z+2bdu2bdtRQAAAAAAAAElA9jzP8zzPC0BWVVVVVVUSQJmZmZmZmek/q6qqqqqqGkAPkyuIyRUyQAAAAAAAaphA7SW0l9BeQEDh4eHh4eEVQDnZZJNNNiVAc9FFF100OECpqqqqqqoqQDyxEzuxExNAcD0K16NwEUAAAAAAAAAIQK2qqqqqCmpAAAAAAABQaUABAAAAAGBUQG3btm3bth1A2BP2hD1hM0CJh4eHh4cHQITlnkZYbjlAqODlFLycTkDZtm3btm0qQDMzMzMzM/o/Fkt+seQX+z/QF/QFfUE3QLZt27Zt20FAAAAAAAAA8D8AAAAAAAAkQFyPwvUoXPc/K/nFkl8s9T+pqqqqqqoVQHPRRRddtFpAAAAAAAAA8D8hfPDBBx8EQAAAAAAAAAhAchzHcRzHS0BMaC+hvYRCQHMdozjXMRJAzczMzMzMHkB3vp8aL936P+lRuB6F6wlAH4XrUbge7T/saPM+xSUbQLsvj60IGitAcRzHcRzHDUBxPQrXo3AHQFdVVVVVVSdAynEcx3GcJkB9w9o3rH3zP1JVVVVVNSZAzyjxM0r8PEBAV8xy5OcqQAAAAAAAgDtAAAAAAAAA8D8BAAAAAAAWQKmqqqqqCidAsCP1OlKvC0CamZmZmZnxPxXE5Apicg1AAAAAAAAwKUBMS0tLSwtaQBdddNFFFyFA2omd2ImdNkA4juM4jqNGQA4PDw8Pb2VArKqqqqqqOECamZmZmZn9P+F6FK5H4fg/rBGWexphJ0A7PDw8PDz8PwAAAAAAAPA/AAAAAAAA8D9hJ3ZiJ3YCQM9pA5020Pk/qqqqqqqqAEAU2ktoL6H9PwAAAAAAAABAvLu7u7u7A0AAAAAAAADwP////////xtA7FG4HoXrAUAMdNpApw3wP3sUrkfhevg/cywoLowIFEAAAAAAAADwPzMzMzMzMwNAFK5H4XoU8j8WX/EVX/EWQHwaYbmnES1Aq6qqqqqqGkBVVVVVVVUiQM3MzMzMzCxA5PY4pzaqtD+rqqqqqqraPwAAAAAAAPA/IiIiIiIi4j8AAAAAAADwP6RwPQrXowxAoA7qoA7qCEDrUbgehevtP+q0gU4b6Pw/hetRuB6FA0AEeUqQpwQFQHE9CtejcPk/EoPAyqFFAUCgNtBpA536P65H4XoUrhFAAAAAAAAACEA7PDw8PDz8Pzs8PDw8PPw/AAAAAADAMkBpaWlpaWkVQArXo3A9Cv8/arx0kxgEAkBhC7ZgC7YhQENx9PskQPM/AAAAAAAAOECiiy666KIBQEmSJEmSJAFAmJmZmZmZHkA8baDTBjr5P1K4HoXrUfA/AAAAAAAA8D8AAAAAAADwP/Du7u7u7gZAyZJfLPnF8j8AAAAAAADwP1JeQ3kN5R9AOax9w9o3CEB10UUXXXQBQGZmZmZmZgZAYSd2Yid2AkB8wOwBswcMQHlKkKcEeQZApNKRPQNRKUAxMzMzMzMPQHFY+4a1bwZARBdddNFFEEBYDVDgQYsjQH3FV3zFVwBAzczMzMzMDEDpccYfYRocQHEcx3Ecx1tAXonalahdQECE61G4HoUVQAAAAAAAAAhAMUU+6wZTIEAAAAAAAEBfQOF6FK5H4RpAMzMzMzMzEkB1FtNZTGchQFRVVVVV1URAw/UoXI/CDUBCpw102kABQIqd2Imd2CFAzznnnHPOHUDlOI7jOI43QGSTTTbZZDpAb6DTBjptCED///////9IQGAs+cWSXwRAAAAAAAAA8D/mCmJyBTEjQOlNb3rTmxJA7e7u7u7uCUCkT/qkT/rwP1RVVVVVVf0//v////+fGECamZmZmRlYQBrWvmHtGwZAAAAAAAAAJEAnSZIkSZImQGZmZmZmZiFAcRzHcRzHW0AHEq2wOZAQQAAAAAAAAPA/AAAAAAAA8D/HZcVACW88QGZmZmZmZuY/pE/6pE/6DEDSIA3SIA0YQIaIiIiIiB5AMzMzMzMzKkCkfZAMqGcyQDMzMzMzMwlAsdzTCMs9QUCm4OUUvJw+QFzHKM51jDpApH2QDKhnMkAAAAAAAKA+QAAAAAAAAD5AAAAAAAAA8D/QKPEzSvwcQI0uuuiiiyBAAAAAAAAA8D8BAAAAAABOQPamN73pTUBAM8JyTyMsLUDucgpeTsE2QPamN73pTVBAm5mZmZmZGUBJkiRJkiQRQAAAAAAAAPA/SOF6FK5H/T8AAAAAAAAQQFx00UUXXQRAAAAAAAAA8D+PwvUoXI/6P1fIQhaykCdAAAAAAAAA8D9uWPuGtW8YQJqZmZmZmQFAH+Suny1WQEB7oHJ2C78zQI/jOI7jOBVAE+mBytktOEBUVVVVVVX9PywtLS0tLTNAw3JPIyz3CEAAAAAAAADwP6qqqqqqqhpA3LZt27ZtNUAAAAAAAADwP1RVVVVVVf0/ltBeQnsJDUBpcRPmd7UAQO5ST8ZvlxJAor2E9hLaC0AAAAAAAAARQIUPPvjgg/8/yy+W/GLJ9z9xPQrXo3D1P4/C9Shcj/I/WUxnMZ3FHEDVdzbqOxsdQDWU11BeQwlAPQrXo3A9BEA9CtejcD0AQAAAAAAAAAhAAAAAAAAAAEDt7u7u7u72P5YkSZIkyVpAy0PBldyeD0AzMzMzMzM2QFMrtVIrtR5At23btm3bBkB17cBcOzAHQAAAAAAAAPA/juM4juM4JkB/PzVeukkMQNVQXkN5DSVAaJHtfD81/j+MLrroogtRQNJFF1100SVAaNa4WCCpJUAxPQychecnQDE9DJyF5ydAGXTDAfaNC0DJdr6fGi/5PziU11BeQwlA2BxItMLm8D81lNdQXkMJQGMndmIndgJAAAAAAAAABEDiB37gB34eQAAAAAAAAARAYyd2Yid2AkBjJ3ZiJ3YCQKyqqqqqqkBAS9SuRO1KQkBQ5LNuMEUkQDb+bh6h+hRAYyd2Yid2AkBUV86tHxEkQGMndmIndgJAAAAAAADAIkCUMgl2Fb78PwAAAAAAAPA/sdzTCMs9MUDj2xcHCToOQAAAAAAAAPA/AAAAAAAALkAAAAAAAADwP8MwDMMwDANAAAAAAAAA8D+F8Vb2OaT2P6yqqqqqqvI/W2uttdZaI0CbmZmZmZkTQEA8PDw8PPw/REREREREGkA8sRM7sRM3QI7jOI7jODZA6ECiFTYHGkABAAAAAABJQDyxEzuxEzdARRdddNFFO0CqqqqqqqpQQAxZyEIWsuA/AAAAAAAA8D/UCMs9jbAEQAAAAAAAwDJAZmZmZmZmCUDDMAzDMAwDQCELWchCFhpA3LZt27ZtNUAQ5ClBnhL0P2yttdZaaxFA7vu+7/u+L0BRzYPc9bM9QAAAAAAAAPA/CtejcD0KAkDJ2ireyQ8SQImIiIiIiABAGBkZGRkZ+T8gDdIgDdL4Pz0K16NwPQZAAAAAAAAA8D9ZObTIdr7vPwAAAAAAAPA/Fiek5FlGGEAAAAAAAADwP9OkSZMmTRpAOzw8PDw8/D+x3NMIyz0RQAAAAAAAAPA/AAAAAAAA8D/PaQOdNtD1P0R5DeU1lAdA7e7u7u7u9j/2KFyPwvXwP85aNQhQDAhAAAAAAAAA8D/ezpCYtzMkQAAAAAAAAPA/AAAAAAAA8D8P9lttDE0HQAAAAAAAAPA/AAAAAAAA8D/56eHvG1gIQAAAAAAAAPA/Ozw8PDw8/D8mSZIkSZIMQAAAAAAAAPA/KaoHjbzzF0DLKXg5BS8fQAAAAAAAAPA/AAAAAAAA8D8AAAAAAADwPwAAAAAAAPA/AAAAAAAA8D/GSERXf7cIQGXFQAlvNDBABKXZdOPfC0AAAAAAAADwP/qCvqAv6Ps/iob449blJUAAAAAAAAD4P5EkSZIkSRhAj5SmUwQ+1j+sqqqqquo2QHIcx3EcxztAFK5H4XoUBEAzMzMzMzMHQGIndmIndhJAIRrrQ2N9CEAAAAAAAADwP0N5DeU1lD9AgvFW9jmkBkDUCMs9jbAEQOazbjBFPvs/UAnylCBP8T84jNXW3x74P/QwcBaeH/M/EhERERGRMED1aw+5rBgoQJb/Rnd2BBNAAAAAAACA8D/PdYziXMcIQJj/Rnd2BBNAtQojRPYlE0DL6l3yYMAxQO2Cv4oTUvI/MzMzMzMz8z8T2U1kN5H9P1ZVVVVVVQ1AAAAAAAAALkAAAAAAAADwPwAAAAAAAAhAAAAAAAAA8D9o1rhYIKklQHWVZ+LjvgtAAAAAAAAA8D8AAAAAAADwP0B5DeU1lP8/AAAAAAAA8D9MeIKv5D0LQOo5Jus5JitAAAAAAAAA8D8AAAAAAADwPwAAAAAAAPA/2CUs3i3gCkDUCMs9jbAUQFzZ55CaYAxAqaqqqqqqP0AAAAAAAADwPwAAAAAAgEBAZmZmZmZmMED19fX19fUFQE7Ng9z1sz1ADyRaYXMgRUAbCWYQHrf/P0V7Ce0ltPc/32HAjyLDCkBG74rMlyYuQM9FF1100fU/TTbZZJNNPkBXVVVVVdUkQMP8rhY3Yf4/sm4wRT7r9j93sN9qY2gaQA33Kpgl5RRAZuDp1vywCEDUCMs9jbAUQKWlpaWlpQFA6PP5fD6fN0Bm4OnW/LAoQKtjb22Y5jZAwuZAohU2GUDRJVJEEBADQDiU11BeQwlAmd70pje9JUAAAAAAAADwPwAAAAAAAPA/McYYY4wxGEDRRRdddNEFQAAAAAAAAPA/AAAAAAAA8D8AAAAAAADwP9+w9g1r3wRAui7vgCNFG0D//////z8fQAAAAAAAAPA/kyBPCfKUBECw0lMLKz31Pz344IMPPvA/9DBwFp4f8z8AAAAAAADwPx6D8zE4H/U/jYES3mjqDEAz1ofG+tA7QG4wRT7rBvM/8TzP8zzPJ0DVvmHtG9YGQJqZmZmZmQFA////////WEAAAAAAAAD5P1Tks24wRRRAIU8J8pQgB0CCmFxBTK4GQIeHh4eHhwdAaXkSmYbtPkAAAAAAAADwPwAAAAAAAPA/AAAAAAAA8D8R9lttDE33P/QwcBaeH/M/AAAAAAAA8D8AAAAAAADwPwAAAAAAAD5ABAcOHDhwIEDPQFQ6smcQQDMzMzMzMwdAcRzHcRzHC0AAAAAAAADwPwAAAAAAAAhAAAAAAAAA8D/3PM/zPM8nQJDjOI7jODxAYyd2Yid2EkDt7u7u7u4OQIqbML+rxR9AL0U+6wZTBEBxED2+CwcHQDs8PDw8PAxAAAAAAAAA8D/BMAzDMAwDQGMndmIndgJAAAAAAAAACEDWSBYBMvwAQMKPRDz96hlADmvfsPYN8z8PJFphcyBFQBHNWYPiaQ9A2rZt27ZtBUCrqqqqqqoaQAAAAAAAAAhASrJ3IjJgDUD0PM/zPM9HQB3WvmHtG/4/9DBwFp4f8z/0MHAWnh/zP18lvuFZzwtAdwu/GhPpAUAAAAAAAADwP1RVVVVV1URA7E1vetObOUBmeRKZhu0+QAAAAAAAYF9AOzw8PDw8DEAAAAAAAADwPxlRrbMvojJA0CjxM0r8HED2zdE3R9/8P/QwcBaeH/M/IgtZyEIWGkBZqufeTdAWQAAAAAAAAARAM5zUfXlsSUBVzm7hV2M2QKOUFfAuSglA16NwPQrXA0BmZmZmZmYVQBERERERkRxAuW3btm3b9j+C8zE4H4MDQFRVVVVV1TRA0wuubhNnCkDESd2Xx1YUQHP+LOfPcgZAAAAAAAAA8D+qqqqqqqpQQAAAAAAAAPA/AAAAAAAAOUAj6K5STND9P07sxE7sxP4/r+xzSE0w/j8AAAAAAAD4P1IZlVEZlfE/AAAAAAAA8D+CERiBERghQKyqqqqqqgpAQqZhu1meJEAAAAAAAADwPwAAAAAAAPA/MT0MnIXnJ0AAAAAAAAAEQAAAAAAAAPA/AAAAAAAA8D84lNdQXkMJQN6Tw2XAJwNAAAAAAAAA8D8AAAAAAADwP0iSJEmSJD5A102hCQzPIkB3wV/FCSkjQOazbjBFPvs/AAAAAAAA8D8AAAAAAADwPwAAAAAAAPA/AAAAAAAA8D9R6FJNP94TQMmV/hfJjRdAEMoxSILWHED8OI83W94jQO5HBUzlaP8/+5ecrTUp9j/iCVWatSP2P0z0gCdLBRFAqy6LpK+Hhz/sxE7sxE6wP2eZZplmmTRAVMIGiNF4QUA2dzN3M3crQKfvn0s8IvU/vRVaeHM6M0BrruZqrsZkQAAAAAAAwBFAreH48IqzEUA8N75z4ztBQKmkgISf3FFAFtNZTGfxWED//////za2QP7/////P39Aqaqqqiokx0CMjIyMjGyBQLqNuERVLhJAoP4WISPbMUDcfxNW7bQhQGCeK9y4jBZAqI0cLur/E0DOZeowLeYSQM3MzMzMzBhA8KEYsvsCFEDpvy8UlbcRQMeEcCfupxZAaWlpaWlpHUDN9IDoZRPRPzcGcdiNQZw/fS+F3LwO4T8NWwIeGm6mPwJEkVUPF6E/6jsb9Z2NGkAAAAAAAABaQAAAAABAgp5AAAAAAABAj0BmZmZmZkOvQP44k9woof0/Ouecc849iUDNzMzMTILOQLTBlumCEkJAglTuI2QWQkBcFnw9FakqQHzaFncoM7w/acNSFQs0wD8CKL3osTDBP/QEmigVLyJAeZnUglAAOUCpqqqqqqoqQATxXJt/NEhAMgT89i7AUUC2Uph/0hYFQKx+QBnCvGhA6kVSO/g9K0BTUEJeB25OQOhdcz4FvUZAA1tbTOBSVEDUlzOf3IczQKKU8KkjnzFAAAAAAAAAAEBjfWisDz1EQCGmS4HU/xNAOY7jOI5LmUB1U3OKJgRDQHVTc4omBDNAAAAAAAAA8D9g3MVd3MUsQG85UKvGABhAchzHcRw7U0AAAAAAAJiDQLterOwVAB5AwsspeDkFMECYmZmZmZnpP/3ZKy6DUxpAXTzt+x6nG0AAAAAAAADwP2q8dJMYBN4/tMh2vp8a8T8AAAAAAAAAQO7u7u7u7uY/m5mZmZmZ7z+kcD0K16PkPzMzMzMzM/E/owJfXP2gE0CTXv60hQYcQAUXtcnt7B1AAQAAAAAA6D+jcD0K16PkP0Ox6I/hxhxAsaD7MkUKDUCNuJW1zzcIQDpZcinuChBA1UoGTpTIIEArJA8qyv9DQFos2aiVVFdArKqqqqqq+j8abD9VpABEQL+trD8C/2NAHANuHANuNUCO1+pn3f8oQOOiCuDsO/w/RC4rBkp4S0DfNaDrAjFJQEOaPiisbj1AKvlrJC/+F0AAAAAAAADwP9j4HoD+l/E/gXYN8QNb7j8AAAAAAADwPxNh8MbF/CxAl7rRi7IhCUC97dXh214xQAJlu2Px7BlAd4AZ6I1/tT/V9ENNP5Q2QMKvxkR6ACJAHdRBHdSBTkBEaoLxVpZVQCK1CPlrdipAAAAAAABcZUAopZRSSmkyQFxBTK4gJkZAdWIndmKnZ0CGiIiIiIhjQAAAAAAAnHRAV1VVVVVlZEDDw8PDw3tnQOUCYIfIuK4/Y3ljtXcbBUBwdZs409pKQAlZyEIWkn1AIYQQQggZg0AAAAAAALBnQDgm0gOVsyxAjOrv8zYpYkDWXoEchBVDQPC9995754lAAAAAAAAA8D+pmVdPLqowQAAAAAAAAPA/VPow6ACcM0ByWTFQwqswQI+a4gCGwuU/pFnptn8hEkDA1iAaSQAkQAAAAAAAAPA/4+2qe4dENUAzKBUm3o8sQJcVAyW80VRAYVvCdL/4Q0AAAAAAAADwP79vjzu2XTVAAAAAAAAA8D8YCFSGmQEBQP0rx098ERpAKhg62Id0A0DWtnZFZRsTQAAAAAAAAPA/AAAAAAAA8D+WBiWb4/oTQNqws3yH+gpACfv8aRfk+D8AAAAAAADwP2lPDjwA7BhAAAAAAAAA8D+d2Imd2AkYQCuLFJuGDitA4MCBAwfOIUCajP5HKxwCQAAAAAAAAPA/cuwC2dsDB0BPtFy/+zgYQI9vr1U54gdADdeqPn7FD0DQIAYPDA0KQHY8p5ICEkpAku9WWV/uRUAAAAAAAADwP8m8lAgeaSBAAAAAAAAA8D8wLKDEyNdTQIEFwFKLBgBAXzhqqGfp4j9NzM7E7EzkP+HIWfRUEec/Qk9OrUjN4D+nVFHMyl7PP7muGoimbss/pPXvF+jU3j80PX+A1ToYQE2uICZX6HRAY7tZnkTG+D+8W2ENHZEvQMctB3MJxytA/gbLnu44BkAKiXJQLIIrQDDYywCqRxhAPw9GxmmBJUBndRhlKk5KQPzOO52LwuU/rBXoGDUz6z/v3e8FXJL8P8zM99i29eA/b99xjXXr4T8AAAAAAADwP9gWJXEkvy9AbDapjXUAJEDdzSWcvJszQO5oRdLPMRBAuXAWoDrC8j+OSR6yo3/xP0CLQAe2JfQ/AAAAAAAA8D8AAAAAAADwPxeYv85SP0VAdSwMMb5eI0CrqqqqqioQQIWHh4eHh/c/F7KQhSxkEUCCif5OVssDQPDAARvTf/A/AAAAAAAA8D9MXnlkV5/zP9j5ewtvjPE/TORY7giA8T8/BSNWdBDyP/1PiiHv//A/3ZjvGVWM8T/DkheDF4DwPwAAAAAAAPA/",
          "dtype": "f8"
         },
         "xaxis": "x",
         "yaxis": "y"
        },
        {
         "hovertemplate": "SI=%{x}<extra></extra>",
         "legendgroup": "",
         "marker": {
          "color": "#636efa"
         },
         "name": "",
         "notched": true,
         "showlegend": false,
         "type": "box",
         "x": {
          "bdata": "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",
          "dtype": "f8"
         },
         "xaxis": "x2",
         "yaxis": "y2"
        }
       ],
       "layout": {
        "barmode": "relative",
        "legend": {
         "tracegroupgap": 0
        },
        "template": {
         "data": {
          "bar": [
           {
            "error_x": {
             "color": "#2a3f5f"
            },
            "error_y": {
             "color": "#2a3f5f"
            },
            "marker": {
             "line": {
              "color": "#E5ECF6",
              "width": 0.5
             },
             "pattern": {
              "fillmode": "overlay",
              "size": 10,
              "solidity": 0.2
             }
            },
            "type": "bar"
           }
          ],
          "barpolar": [
           {
            "marker": {
             "line": {
              "color": "#E5ECF6",
              "width": 0.5
             },
             "pattern": {
              "fillmode": "overlay",
              "size": 10,
              "solidity": 0.2
             }
            },
            "type": "barpolar"
           }
          ],
          "carpet": [
           {
            "aaxis": {
             "endlinecolor": "#2a3f5f",
             "gridcolor": "white",
             "linecolor": "white",
             "minorgridcolor": "white",
             "startlinecolor": "#2a3f5f"
            },
            "baxis": {
             "endlinecolor": "#2a3f5f",
             "gridcolor": "white",
             "linecolor": "white",
             "minorgridcolor": "white",
             "startlinecolor": "#2a3f5f"
            },
            "type": "carpet"
           }
          ],
          "choropleth": [
           {
            "colorbar": {
             "outlinewidth": 0,
             "ticks": ""
            },
            "type": "choropleth"
           }
          ],
          "contour": [
           {
            "colorbar": {
             "outlinewidth": 0,
             "ticks": ""
            },
            "colorscale": [
             [
              0,
              "#0d0887"
             ],
             [
              0.1111111111111111,
              "#46039f"
             ],
             [
              0.2222222222222222,
              "#7201a8"
             ],
             [
              0.3333333333333333,
              "#9c179e"
             ],
             [
              0.4444444444444444,
              "#bd3786"
             ],
             [
              0.5555555555555556,
              "#d8576b"
             ],
             [
              0.6666666666666666,
              "#ed7953"
             ],
             [
              0.7777777777777778,
              "#fb9f3a"
             ],
             [
              0.8888888888888888,
              "#fdca26"
             ],
             [
              1,
              "#f0f921"
             ]
            ],
            "type": "contour"
           }
          ],
          "contourcarpet": [
           {
            "colorbar": {
             "outlinewidth": 0,
             "ticks": ""
            },
            "type": "contourcarpet"
           }
          ],
          "heatmap": [
           {
            "colorbar": {
             "outlinewidth": 0,
             "ticks": ""
            },
            "colorscale": [
             [
              0,
              "#0d0887"
             ],
             [
              0.1111111111111111,
              "#46039f"
             ],
             [
              0.2222222222222222,
              "#7201a8"
             ],
             [
              0.3333333333333333,
              "#9c179e"
             ],
             [
              0.4444444444444444,
              "#bd3786"
             ],
             [
              0.5555555555555556,
              "#d8576b"
             ],
             [
              0.6666666666666666,
              "#ed7953"
             ],
             [
              0.7777777777777778,
              "#fb9f3a"
             ],
             [
              0.8888888888888888,
              "#fdca26"
             ],
             [
              1,
              "#f0f921"
             ]
            ],
            "type": "heatmap"
           }
          ],
          "histogram": [
           {
            "marker": {
             "pattern": {
              "fillmode": "overlay",
              "size": 10,
              "solidity": 0.2
             }
            },
            "type": "histogram"
           }
          ],
          "histogram2d": [
           {
            "colorbar": {
             "outlinewidth": 0,
             "ticks": ""
            },
            "colorscale": [
             [
              0,
              "#0d0887"
             ],
             [
              0.1111111111111111,
              "#46039f"
             ],
             [
              0.2222222222222222,
              "#7201a8"
             ],
             [
              0.3333333333333333,
              "#9c179e"
             ],
             [
              0.4444444444444444,
              "#bd3786"
             ],
             [
              0.5555555555555556,
              "#d8576b"
             ],
             [
              0.6666666666666666,
              "#ed7953"
             ],
             [
              0.7777777777777778,
              "#fb9f3a"
             ],
             [
              0.8888888888888888,
              "#fdca26"
             ],
             [
              1,
              "#f0f921"
             ]
            ],
            "type": "histogram2d"
           }
          ],
          "histogram2dcontour": [
           {
            "colorbar": {
             "outlinewidth": 0,
             "ticks": ""
            },
            "colorscale": [
             [
              0,
              "#0d0887"
             ],
             [
              0.1111111111111111,
              "#46039f"
             ],
             [
              0.2222222222222222,
              "#7201a8"
             ],
             [
              0.3333333333333333,
              "#9c179e"
             ],
             [
              0.4444444444444444,
              "#bd3786"
             ],
             [
              0.5555555555555556,
              "#d8576b"
             ],
             [
              0.6666666666666666,
              "#ed7953"
             ],
             [
              0.7777777777777778,
              "#fb9f3a"
             ],
             [
              0.8888888888888888,
              "#fdca26"
             ],
             [
              1,
              "#f0f921"
             ]
            ],
            "type": "histogram2dcontour"
           }
          ],
          "mesh3d": [
           {
            "colorbar": {
             "outlinewidth": 0,
             "ticks": ""
            },
            "type": "mesh3d"
           }
          ],
          "parcoords": [
           {
            "line": {
             "colorbar": {
              "outlinewidth": 0,
              "ticks": ""
             }
            },
            "type": "parcoords"
           }
          ],
          "pie": [
           {
            "automargin": true,
            "type": "pie"
           }
          ],
          "scatter": [
           {
            "fillpattern": {
             "fillmode": "overlay",
             "size": 10,
             "solidity": 0.2
            },
            "type": "scatter"
           }
          ],
          "scatter3d": [
           {
            "line": {
             "colorbar": {
              "outlinewidth": 0,
              "ticks": ""
             }
            },
            "marker": {
             "colorbar": {
              "outlinewidth": 0,
              "ticks": ""
             }
            },
            "type": "scatter3d"
           }
          ],
          "scattercarpet": [
           {
            "marker": {
             "colorbar": {
              "outlinewidth": 0,
              "ticks": ""
             }
            },
            "type": "scattercarpet"
           }
          ],
          "scattergeo": [
           {
            "marker": {
             "colorbar": {
              "outlinewidth": 0,
              "ticks": ""
             }
            },
            "type": "scattergeo"
           }
          ],
          "scattergl": [
           {
            "marker": {
             "colorbar": {
              "outlinewidth": 0,
              "ticks": ""
             }
            },
            "type": "scattergl"
           }
          ],
          "scattermap": [
           {
            "marker": {
             "colorbar": {
              "outlinewidth": 0,
              "ticks": ""
             }
            },
            "type": "scattermap"
           }
          ],
          "scattermapbox": [
           {
            "marker": {
             "colorbar": {
              "outlinewidth": 0,
              "ticks": ""
             }
            },
            "type": "scattermapbox"
           }
          ],
          "scatterpolar": [
           {
            "marker": {
             "colorbar": {
              "outlinewidth": 0,
              "ticks": ""
             }
            },
            "type": "scatterpolar"
           }
          ],
          "scatterpolargl": [
           {
            "marker": {
             "colorbar": {
              "outlinewidth": 0,
              "ticks": ""
             }
            },
            "type": "scatterpolargl"
           }
          ],
          "scatterternary": [
           {
            "marker": {
             "colorbar": {
              "outlinewidth": 0,
              "ticks": ""
             }
            },
            "type": "scatterternary"
           }
          ],
          "surface": [
           {
            "colorbar": {
             "outlinewidth": 0,
             "ticks": ""
            },
            "colorscale": [
             [
              0,
              "#0d0887"
             ],
             [
              0.1111111111111111,
              "#46039f"
             ],
             [
              0.2222222222222222,
              "#7201a8"
             ],
             [
              0.3333333333333333,
              "#9c179e"
             ],
             [
              0.4444444444444444,
              "#bd3786"
             ],
             [
              0.5555555555555556,
              "#d8576b"
             ],
             [
              0.6666666666666666,
              "#ed7953"
             ],
             [
              0.7777777777777778,
              "#fb9f3a"
             ],
             [
              0.8888888888888888,
              "#fdca26"
             ],
             [
              1,
              "#f0f921"
             ]
            ],
            "type": "surface"
           }
          ],
          "table": [
           {
            "cells": {
             "fill": {
              "color": "#EBF0F8"
             },
             "line": {
              "color": "white"
             }
            },
            "header": {
             "fill": {
              "color": "#C8D4E3"
             },
             "line": {
              "color": "white"
             }
            },
            "type": "table"
           }
          ]
         },
         "layout": {
          "annotationdefaults": {
           "arrowcolor": "#2a3f5f",
           "arrowhead": 0,
           "arrowwidth": 1
          },
          "autotypenumbers": "strict",
          "coloraxis": {
           "colorbar": {
            "outlinewidth": 0,
            "ticks": ""
           }
          },
          "colorscale": {
           "diverging": [
            [
             0,
             "#8e0152"
            ],
            [
             0.1,
             "#c51b7d"
            ],
            [
             0.2,
             "#de77ae"
            ],
            [
             0.3,
             "#f1b6da"
            ],
            [
             0.4,
             "#fde0ef"
            ],
            [
             0.5,
             "#f7f7f7"
            ],
            [
             0.6,
             "#e6f5d0"
            ],
            [
             0.7,
             "#b8e186"
            ],
            [
             0.8,
             "#7fbc41"
            ],
            [
             0.9,
             "#4d9221"
            ],
            [
             1,
             "#276419"
            ]
           ],
           "sequential": [
            [
             0,
             "#0d0887"
            ],
            [
             0.1111111111111111,
             "#46039f"
            ],
            [
             0.2222222222222222,
             "#7201a8"
            ],
            [
             0.3333333333333333,
             "#9c179e"
            ],
            [
             0.4444444444444444,
             "#bd3786"
            ],
            [
             0.5555555555555556,
             "#d8576b"
            ],
            [
             0.6666666666666666,
             "#ed7953"
            ],
            [
             0.7777777777777778,
             "#fb9f3a"
            ],
            [
             0.8888888888888888,
             "#fdca26"
            ],
            [
             1,
             "#f0f921"
            ]
           ],
           "sequentialminus": [
            [
             0,
             "#0d0887"
            ],
            [
             0.1111111111111111,
             "#46039f"
            ],
            [
             0.2222222222222222,
             "#7201a8"
            ],
            [
             0.3333333333333333,
             "#9c179e"
            ],
            [
             0.4444444444444444,
             "#bd3786"
            ],
            [
             0.5555555555555556,
             "#d8576b"
            ],
            [
             0.6666666666666666,
             "#ed7953"
            ],
            [
             0.7777777777777778,
             "#fb9f3a"
            ],
            [
             0.8888888888888888,
             "#fdca26"
            ],
            [
             1,
             "#f0f921"
            ]
           ]
          },
          "colorway": [
           "#636efa",
           "#EF553B",
           "#00cc96",
           "#ab63fa",
           "#FFA15A",
           "#19d3f3",
           "#FF6692",
           "#B6E880",
           "#FF97FF",
           "#FECB52"
          ],
          "font": {
           "color": "#2a3f5f"
          },
          "geo": {
           "bgcolor": "white",
           "lakecolor": "white",
           "landcolor": "#E5ECF6",
           "showlakes": true,
           "showland": true,
           "subunitcolor": "white"
          },
          "hoverlabel": {
           "align": "left"
          },
          "hovermode": "closest",
          "mapbox": {
           "style": "light"
          },
          "paper_bgcolor": "white",
          "plot_bgcolor": "#E5ECF6",
          "polar": {
           "angularaxis": {
            "gridcolor": "white",
            "linecolor": "white",
            "ticks": ""
           },
           "bgcolor": "#E5ECF6",
           "radialaxis": {
            "gridcolor": "white",
            "linecolor": "white",
            "ticks": ""
           }
          },
          "scene": {
           "xaxis": {
            "backgroundcolor": "#E5ECF6",
            "gridcolor": "white",
            "gridwidth": 2,
            "linecolor": "white",
            "showbackground": true,
            "ticks": "",
            "zerolinecolor": "white"
           },
           "yaxis": {
            "backgroundcolor": "#E5ECF6",
            "gridcolor": "white",
            "gridwidth": 2,
            "linecolor": "white",
            "showbackground": true,
            "ticks": "",
            "zerolinecolor": "white"
           },
           "zaxis": {
            "backgroundcolor": "#E5ECF6",
            "gridcolor": "white",
            "gridwidth": 2,
            "linecolor": "white",
            "showbackground": true,
            "ticks": "",
            "zerolinecolor": "white"
           }
          },
          "shapedefaults": {
           "line": {
            "color": "#2a3f5f"
           }
          },
          "ternary": {
           "aaxis": {
            "gridcolor": "white",
            "linecolor": "white",
            "ticks": ""
           },
           "baxis": {
            "gridcolor": "white",
            "linecolor": "white",
            "ticks": ""
           },
           "bgcolor": "#E5ECF6",
           "caxis": {
            "gridcolor": "white",
            "linecolor": "white",
            "ticks": ""
           }
          },
          "title": {
           "x": 0.05
          },
          "xaxis": {
           "automargin": true,
           "gridcolor": "white",
           "linecolor": "white",
           "ticks": "",
           "title": {
            "standoff": 15
           },
           "zerolinecolor": "white",
           "zerolinewidth": 2
          },
          "yaxis": {
           "automargin": true,
           "gridcolor": "white",
           "linecolor": "white",
           "ticks": "",
           "title": {
            "standoff": 15
           },
           "zerolinecolor": "white",
           "zerolinewidth": 2
          }
         }
        },
        "title": {
         "text": "Распределение SI"
        },
        "xaxis": {
         "anchor": "y",
         "domain": [
          0,
          1
         ],
         "title": {
          "text": "SI"
         }
        },
        "xaxis2": {
         "anchor": "y2",
         "domain": [
          0,
          1
         ],
         "matches": "x",
         "showgrid": true,
         "showticklabels": false
        },
        "yaxis": {
         "anchor": "x",
         "domain": [
          0,
          0.8316
         ],
         "title": {
          "text": "count"
         }
        },
        "yaxis2": {
         "anchor": "x2",
         "domain": [
          0.8416,
          1
         ],
         "matches": "y2",
         "showgrid": false,
         "showline": false,
         "showticklabels": false,
         "ticks": ""
        }
       }
      }
     },
     "metadata": {},
     "output_type": "display_data"
    }
   ],
   "source": [
    "for col in target_variables:\n",
    "    if col in data.columns:\n",
    "        fig = px.histogram(\n",
    "            data,\n",
    "            x=col,\n",
    "            nbins=50,\n",
    "            marginal=\"box\",\n",
    "            title=f\"Распределение {col}\",\n",
    "        \n",
    "        )\n",
    "        fig.show()\n",
    "    else:\n",
    "        print(f\"Столбец {col} не найден в данных\")"
   ]
  },
  {
   "cell_type": "markdown",
   "id": "935575ba",
   "metadata": {},
   "source": [
    "Попробуем логарифмировать целевые переменные"
   ]
  },
  {
   "cell_type": "code",
   "execution_count": 15,
   "id": "f6f9bfc4",
   "metadata": {},
   "outputs": [
    {
     "data": {
      "application/vnd.plotly.v1+json": {
       "config": {
        "plotlyServerURL": "https://plot.ly"
       },
       "data": [
        {
         "bingroup": "x",
         "hovertemplate": "log10_IC50, mM=%{x}<br>count=%{y}<extra></extra>",
         "legendgroup": "",
         "marker": {
          "color": "#636efa",
          "pattern": {
           "shape": ""
          }
         },
         "name": "",
         "nbinsx": 50,
         "orientation": "v",
         "showlegend": false,
         "type": "histogram",
         "x": {
          "bdata": "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",
          "dtype": "f8"
         },
         "xaxis": "x",
         "yaxis": "y"
        },
        {
         "hovertemplate": "log10_IC50, mM=%{x}<extra></extra>",
         "legendgroup": "",
         "marker": {
          "color": "#636efa"
         },
         "name": "",
         "notched": true,
         "showlegend": false,
         "type": "box",
         "x": {
          "bdata": "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",
          "dtype": "f8"
         },
         "xaxis": "x2",
         "yaxis": "y2"
        }
       ],
       "layout": {
        "barmode": "relative",
        "legend": {
         "tracegroupgap": 0
        },
        "template": {
         "data": {
          "bar": [
           {
            "error_x": {
             "color": "#2a3f5f"
            },
            "error_y": {
             "color": "#2a3f5f"
            },
            "marker": {
             "line": {
              "color": "#E5ECF6",
              "width": 0.5
             },
             "pattern": {
              "fillmode": "overlay",
              "size": 10,
              "solidity": 0.2
             }
            },
            "type": "bar"
           }
          ],
          "barpolar": [
           {
            "marker": {
             "line": {
              "color": "#E5ECF6",
              "width": 0.5
             },
             "pattern": {
              "fillmode": "overlay",
              "size": 10,
              "solidity": 0.2
             }
            },
            "type": "barpolar"
           }
          ],
          "carpet": [
           {
            "aaxis": {
             "endlinecolor": "#2a3f5f",
             "gridcolor": "white",
             "linecolor": "white",
             "minorgridcolor": "white",
             "startlinecolor": "#2a3f5f"
            },
            "baxis": {
             "endlinecolor": "#2a3f5f",
             "gridcolor": "white",
             "linecolor": "white",
             "minorgridcolor": "white",
             "startlinecolor": "#2a3f5f"
            },
            "type": "carpet"
           }
          ],
          "choropleth": [
           {
            "colorbar": {
             "outlinewidth": 0,
             "ticks": ""
            },
            "type": "choropleth"
           }
          ],
          "contour": [
           {
            "colorbar": {
             "outlinewidth": 0,
             "ticks": ""
            },
            "colorscale": [
             [
              0,
              "#0d0887"
             ],
             [
              0.1111111111111111,
              "#46039f"
             ],
             [
              0.2222222222222222,
              "#7201a8"
             ],
             [
              0.3333333333333333,
              "#9c179e"
             ],
             [
              0.4444444444444444,
              "#bd3786"
             ],
             [
              0.5555555555555556,
              "#d8576b"
             ],
             [
              0.6666666666666666,
              "#ed7953"
             ],
             [
              0.7777777777777778,
              "#fb9f3a"
             ],
             [
              0.8888888888888888,
              "#fdca26"
             ],
             [
              1,
              "#f0f921"
             ]
            ],
            "type": "contour"
           }
          ],
          "contourcarpet": [
           {
            "colorbar": {
             "outlinewidth": 0,
             "ticks": ""
            },
            "type": "contourcarpet"
           }
          ],
          "heatmap": [
           {
            "colorbar": {
             "outlinewidth": 0,
             "ticks": ""
            },
            "colorscale": [
             [
              0,
              "#0d0887"
             ],
             [
              0.1111111111111111,
              "#46039f"
             ],
             [
              0.2222222222222222,
              "#7201a8"
             ],
             [
              0.3333333333333333,
              "#9c179e"
             ],
             [
              0.4444444444444444,
              "#bd3786"
             ],
             [
              0.5555555555555556,
              "#d8576b"
             ],
             [
              0.6666666666666666,
              "#ed7953"
             ],
             [
              0.7777777777777778,
              "#fb9f3a"
             ],
             [
              0.8888888888888888,
              "#fdca26"
             ],
             [
              1,
              "#f0f921"
             ]
            ],
            "type": "heatmap"
           }
          ],
          "histogram": [
           {
            "marker": {
             "pattern": {
              "fillmode": "overlay",
              "size": 10,
              "solidity": 0.2
             }
            },
            "type": "histogram"
           }
          ],
          "histogram2d": [
           {
            "colorbar": {
             "outlinewidth": 0,
             "ticks": ""
            },
            "colorscale": [
             [
              0,
              "#0d0887"
             ],
             [
              0.1111111111111111,
              "#46039f"
             ],
             [
              0.2222222222222222,
              "#7201a8"
             ],
             [
              0.3333333333333333,
              "#9c179e"
             ],
             [
              0.4444444444444444,
              "#bd3786"
             ],
             [
              0.5555555555555556,
              "#d8576b"
             ],
             [
              0.6666666666666666,
              "#ed7953"
             ],
             [
              0.7777777777777778,
              "#fb9f3a"
             ],
             [
              0.8888888888888888,
              "#fdca26"
             ],
             [
              1,
              "#f0f921"
             ]
            ],
            "type": "histogram2d"
           }
          ],
          "histogram2dcontour": [
           {
            "colorbar": {
             "outlinewidth": 0,
             "ticks": ""
            },
            "colorscale": [
             [
              0,
              "#0d0887"
             ],
             [
              0.1111111111111111,
              "#46039f"
             ],
             [
              0.2222222222222222,
              "#7201a8"
             ],
             [
              0.3333333333333333,
              "#9c179e"
             ],
             [
              0.4444444444444444,
              "#bd3786"
             ],
             [
              0.5555555555555556,
              "#d8576b"
             ],
             [
              0.6666666666666666,
              "#ed7953"
             ],
             [
              0.7777777777777778,
              "#fb9f3a"
             ],
             [
              0.8888888888888888,
              "#fdca26"
             ],
             [
              1,
              "#f0f921"
             ]
            ],
            "type": "histogram2dcontour"
           }
          ],
          "mesh3d": [
           {
            "colorbar": {
             "outlinewidth": 0,
             "ticks": ""
            },
            "type": "mesh3d"
           }
          ],
          "parcoords": [
           {
            "line": {
             "colorbar": {
              "outlinewidth": 0,
              "ticks": ""
             }
            },
            "type": "parcoords"
           }
          ],
          "pie": [
           {
            "automargin": true,
            "type": "pie"
           }
          ],
          "scatter": [
           {
            "fillpattern": {
             "fillmode": "overlay",
             "size": 10,
             "solidity": 0.2
            },
            "type": "scatter"
           }
          ],
          "scatter3d": [
           {
            "line": {
             "colorbar": {
              "outlinewidth": 0,
              "ticks": ""
             }
            },
            "marker": {
             "colorbar": {
              "outlinewidth": 0,
              "ticks": ""
             }
            },
            "type": "scatter3d"
           }
          ],
          "scattercarpet": [
           {
            "marker": {
             "colorbar": {
              "outlinewidth": 0,
              "ticks": ""
             }
            },
            "type": "scattercarpet"
           }
          ],
          "scattergeo": [
           {
            "marker": {
             "colorbar": {
              "outlinewidth": 0,
              "ticks": ""
             }
            },
            "type": "scattergeo"
           }
          ],
          "scattergl": [
           {
            "marker": {
             "colorbar": {
              "outlinewidth": 0,
              "ticks": ""
             }
            },
            "type": "scattergl"
           }
          ],
          "scattermap": [
           {
            "marker": {
             "colorbar": {
              "outlinewidth": 0,
              "ticks": ""
             }
            },
            "type": "scattermap"
           }
          ],
          "scattermapbox": [
           {
            "marker": {
             "colorbar": {
              "outlinewidth": 0,
              "ticks": ""
             }
            },
            "type": "scattermapbox"
           }
          ],
          "scatterpolar": [
           {
            "marker": {
             "colorbar": {
              "outlinewidth": 0,
              "ticks": ""
             }
            },
            "type": "scatterpolar"
           }
          ],
          "scatterpolargl": [
           {
            "marker": {
             "colorbar": {
              "outlinewidth": 0,
              "ticks": ""
             }
            },
            "type": "scatterpolargl"
           }
          ],
          "scatterternary": [
           {
            "marker": {
             "colorbar": {
              "outlinewidth": 0,
              "ticks": ""
             }
            },
            "type": "scatterternary"
           }
          ],
          "surface": [
           {
            "colorbar": {
             "outlinewidth": 0,
             "ticks": ""
            },
            "colorscale": [
             [
              0,
              "#0d0887"
             ],
             [
              0.1111111111111111,
              "#46039f"
             ],
             [
              0.2222222222222222,
              "#7201a8"
             ],
             [
              0.3333333333333333,
              "#9c179e"
             ],
             [
              0.4444444444444444,
              "#bd3786"
             ],
             [
              0.5555555555555556,
              "#d8576b"
             ],
             [
              0.6666666666666666,
              "#ed7953"
             ],
             [
              0.7777777777777778,
              "#fb9f3a"
             ],
             [
              0.8888888888888888,
              "#fdca26"
             ],
             [
              1,
              "#f0f921"
             ]
            ],
            "type": "surface"
           }
          ],
          "table": [
           {
            "cells": {
             "fill": {
              "color": "#EBF0F8"
             },
             "line": {
              "color": "white"
             }
            },
            "header": {
             "fill": {
              "color": "#C8D4E3"
             },
             "line": {
              "color": "white"
             }
            },
            "type": "table"
           }
          ]
         },
         "layout": {
          "annotationdefaults": {
           "arrowcolor": "#2a3f5f",
           "arrowhead": 0,
           "arrowwidth": 1
          },
          "autotypenumbers": "strict",
          "coloraxis": {
           "colorbar": {
            "outlinewidth": 0,
            "ticks": ""
           }
          },
          "colorscale": {
           "diverging": [
            [
             0,
             "#8e0152"
            ],
            [
             0.1,
             "#c51b7d"
            ],
            [
             0.2,
             "#de77ae"
            ],
            [
             0.3,
             "#f1b6da"
            ],
            [
             0.4,
             "#fde0ef"
            ],
            [
             0.5,
             "#f7f7f7"
            ],
            [
             0.6,
             "#e6f5d0"
            ],
            [
             0.7,
             "#b8e186"
            ],
            [
             0.8,
             "#7fbc41"
            ],
            [
             0.9,
             "#4d9221"
            ],
            [
             1,
             "#276419"
            ]
           ],
           "sequential": [
            [
             0,
             "#0d0887"
            ],
            [
             0.1111111111111111,
             "#46039f"
            ],
            [
             0.2222222222222222,
             "#7201a8"
            ],
            [
             0.3333333333333333,
             "#9c179e"
            ],
            [
             0.4444444444444444,
             "#bd3786"
            ],
            [
             0.5555555555555556,
             "#d8576b"
            ],
            [
             0.6666666666666666,
             "#ed7953"
            ],
            [
             0.7777777777777778,
             "#fb9f3a"
            ],
            [
             0.8888888888888888,
             "#fdca26"
            ],
            [
             1,
             "#f0f921"
            ]
           ],
           "sequentialminus": [
            [
             0,
             "#0d0887"
            ],
            [
             0.1111111111111111,
             "#46039f"
            ],
            [
             0.2222222222222222,
             "#7201a8"
            ],
            [
             0.3333333333333333,
             "#9c179e"
            ],
            [
             0.4444444444444444,
             "#bd3786"
            ],
            [
             0.5555555555555556,
             "#d8576b"
            ],
            [
             0.6666666666666666,
             "#ed7953"
            ],
            [
             0.7777777777777778,
             "#fb9f3a"
            ],
            [
             0.8888888888888888,
             "#fdca26"
            ],
            [
             1,
             "#f0f921"
            ]
           ]
          },
          "colorway": [
           "#636efa",
           "#EF553B",
           "#00cc96",
           "#ab63fa",
           "#FFA15A",
           "#19d3f3",
           "#FF6692",
           "#B6E880",
           "#FF97FF",
           "#FECB52"
          ],
          "font": {
           "color": "#2a3f5f"
          },
          "geo": {
           "bgcolor": "white",
           "lakecolor": "white",
           "landcolor": "#E5ECF6",
           "showlakes": true,
           "showland": true,
           "subunitcolor": "white"
          },
          "hoverlabel": {
           "align": "left"
          },
          "hovermode": "closest",
          "mapbox": {
           "style": "light"
          },
          "paper_bgcolor": "white",
          "plot_bgcolor": "#E5ECF6",
          "polar": {
           "angularaxis": {
            "gridcolor": "white",
            "linecolor": "white",
            "ticks": ""
           },
           "bgcolor": "#E5ECF6",
           "radialaxis": {
            "gridcolor": "white",
            "linecolor": "white",
            "ticks": ""
           }
          },
          "scene": {
           "xaxis": {
            "backgroundcolor": "#E5ECF6",
            "gridcolor": "white",
            "gridwidth": 2,
            "linecolor": "white",
            "showbackground": true,
            "ticks": "",
            "zerolinecolor": "white"
           },
           "yaxis": {
            "backgroundcolor": "#E5ECF6",
            "gridcolor": "white",
            "gridwidth": 2,
            "linecolor": "white",
            "showbackground": true,
            "ticks": "",
            "zerolinecolor": "white"
           },
           "zaxis": {
            "backgroundcolor": "#E5ECF6",
            "gridcolor": "white",
            "gridwidth": 2,
            "linecolor": "white",
            "showbackground": true,
            "ticks": "",
            "zerolinecolor": "white"
           }
          },
          "shapedefaults": {
           "line": {
            "color": "#2a3f5f"
           }
          },
          "ternary": {
           "aaxis": {
            "gridcolor": "white",
            "linecolor": "white",
            "ticks": ""
           },
           "baxis": {
            "gridcolor": "white",
            "linecolor": "white",
            "ticks": ""
           },
           "bgcolor": "#E5ECF6",
           "caxis": {
            "gridcolor": "white",
            "linecolor": "white",
            "ticks": ""
           }
          },
          "title": {
           "x": 0.05
          },
          "xaxis": {
           "automargin": true,
           "gridcolor": "white",
           "linecolor": "white",
           "ticks": "",
           "title": {
            "standoff": 15
           },
           "zerolinecolor": "white",
           "zerolinewidth": 2
          },
          "yaxis": {
           "automargin": true,
           "gridcolor": "white",
           "linecolor": "white",
           "ticks": "",
           "title": {
            "standoff": 15
           },
           "zerolinecolor": "white",
           "zerolinewidth": 2
          }
         }
        },
        "title": {
         "text": "Распределение log10_IC50, mM"
        },
        "xaxis": {
         "anchor": "y",
         "domain": [
          0,
          1
         ],
         "title": {
          "text": "log10_IC50, mM"
         }
        },
        "xaxis2": {
         "anchor": "y2",
         "domain": [
          0,
          1
         ],
         "matches": "x",
         "showgrid": true,
         "showticklabels": false
        },
        "yaxis": {
         "anchor": "x",
         "domain": [
          0,
          0.8316
         ],
         "title": {
          "text": "count"
         }
        },
        "yaxis2": {
         "anchor": "x2",
         "domain": [
          0.8416,
          1
         ],
         "matches": "y2",
         "showgrid": false,
         "showline": false,
         "showticklabels": false,
         "ticks": ""
        }
       }
      }
     },
     "metadata": {},
     "output_type": "display_data"
    },
    {
     "data": {
      "application/vnd.plotly.v1+json": {
       "config": {
        "plotlyServerURL": "https://plot.ly"
       },
       "data": [
        {
         "bingroup": "x",
         "hovertemplate": "log10_CC50, mM=%{x}<br>count=%{y}<extra></extra>",
         "legendgroup": "",
         "marker": {
          "color": "#636efa",
          "pattern": {
           "shape": ""
          }
         },
         "name": "",
         "nbinsx": 50,
         "orientation": "v",
         "showlegend": false,
         "type": "histogram",
         "x": {
          "bdata": "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",
          "dtype": "f8"
         },
         "xaxis": "x",
         "yaxis": "y"
        },
        {
         "hovertemplate": "log10_CC50, mM=%{x}<extra></extra>",
         "legendgroup": "",
         "marker": {
          "color": "#636efa"
         },
         "name": "",
         "notched": true,
         "showlegend": false,
         "type": "box",
         "x": {
          "bdata": "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",
          "dtype": "f8"
         },
         "xaxis": "x2",
         "yaxis": "y2"
        }
       ],
       "layout": {
        "barmode": "relative",
        "legend": {
         "tracegroupgap": 0
        },
        "template": {
         "data": {
          "bar": [
           {
            "error_x": {
             "color": "#2a3f5f"
            },
            "error_y": {
             "color": "#2a3f5f"
            },
            "marker": {
             "line": {
              "color": "#E5ECF6",
              "width": 0.5
             },
             "pattern": {
              "fillmode": "overlay",
              "size": 10,
              "solidity": 0.2
             }
            },
            "type": "bar"
           }
          ],
          "barpolar": [
           {
            "marker": {
             "line": {
              "color": "#E5ECF6",
              "width": 0.5
             },
             "pattern": {
              "fillmode": "overlay",
              "size": 10,
              "solidity": 0.2
             }
            },
            "type": "barpolar"
           }
          ],
          "carpet": [
           {
            "aaxis": {
             "endlinecolor": "#2a3f5f",
             "gridcolor": "white",
             "linecolor": "white",
             "minorgridcolor": "white",
             "startlinecolor": "#2a3f5f"
            },
            "baxis": {
             "endlinecolor": "#2a3f5f",
             "gridcolor": "white",
             "linecolor": "white",
             "minorgridcolor": "white",
             "startlinecolor": "#2a3f5f"
            },
            "type": "carpet"
           }
          ],
          "choropleth": [
           {
            "colorbar": {
             "outlinewidth": 0,
             "ticks": ""
            },
            "type": "choropleth"
           }
          ],
          "contour": [
           {
            "colorbar": {
             "outlinewidth": 0,
             "ticks": ""
            },
            "colorscale": [
             [
              0,
              "#0d0887"
             ],
             [
              0.1111111111111111,
              "#46039f"
             ],
             [
              0.2222222222222222,
              "#7201a8"
             ],
             [
              0.3333333333333333,
              "#9c179e"
             ],
             [
              0.4444444444444444,
              "#bd3786"
             ],
             [
              0.5555555555555556,
              "#d8576b"
             ],
             [
              0.6666666666666666,
              "#ed7953"
             ],
             [
              0.7777777777777778,
              "#fb9f3a"
             ],
             [
              0.8888888888888888,
              "#fdca26"
             ],
             [
              1,
              "#f0f921"
             ]
            ],
            "type": "contour"
           }
          ],
          "contourcarpet": [
           {
            "colorbar": {
             "outlinewidth": 0,
             "ticks": ""
            },
            "type": "contourcarpet"
           }
          ],
          "heatmap": [
           {
            "colorbar": {
             "outlinewidth": 0,
             "ticks": ""
            },
            "colorscale": [
             [
              0,
              "#0d0887"
             ],
             [
              0.1111111111111111,
              "#46039f"
             ],
             [
              0.2222222222222222,
              "#7201a8"
             ],
             [
              0.3333333333333333,
              "#9c179e"
             ],
             [
              0.4444444444444444,
              "#bd3786"
             ],
             [
              0.5555555555555556,
              "#d8576b"
             ],
             [
              0.6666666666666666,
              "#ed7953"
             ],
             [
              0.7777777777777778,
              "#fb9f3a"
             ],
             [
              0.8888888888888888,
              "#fdca26"
             ],
             [
              1,
              "#f0f921"
             ]
            ],
            "type": "heatmap"
           }
          ],
          "histogram": [
           {
            "marker": {
             "pattern": {
              "fillmode": "overlay",
              "size": 10,
              "solidity": 0.2
             }
            },
            "type": "histogram"
           }
          ],
          "histogram2d": [
           {
            "colorbar": {
             "outlinewidth": 0,
             "ticks": ""
            },
            "colorscale": [
             [
              0,
              "#0d0887"
             ],
             [
              0.1111111111111111,
              "#46039f"
             ],
             [
              0.2222222222222222,
              "#7201a8"
             ],
             [
              0.3333333333333333,
              "#9c179e"
             ],
             [
              0.4444444444444444,
              "#bd3786"
             ],
             [
              0.5555555555555556,
              "#d8576b"
             ],
             [
              0.6666666666666666,
              "#ed7953"
             ],
             [
              0.7777777777777778,
              "#fb9f3a"
             ],
             [
              0.8888888888888888,
              "#fdca26"
             ],
             [
              1,
              "#f0f921"
             ]
            ],
            "type": "histogram2d"
           }
          ],
          "histogram2dcontour": [
           {
            "colorbar": {
             "outlinewidth": 0,
             "ticks": ""
            },
            "colorscale": [
             [
              0,
              "#0d0887"
             ],
             [
              0.1111111111111111,
              "#46039f"
             ],
             [
              0.2222222222222222,
              "#7201a8"
             ],
             [
              0.3333333333333333,
              "#9c179e"
             ],
             [
              0.4444444444444444,
              "#bd3786"
             ],
             [
              0.5555555555555556,
              "#d8576b"
             ],
             [
              0.6666666666666666,
              "#ed7953"
             ],
             [
              0.7777777777777778,
              "#fb9f3a"
             ],
             [
              0.8888888888888888,
              "#fdca26"
             ],
             [
              1,
              "#f0f921"
             ]
            ],
            "type": "histogram2dcontour"
           }
          ],
          "mesh3d": [
           {
            "colorbar": {
             "outlinewidth": 0,
             "ticks": ""
            },
            "type": "mesh3d"
           }
          ],
          "parcoords": [
           {
            "line": {
             "colorbar": {
              "outlinewidth": 0,
              "ticks": ""
             }
            },
            "type": "parcoords"
           }
          ],
          "pie": [
           {
            "automargin": true,
            "type": "pie"
           }
          ],
          "scatter": [
           {
            "fillpattern": {
             "fillmode": "overlay",
             "size": 10,
             "solidity": 0.2
            },
            "type": "scatter"
           }
          ],
          "scatter3d": [
           {
            "line": {
             "colorbar": {
              "outlinewidth": 0,
              "ticks": ""
             }
            },
            "marker": {
             "colorbar": {
              "outlinewidth": 0,
              "ticks": ""
             }
            },
            "type": "scatter3d"
           }
          ],
          "scattercarpet": [
           {
            "marker": {
             "colorbar": {
              "outlinewidth": 0,
              "ticks": ""
             }
            },
            "type": "scattercarpet"
           }
          ],
          "scattergeo": [
           {
            "marker": {
             "colorbar": {
              "outlinewidth": 0,
              "ticks": ""
             }
            },
            "type": "scattergeo"
           }
          ],
          "scattergl": [
           {
            "marker": {
             "colorbar": {
              "outlinewidth": 0,
              "ticks": ""
             }
            },
            "type": "scattergl"
           }
          ],
          "scattermap": [
           {
            "marker": {
             "colorbar": {
              "outlinewidth": 0,
              "ticks": ""
             }
            },
            "type": "scattermap"
           }
          ],
          "scattermapbox": [
           {
            "marker": {
             "colorbar": {
              "outlinewidth": 0,
              "ticks": ""
             }
            },
            "type": "scattermapbox"
           }
          ],
          "scatterpolar": [
           {
            "marker": {
             "colorbar": {
              "outlinewidth": 0,
              "ticks": ""
             }
            },
            "type": "scatterpolar"
           }
          ],
          "scatterpolargl": [
           {
            "marker": {
             "colorbar": {
              "outlinewidth": 0,
              "ticks": ""
             }
            },
            "type": "scatterpolargl"
           }
          ],
          "scatterternary": [
           {
            "marker": {
             "colorbar": {
              "outlinewidth": 0,
              "ticks": ""
             }
            },
            "type": "scatterternary"
           }
          ],
          "surface": [
           {
            "colorbar": {
             "outlinewidth": 0,
             "ticks": ""
            },
            "colorscale": [
             [
              0,
              "#0d0887"
             ],
             [
              0.1111111111111111,
              "#46039f"
             ],
             [
              0.2222222222222222,
              "#7201a8"
             ],
             [
              0.3333333333333333,
              "#9c179e"
             ],
             [
              0.4444444444444444,
              "#bd3786"
             ],
             [
              0.5555555555555556,
              "#d8576b"
             ],
             [
              0.6666666666666666,
              "#ed7953"
             ],
             [
              0.7777777777777778,
              "#fb9f3a"
             ],
             [
              0.8888888888888888,
              "#fdca26"
             ],
             [
              1,
              "#f0f921"
             ]
            ],
            "type": "surface"
           }
          ],
          "table": [
           {
            "cells": {
             "fill": {
              "color": "#EBF0F8"
             },
             "line": {
              "color": "white"
             }
            },
            "header": {
             "fill": {
              "color": "#C8D4E3"
             },
             "line": {
              "color": "white"
             }
            },
            "type": "table"
           }
          ]
         },
         "layout": {
          "annotationdefaults": {
           "arrowcolor": "#2a3f5f",
           "arrowhead": 0,
           "arrowwidth": 1
          },
          "autotypenumbers": "strict",
          "coloraxis": {
           "colorbar": {
            "outlinewidth": 0,
            "ticks": ""
           }
          },
          "colorscale": {
           "diverging": [
            [
             0,
             "#8e0152"
            ],
            [
             0.1,
             "#c51b7d"
            ],
            [
             0.2,
             "#de77ae"
            ],
            [
             0.3,
             "#f1b6da"
            ],
            [
             0.4,
             "#fde0ef"
            ],
            [
             0.5,
             "#f7f7f7"
            ],
            [
             0.6,
             "#e6f5d0"
            ],
            [
             0.7,
             "#b8e186"
            ],
            [
             0.8,
             "#7fbc41"
            ],
            [
             0.9,
             "#4d9221"
            ],
            [
             1,
             "#276419"
            ]
           ],
           "sequential": [
            [
             0,
             "#0d0887"
            ],
            [
             0.1111111111111111,
             "#46039f"
            ],
            [
             0.2222222222222222,
             "#7201a8"
            ],
            [
             0.3333333333333333,
             "#9c179e"
            ],
            [
             0.4444444444444444,
             "#bd3786"
            ],
            [
             0.5555555555555556,
             "#d8576b"
            ],
            [
             0.6666666666666666,
             "#ed7953"
            ],
            [
             0.7777777777777778,
             "#fb9f3a"
            ],
            [
             0.8888888888888888,
             "#fdca26"
            ],
            [
             1,
             "#f0f921"
            ]
           ],
           "sequentialminus": [
            [
             0,
             "#0d0887"
            ],
            [
             0.1111111111111111,
             "#46039f"
            ],
            [
             0.2222222222222222,
             "#7201a8"
            ],
            [
             0.3333333333333333,
             "#9c179e"
            ],
            [
             0.4444444444444444,
             "#bd3786"
            ],
            [
             0.5555555555555556,
             "#d8576b"
            ],
            [
             0.6666666666666666,
             "#ed7953"
            ],
            [
             0.7777777777777778,
             "#fb9f3a"
            ],
            [
             0.8888888888888888,
             "#fdca26"
            ],
            [
             1,
             "#f0f921"
            ]
           ]
          },
          "colorway": [
           "#636efa",
           "#EF553B",
           "#00cc96",
           "#ab63fa",
           "#FFA15A",
           "#19d3f3",
           "#FF6692",
           "#B6E880",
           "#FF97FF",
           "#FECB52"
          ],
          "font": {
           "color": "#2a3f5f"
          },
          "geo": {
           "bgcolor": "white",
           "lakecolor": "white",
           "landcolor": "#E5ECF6",
           "showlakes": true,
           "showland": true,
           "subunitcolor": "white"
          },
          "hoverlabel": {
           "align": "left"
          },
          "hovermode": "closest",
          "mapbox": {
           "style": "light"
          },
          "paper_bgcolor": "white",
          "plot_bgcolor": "#E5ECF6",
          "polar": {
           "angularaxis": {
            "gridcolor": "white",
            "linecolor": "white",
            "ticks": ""
           },
           "bgcolor": "#E5ECF6",
           "radialaxis": {
            "gridcolor": "white",
            "linecolor": "white",
            "ticks": ""
           }
          },
          "scene": {
           "xaxis": {
            "backgroundcolor": "#E5ECF6",
            "gridcolor": "white",
            "gridwidth": 2,
            "linecolor": "white",
            "showbackground": true,
            "ticks": "",
            "zerolinecolor": "white"
           },
           "yaxis": {
            "backgroundcolor": "#E5ECF6",
            "gridcolor": "white",
            "gridwidth": 2,
            "linecolor": "white",
            "showbackground": true,
            "ticks": "",
            "zerolinecolor": "white"
           },
           "zaxis": {
            "backgroundcolor": "#E5ECF6",
            "gridcolor": "white",
            "gridwidth": 2,
            "linecolor": "white",
            "showbackground": true,
            "ticks": "",
            "zerolinecolor": "white"
           }
          },
          "shapedefaults": {
           "line": {
            "color": "#2a3f5f"
           }
          },
          "ternary": {
           "aaxis": {
            "gridcolor": "white",
            "linecolor": "white",
            "ticks": ""
           },
           "baxis": {
            "gridcolor": "white",
            "linecolor": "white",
            "ticks": ""
           },
           "bgcolor": "#E5ECF6",
           "caxis": {
            "gridcolor": "white",
            "linecolor": "white",
            "ticks": ""
           }
          },
          "title": {
           "x": 0.05
          },
          "xaxis": {
           "automargin": true,
           "gridcolor": "white",
           "linecolor": "white",
           "ticks": "",
           "title": {
            "standoff": 15
           },
           "zerolinecolor": "white",
           "zerolinewidth": 2
          },
          "yaxis": {
           "automargin": true,
           "gridcolor": "white",
           "linecolor": "white",
           "ticks": "",
           "title": {
            "standoff": 15
           },
           "zerolinecolor": "white",
           "zerolinewidth": 2
          }
         }
        },
        "title": {
         "text": "Распределение log10_CC50, mM"
        },
        "xaxis": {
         "anchor": "y",
         "domain": [
          0,
          1
         ],
         "title": {
          "text": "log10_CC50, mM"
         }
        },
        "xaxis2": {
         "anchor": "y2",
         "domain": [
          0,
          1
         ],
         "matches": "x",
         "showgrid": true,
         "showticklabels": false
        },
        "yaxis": {
         "anchor": "x",
         "domain": [
          0,
          0.8316
         ],
         "title": {
          "text": "count"
         }
        },
        "yaxis2": {
         "anchor": "x2",
         "domain": [
          0.8416,
          1
         ],
         "matches": "y2",
         "showgrid": false,
         "showline": false,
         "showticklabels": false,
         "ticks": ""
        }
       }
      }
     },
     "metadata": {},
     "output_type": "display_data"
    },
    {
     "data": {
      "application/vnd.plotly.v1+json": {
       "config": {
        "plotlyServerURL": "https://plot.ly"
       },
       "data": [
        {
         "bingroup": "x",
         "hovertemplate": "log10_SI=%{x}<br>count=%{y}<extra></extra>",
         "legendgroup": "",
         "marker": {
          "color": "#636efa",
          "pattern": {
           "shape": ""
          }
         },
         "name": "",
         "nbinsx": 50,
         "orientation": "v",
         "showlegend": false,
         "type": "histogram",
         "x": {
          "bdata": "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",
          "dtype": "f8"
         },
         "xaxis": "x",
         "yaxis": "y"
        },
        {
         "hovertemplate": "log10_SI=%{x}<extra></extra>",
         "legendgroup": "",
         "marker": {
          "color": "#636efa"
         },
         "name": "",
         "notched": true,
         "showlegend": false,
         "type": "box",
         "x": {
          "bdata": "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",
          "dtype": "f8"
         },
         "xaxis": "x2",
         "yaxis": "y2"
        }
       ],
       "layout": {
        "barmode": "relative",
        "legend": {
         "tracegroupgap": 0
        },
        "template": {
         "data": {
          "bar": [
           {
            "error_x": {
             "color": "#2a3f5f"
            },
            "error_y": {
             "color": "#2a3f5f"
            },
            "marker": {
             "line": {
              "color": "#E5ECF6",
              "width": 0.5
             },
             "pattern": {
              "fillmode": "overlay",
              "size": 10,
              "solidity": 0.2
             }
            },
            "type": "bar"
           }
          ],
          "barpolar": [
           {
            "marker": {
             "line": {
              "color": "#E5ECF6",
              "width": 0.5
             },
             "pattern": {
              "fillmode": "overlay",
              "size": 10,
              "solidity": 0.2
             }
            },
            "type": "barpolar"
           }
          ],
          "carpet": [
           {
            "aaxis": {
             "endlinecolor": "#2a3f5f",
             "gridcolor": "white",
             "linecolor": "white",
             "minorgridcolor": "white",
             "startlinecolor": "#2a3f5f"
            },
            "baxis": {
             "endlinecolor": "#2a3f5f",
             "gridcolor": "white",
             "linecolor": "white",
             "minorgridcolor": "white",
             "startlinecolor": "#2a3f5f"
            },
            "type": "carpet"
           }
          ],
          "choropleth": [
           {
            "colorbar": {
             "outlinewidth": 0,
             "ticks": ""
            },
            "type": "choropleth"
           }
          ],
          "contour": [
           {
            "colorbar": {
             "outlinewidth": 0,
             "ticks": ""
            },
            "colorscale": [
             [
              0,
              "#0d0887"
             ],
             [
              0.1111111111111111,
              "#46039f"
             ],
             [
              0.2222222222222222,
              "#7201a8"
             ],
             [
              0.3333333333333333,
              "#9c179e"
             ],
             [
              0.4444444444444444,
              "#bd3786"
             ],
             [
              0.5555555555555556,
              "#d8576b"
             ],
             [
              0.6666666666666666,
              "#ed7953"
             ],
             [
              0.7777777777777778,
              "#fb9f3a"
             ],
             [
              0.8888888888888888,
              "#fdca26"
             ],
             [
              1,
              "#f0f921"
             ]
            ],
            "type": "contour"
           }
          ],
          "contourcarpet": [
           {
            "colorbar": {
             "outlinewidth": 0,
             "ticks": ""
            },
            "type": "contourcarpet"
           }
          ],
          "heatmap": [
           {
            "colorbar": {
             "outlinewidth": 0,
             "ticks": ""
            },
            "colorscale": [
             [
              0,
              "#0d0887"
             ],
             [
              0.1111111111111111,
              "#46039f"
             ],
             [
              0.2222222222222222,
              "#7201a8"
             ],
             [
              0.3333333333333333,
              "#9c179e"
             ],
             [
              0.4444444444444444,
              "#bd3786"
             ],
             [
              0.5555555555555556,
              "#d8576b"
             ],
             [
              0.6666666666666666,
              "#ed7953"
             ],
             [
              0.7777777777777778,
              "#fb9f3a"
             ],
             [
              0.8888888888888888,
              "#fdca26"
             ],
             [
              1,
              "#f0f921"
             ]
            ],
            "type": "heatmap"
           }
          ],
          "histogram": [
           {
            "marker": {
             "pattern": {
              "fillmode": "overlay",
              "size": 10,
              "solidity": 0.2
             }
            },
            "type": "histogram"
           }
          ],
          "histogram2d": [
           {
            "colorbar": {
             "outlinewidth": 0,
             "ticks": ""
            },
            "colorscale": [
             [
              0,
              "#0d0887"
             ],
             [
              0.1111111111111111,
              "#46039f"
             ],
             [
              0.2222222222222222,
              "#7201a8"
             ],
             [
              0.3333333333333333,
              "#9c179e"
             ],
             [
              0.4444444444444444,
              "#bd3786"
             ],
             [
              0.5555555555555556,
              "#d8576b"
             ],
             [
              0.6666666666666666,
              "#ed7953"
             ],
             [
              0.7777777777777778,
              "#fb9f3a"
             ],
             [
              0.8888888888888888,
              "#fdca26"
             ],
             [
              1,
              "#f0f921"
             ]
            ],
            "type": "histogram2d"
           }
          ],
          "histogram2dcontour": [
           {
            "colorbar": {
             "outlinewidth": 0,
             "ticks": ""
            },
            "colorscale": [
             [
              0,
              "#0d0887"
             ],
             [
              0.1111111111111111,
              "#46039f"
             ],
             [
              0.2222222222222222,
              "#7201a8"
             ],
             [
              0.3333333333333333,
              "#9c179e"
             ],
             [
              0.4444444444444444,
              "#bd3786"
             ],
             [
              0.5555555555555556,
              "#d8576b"
             ],
             [
              0.6666666666666666,
              "#ed7953"
             ],
             [
              0.7777777777777778,
              "#fb9f3a"
             ],
             [
              0.8888888888888888,
              "#fdca26"
             ],
             [
              1,
              "#f0f921"
             ]
            ],
            "type": "histogram2dcontour"
           }
          ],
          "mesh3d": [
           {
            "colorbar": {
             "outlinewidth": 0,
             "ticks": ""
            },
            "type": "mesh3d"
           }
          ],
          "parcoords": [
           {
            "line": {
             "colorbar": {
              "outlinewidth": 0,
              "ticks": ""
             }
            },
            "type": "parcoords"
           }
          ],
          "pie": [
           {
            "automargin": true,
            "type": "pie"
           }
          ],
          "scatter": [
           {
            "fillpattern": {
             "fillmode": "overlay",
             "size": 10,
             "solidity": 0.2
            },
            "type": "scatter"
           }
          ],
          "scatter3d": [
           {
            "line": {
             "colorbar": {
              "outlinewidth": 0,
              "ticks": ""
             }
            },
            "marker": {
             "colorbar": {
              "outlinewidth": 0,
              "ticks": ""
             }
            },
            "type": "scatter3d"
           }
          ],
          "scattercarpet": [
           {
            "marker": {
             "colorbar": {
              "outlinewidth": 0,
              "ticks": ""
             }
            },
            "type": "scattercarpet"
           }
          ],
          "scattergeo": [
           {
            "marker": {
             "colorbar": {
              "outlinewidth": 0,
              "ticks": ""
             }
            },
            "type": "scattergeo"
           }
          ],
          "scattergl": [
           {
            "marker": {
             "colorbar": {
              "outlinewidth": 0,
              "ticks": ""
             }
            },
            "type": "scattergl"
           }
          ],
          "scattermap": [
           {
            "marker": {
             "colorbar": {
              "outlinewidth": 0,
              "ticks": ""
             }
            },
            "type": "scattermap"
           }
          ],
          "scattermapbox": [
           {
            "marker": {
             "colorbar": {
              "outlinewidth": 0,
              "ticks": ""
             }
            },
            "type": "scattermapbox"
           }
          ],
          "scatterpolar": [
           {
            "marker": {
             "colorbar": {
              "outlinewidth": 0,
              "ticks": ""
             }
            },
            "type": "scatterpolar"
           }
          ],
          "scatterpolargl": [
           {
            "marker": {
             "colorbar": {
              "outlinewidth": 0,
              "ticks": ""
             }
            },
            "type": "scatterpolargl"
           }
          ],
          "scatterternary": [
           {
            "marker": {
             "colorbar": {
              "outlinewidth": 0,
              "ticks": ""
             }
            },
            "type": "scatterternary"
           }
          ],
          "surface": [
           {
            "colorbar": {
             "outlinewidth": 0,
             "ticks": ""
            },
            "colorscale": [
             [
              0,
              "#0d0887"
             ],
             [
              0.1111111111111111,
              "#46039f"
             ],
             [
              0.2222222222222222,
              "#7201a8"
             ],
             [
              0.3333333333333333,
              "#9c179e"
             ],
             [
              0.4444444444444444,
              "#bd3786"
             ],
             [
              0.5555555555555556,
              "#d8576b"
             ],
             [
              0.6666666666666666,
              "#ed7953"
             ],
             [
              0.7777777777777778,
              "#fb9f3a"
             ],
             [
              0.8888888888888888,
              "#fdca26"
             ],
             [
              1,
              "#f0f921"
             ]
            ],
            "type": "surface"
           }
          ],
          "table": [
           {
            "cells": {
             "fill": {
              "color": "#EBF0F8"
             },
             "line": {
              "color": "white"
             }
            },
            "header": {
             "fill": {
              "color": "#C8D4E3"
             },
             "line": {
              "color": "white"
             }
            },
            "type": "table"
           }
          ]
         },
         "layout": {
          "annotationdefaults": {
           "arrowcolor": "#2a3f5f",
           "arrowhead": 0,
           "arrowwidth": 1
          },
          "autotypenumbers": "strict",
          "coloraxis": {
           "colorbar": {
            "outlinewidth": 0,
            "ticks": ""
           }
          },
          "colorscale": {
           "diverging": [
            [
             0,
             "#8e0152"
            ],
            [
             0.1,
             "#c51b7d"
            ],
            [
             0.2,
             "#de77ae"
            ],
            [
             0.3,
             "#f1b6da"
            ],
            [
             0.4,
             "#fde0ef"
            ],
            [
             0.5,
             "#f7f7f7"
            ],
            [
             0.6,
             "#e6f5d0"
            ],
            [
             0.7,
             "#b8e186"
            ],
            [
             0.8,
             "#7fbc41"
            ],
            [
             0.9,
             "#4d9221"
            ],
            [
             1,
             "#276419"
            ]
           ],
           "sequential": [
            [
             0,
             "#0d0887"
            ],
            [
             0.1111111111111111,
             "#46039f"
            ],
            [
             0.2222222222222222,
             "#7201a8"
            ],
            [
             0.3333333333333333,
             "#9c179e"
            ],
            [
             0.4444444444444444,
             "#bd3786"
            ],
            [
             0.5555555555555556,
             "#d8576b"
            ],
            [
             0.6666666666666666,
             "#ed7953"
            ],
            [
             0.7777777777777778,
             "#fb9f3a"
            ],
            [
             0.8888888888888888,
             "#fdca26"
            ],
            [
             1,
             "#f0f921"
            ]
           ],
           "sequentialminus": [
            [
             0,
             "#0d0887"
            ],
            [
             0.1111111111111111,
             "#46039f"
            ],
            [
             0.2222222222222222,
             "#7201a8"
            ],
            [
             0.3333333333333333,
             "#9c179e"
            ],
            [
             0.4444444444444444,
             "#bd3786"
            ],
            [
             0.5555555555555556,
             "#d8576b"
            ],
            [
             0.6666666666666666,
             "#ed7953"
            ],
            [
             0.7777777777777778,
             "#fb9f3a"
            ],
            [
             0.8888888888888888,
             "#fdca26"
            ],
            [
             1,
             "#f0f921"
            ]
           ]
          },
          "colorway": [
           "#636efa",
           "#EF553B",
           "#00cc96",
           "#ab63fa",
           "#FFA15A",
           "#19d3f3",
           "#FF6692",
           "#B6E880",
           "#FF97FF",
           "#FECB52"
          ],
          "font": {
           "color": "#2a3f5f"
          },
          "geo": {
           "bgcolor": "white",
           "lakecolor": "white",
           "landcolor": "#E5ECF6",
           "showlakes": true,
           "showland": true,
           "subunitcolor": "white"
          },
          "hoverlabel": {
           "align": "left"
          },
          "hovermode": "closest",
          "mapbox": {
           "style": "light"
          },
          "paper_bgcolor": "white",
          "plot_bgcolor": "#E5ECF6",
          "polar": {
           "angularaxis": {
            "gridcolor": "white",
            "linecolor": "white",
            "ticks": ""
           },
           "bgcolor": "#E5ECF6",
           "radialaxis": {
            "gridcolor": "white",
            "linecolor": "white",
            "ticks": ""
           }
          },
          "scene": {
           "xaxis": {
            "backgroundcolor": "#E5ECF6",
            "gridcolor": "white",
            "gridwidth": 2,
            "linecolor": "white",
            "showbackground": true,
            "ticks": "",
            "zerolinecolor": "white"
           },
           "yaxis": {
            "backgroundcolor": "#E5ECF6",
            "gridcolor": "white",
            "gridwidth": 2,
            "linecolor": "white",
            "showbackground": true,
            "ticks": "",
            "zerolinecolor": "white"
           },
           "zaxis": {
            "backgroundcolor": "#E5ECF6",
            "gridcolor": "white",
            "gridwidth": 2,
            "linecolor": "white",
            "showbackground": true,
            "ticks": "",
            "zerolinecolor": "white"
           }
          },
          "shapedefaults": {
           "line": {
            "color": "#2a3f5f"
           }
          },
          "ternary": {
           "aaxis": {
            "gridcolor": "white",
            "linecolor": "white",
            "ticks": ""
           },
           "baxis": {
            "gridcolor": "white",
            "linecolor": "white",
            "ticks": ""
           },
           "bgcolor": "#E5ECF6",
           "caxis": {
            "gridcolor": "white",
            "linecolor": "white",
            "ticks": ""
           }
          },
          "title": {
           "x": 0.05
          },
          "xaxis": {
           "automargin": true,
           "gridcolor": "white",
           "linecolor": "white",
           "ticks": "",
           "title": {
            "standoff": 15
           },
           "zerolinecolor": "white",
           "zerolinewidth": 2
          },
          "yaxis": {
           "automargin": true,
           "gridcolor": "white",
           "linecolor": "white",
           "ticks": "",
           "title": {
            "standoff": 15
           },
           "zerolinecolor": "white",
           "zerolinewidth": 2
          }
         }
        },
        "title": {
         "text": "Распределение log10_SI"
        },
        "xaxis": {
         "anchor": "y",
         "domain": [
          0,
          1
         ],
         "title": {
          "text": "log10_SI"
         }
        },
        "xaxis2": {
         "anchor": "y2",
         "domain": [
          0,
          1
         ],
         "matches": "x",
         "showgrid": true,
         "showticklabels": false
        },
        "yaxis": {
         "anchor": "x",
         "domain": [
          0,
          0.8316
         ],
         "title": {
          "text": "count"
         }
        },
        "yaxis2": {
         "anchor": "x2",
         "domain": [
          0.8416,
          1
         ],
         "matches": "y2",
         "showgrid": false,
         "showline": false,
         "showticklabels": false,
         "ticks": ""
        }
       }
      }
     },
     "metadata": {},
     "output_type": "display_data"
    }
   ],
   "source": [
    "for col in target_variables:\n",
    "    if col in data.columns:\n",
    "        # добавим только положительные значения (иначе log10 не определён)\n",
    "        data[f\"log10_{col}\"] = np.log10(data[col].replace(0, np.nan))\n",
    "    else:\n",
    "        print(f\"Столбец {col} не найден в данных\")\n",
    "\n",
    "# строим распределения\n",
    "for col in [f\"log10_{c}\" for c in target_variables if c in data.columns]:\n",
    "    fig = px.histogram(\n",
    "        data, x=col, nbins=50, marginal=\"box\", title=f\"Распределение {col}\"\n",
    "    )\n",
    "    fig.show()"
   ]
  },
  {
   "cell_type": "markdown",
   "id": "9e6ad0a7",
   "metadata": {},
   "source": [
    "## Корреляционный анализ"
   ]
  },
  {
   "cell_type": "code",
   "execution_count": 16,
   "id": "d490935a",
   "metadata": {},
   "outputs": [
    {
     "data": {
      "text/html": [
       "<div>\n",
       "<style scoped>\n",
       "    .dataframe tbody tr th:only-of-type {\n",
       "        vertical-align: middle;\n",
       "    }\n",
       "\n",
       "    .dataframe tbody tr th {\n",
       "        vertical-align: top;\n",
       "    }\n",
       "\n",
       "    .dataframe thead th {\n",
       "        text-align: right;\n",
       "    }\n",
       "</style>\n",
       "<table border=\"1\" class=\"dataframe\">\n",
       "  <thead>\n",
       "    <tr style=\"text-align: right;\">\n",
       "      <th></th>\n",
       "      <th>IC50, mM</th>\n",
       "      <th>CC50, mM</th>\n",
       "      <th>SI</th>\n",
       "      <th>MaxAbsEStateIndex</th>\n",
       "      <th>MaxEStateIndex</th>\n",
       "      <th>MinAbsEStateIndex</th>\n",
       "      <th>MinEStateIndex</th>\n",
       "      <th>qed</th>\n",
       "      <th>SPS</th>\n",
       "      <th>MolWt</th>\n",
       "      <th>...</th>\n",
       "      <th>fr_term_acetylene</th>\n",
       "      <th>fr_tetrazole</th>\n",
       "      <th>fr_thiazole</th>\n",
       "      <th>fr_thiocyan</th>\n",
       "      <th>fr_thiophene</th>\n",
       "      <th>fr_unbrch_alkane</th>\n",
       "      <th>fr_urea</th>\n",
       "      <th>log10_IC50, mM</th>\n",
       "      <th>log10_CC50, mM</th>\n",
       "      <th>log10_SI</th>\n",
       "    </tr>\n",
       "  </thead>\n",
       "  <tbody>\n",
       "    <tr>\n",
       "      <th>IC50, mM</th>\n",
       "      <td>1.000000</td>\n",
       "      <td>0.517785</td>\n",
       "      <td>-0.056860</td>\n",
       "      <td>0.106273</td>\n",
       "      <td>0.106273</td>\n",
       "      <td>-0.085106</td>\n",
       "      <td>-0.174451</td>\n",
       "      <td>0.102420</td>\n",
       "      <td>-0.067422</td>\n",
       "      <td>-0.156589</td>\n",
       "      <td>...</td>\n",
       "      <td>0.017069</td>\n",
       "      <td>0.058218</td>\n",
       "      <td>-0.078845</td>\n",
       "      <td>NaN</td>\n",
       "      <td>0.007438</td>\n",
       "      <td>-0.048959</td>\n",
       "      <td>0.012797</td>\n",
       "      <td>0.663748</td>\n",
       "      <td>0.424983</td>\n",
       "      <td>-0.420719</td>\n",
       "    </tr>\n",
       "    <tr>\n",
       "      <th>CC50, mM</th>\n",
       "      <td>0.517785</td>\n",
       "      <td>1.000000</td>\n",
       "      <td>-0.005991</td>\n",
       "      <td>-0.112728</td>\n",
       "      <td>-0.112728</td>\n",
       "      <td>0.078929</td>\n",
       "      <td>0.042831</td>\n",
       "      <td>0.115097</td>\n",
       "      <td>0.123613</td>\n",
       "      <td>-0.308940</td>\n",
       "      <td>...</td>\n",
       "      <td>0.019403</td>\n",
       "      <td>0.017808</td>\n",
       "      <td>-0.078597</td>\n",
       "      <td>NaN</td>\n",
       "      <td>-0.042534</td>\n",
       "      <td>-0.010502</td>\n",
       "      <td>0.085480</td>\n",
       "      <td>0.452648</td>\n",
       "      <td>0.750404</td>\n",
       "      <td>0.152232</td>\n",
       "    </tr>\n",
       "    <tr>\n",
       "      <th>SI</th>\n",
       "      <td>-0.056860</td>\n",
       "      <td>-0.005991</td>\n",
       "      <td>1.000000</td>\n",
       "      <td>0.004979</td>\n",
       "      <td>0.004979</td>\n",
       "      <td>-0.055604</td>\n",
       "      <td>0.020475</td>\n",
       "      <td>0.041375</td>\n",
       "      <td>-0.004323</td>\n",
       "      <td>-0.042891</td>\n",
       "      <td>...</td>\n",
       "      <td>-0.003323</td>\n",
       "      <td>-0.003380</td>\n",
       "      <td>-0.021893</td>\n",
       "      <td>NaN</td>\n",
       "      <td>-0.024143</td>\n",
       "      <td>-0.007742</td>\n",
       "      <td>-0.005060</td>\n",
       "      <td>-0.292309</td>\n",
       "      <td>-0.003147</td>\n",
       "      <td>0.360728</td>\n",
       "    </tr>\n",
       "    <tr>\n",
       "      <th>MaxAbsEStateIndex</th>\n",
       "      <td>0.106273</td>\n",
       "      <td>-0.112728</td>\n",
       "      <td>0.004979</td>\n",
       "      <td>1.000000</td>\n",
       "      <td>1.000000</td>\n",
       "      <td>-0.659260</td>\n",
       "      <td>-0.524018</td>\n",
       "      <td>-0.162496</td>\n",
       "      <td>-0.403843</td>\n",
       "      <td>0.389745</td>\n",
       "      <td>...</td>\n",
       "      <td>-0.055106</td>\n",
       "      <td>0.011353</td>\n",
       "      <td>0.138921</td>\n",
       "      <td>NaN</td>\n",
       "      <td>0.114346</td>\n",
       "      <td>-0.211122</td>\n",
       "      <td>0.029812</td>\n",
       "      <td>0.094559</td>\n",
       "      <td>-0.048508</td>\n",
       "      <td>-0.163913</td>\n",
       "    </tr>\n",
       "    <tr>\n",
       "      <th>MaxEStateIndex</th>\n",
       "      <td>0.106273</td>\n",
       "      <td>-0.112728</td>\n",
       "      <td>0.004979</td>\n",
       "      <td>1.000000</td>\n",
       "      <td>1.000000</td>\n",
       "      <td>-0.659260</td>\n",
       "      <td>-0.524018</td>\n",
       "      <td>-0.162496</td>\n",
       "      <td>-0.403843</td>\n",
       "      <td>0.389745</td>\n",
       "      <td>...</td>\n",
       "      <td>-0.055106</td>\n",
       "      <td>0.011353</td>\n",
       "      <td>0.138921</td>\n",
       "      <td>NaN</td>\n",
       "      <td>0.114346</td>\n",
       "      <td>-0.211122</td>\n",
       "      <td>0.029812</td>\n",
       "      <td>0.094559</td>\n",
       "      <td>-0.048508</td>\n",
       "      <td>-0.163913</td>\n",
       "    </tr>\n",
       "    <tr>\n",
       "      <th>...</th>\n",
       "      <td>...</td>\n",
       "      <td>...</td>\n",
       "      <td>...</td>\n",
       "      <td>...</td>\n",
       "      <td>...</td>\n",
       "      <td>...</td>\n",
       "      <td>...</td>\n",
       "      <td>...</td>\n",
       "      <td>...</td>\n",
       "      <td>...</td>\n",
       "      <td>...</td>\n",
       "      <td>...</td>\n",
       "      <td>...</td>\n",
       "      <td>...</td>\n",
       "      <td>...</td>\n",
       "      <td>...</td>\n",
       "      <td>...</td>\n",
       "      <td>...</td>\n",
       "      <td>...</td>\n",
       "      <td>...</td>\n",
       "      <td>...</td>\n",
       "    </tr>\n",
       "    <tr>\n",
       "      <th>fr_unbrch_alkane</th>\n",
       "      <td>-0.048959</td>\n",
       "      <td>-0.010502</td>\n",
       "      <td>-0.007742</td>\n",
       "      <td>-0.211122</td>\n",
       "      <td>-0.211122</td>\n",
       "      <td>0.250655</td>\n",
       "      <td>0.092583</td>\n",
       "      <td>-0.257897</td>\n",
       "      <td>0.024377</td>\n",
       "      <td>0.215800</td>\n",
       "      <td>...</td>\n",
       "      <td>-0.005461</td>\n",
       "      <td>-0.005461</td>\n",
       "      <td>-0.040464</td>\n",
       "      <td>NaN</td>\n",
       "      <td>-0.046682</td>\n",
       "      <td>1.000000</td>\n",
       "      <td>-0.014494</td>\n",
       "      <td>-0.069962</td>\n",
       "      <td>-0.002420</td>\n",
       "      <td>0.084747</td>\n",
       "    </tr>\n",
       "    <tr>\n",
       "      <th>fr_urea</th>\n",
       "      <td>0.012797</td>\n",
       "      <td>0.085480</td>\n",
       "      <td>-0.005060</td>\n",
       "      <td>0.029812</td>\n",
       "      <td>0.029812</td>\n",
       "      <td>-0.060518</td>\n",
       "      <td>0.038566</td>\n",
       "      <td>0.077893</td>\n",
       "      <td>0.040994</td>\n",
       "      <td>-0.046936</td>\n",
       "      <td>...</td>\n",
       "      <td>-0.002750</td>\n",
       "      <td>-0.002750</td>\n",
       "      <td>-0.020378</td>\n",
       "      <td>NaN</td>\n",
       "      <td>-0.023510</td>\n",
       "      <td>-0.014494</td>\n",
       "      <td>1.000000</td>\n",
       "      <td>0.042115</td>\n",
       "      <td>0.077977</td>\n",
       "      <td>0.021942</td>\n",
       "    </tr>\n",
       "    <tr>\n",
       "      <th>log10_IC50, mM</th>\n",
       "      <td>0.663748</td>\n",
       "      <td>0.452648</td>\n",
       "      <td>-0.292309</td>\n",
       "      <td>0.094559</td>\n",
       "      <td>0.094559</td>\n",
       "      <td>0.002802</td>\n",
       "      <td>-0.109344</td>\n",
       "      <td>0.016885</td>\n",
       "      <td>-0.031012</td>\n",
       "      <td>-0.030607</td>\n",
       "      <td>...</td>\n",
       "      <td>0.033423</td>\n",
       "      <td>0.045076</td>\n",
       "      <td>-0.004717</td>\n",
       "      <td>NaN</td>\n",
       "      <td>0.068636</td>\n",
       "      <td>-0.069962</td>\n",
       "      <td>0.042115</td>\n",
       "      <td>1.000000</td>\n",
       "      <td>0.614217</td>\n",
       "      <td>-0.658700</td>\n",
       "    </tr>\n",
       "    <tr>\n",
       "      <th>log10_CC50, mM</th>\n",
       "      <td>0.424983</td>\n",
       "      <td>0.750404</td>\n",
       "      <td>-0.003147</td>\n",
       "      <td>-0.048508</td>\n",
       "      <td>-0.048508</td>\n",
       "      <td>0.045462</td>\n",
       "      <td>-0.012487</td>\n",
       "      <td>0.095707</td>\n",
       "      <td>0.068463</td>\n",
       "      <td>-0.156744</td>\n",
       "      <td>...</td>\n",
       "      <td>0.026008</td>\n",
       "      <td>0.025364</td>\n",
       "      <td>-0.005052</td>\n",
       "      <td>NaN</td>\n",
       "      <td>0.041835</td>\n",
       "      <td>-0.002420</td>\n",
       "      <td>0.077977</td>\n",
       "      <td>0.614217</td>\n",
       "      <td>1.000000</td>\n",
       "      <td>0.189166</td>\n",
       "    </tr>\n",
       "    <tr>\n",
       "      <th>log10_SI</th>\n",
       "      <td>-0.420719</td>\n",
       "      <td>0.152232</td>\n",
       "      <td>0.360728</td>\n",
       "      <td>-0.163913</td>\n",
       "      <td>-0.163913</td>\n",
       "      <td>0.039860</td>\n",
       "      <td>0.124154</td>\n",
       "      <td>0.070241</td>\n",
       "      <td>0.103865</td>\n",
       "      <td>-0.111363</td>\n",
       "      <td>...</td>\n",
       "      <td>-0.016791</td>\n",
       "      <td>-0.031906</td>\n",
       "      <td>0.001053</td>\n",
       "      <td>NaN</td>\n",
       "      <td>-0.045518</td>\n",
       "      <td>0.084747</td>\n",
       "      <td>0.021942</td>\n",
       "      <td>-0.658700</td>\n",
       "      <td>0.189166</td>\n",
       "      <td>1.000000</td>\n",
       "    </tr>\n",
       "  </tbody>\n",
       "</table>\n",
       "<p>216 rows × 216 columns</p>\n",
       "</div>"
      ],
      "text/plain": [
       "                   IC50, mM  CC50, mM        SI  MaxAbsEStateIndex  \\\n",
       "IC50, mM           1.000000  0.517785 -0.056860           0.106273   \n",
       "CC50, mM           0.517785  1.000000 -0.005991          -0.112728   \n",
       "SI                -0.056860 -0.005991  1.000000           0.004979   \n",
       "MaxAbsEStateIndex  0.106273 -0.112728  0.004979           1.000000   \n",
       "MaxEStateIndex     0.106273 -0.112728  0.004979           1.000000   \n",
       "...                     ...       ...       ...                ...   \n",
       "fr_unbrch_alkane  -0.048959 -0.010502 -0.007742          -0.211122   \n",
       "fr_urea            0.012797  0.085480 -0.005060           0.029812   \n",
       "log10_IC50, mM     0.663748  0.452648 -0.292309           0.094559   \n",
       "log10_CC50, mM     0.424983  0.750404 -0.003147          -0.048508   \n",
       "log10_SI          -0.420719  0.152232  0.360728          -0.163913   \n",
       "\n",
       "                   MaxEStateIndex  MinAbsEStateIndex  MinEStateIndex  \\\n",
       "IC50, mM                 0.106273          -0.085106       -0.174451   \n",
       "CC50, mM                -0.112728           0.078929        0.042831   \n",
       "SI                       0.004979          -0.055604        0.020475   \n",
       "MaxAbsEStateIndex        1.000000          -0.659260       -0.524018   \n",
       "MaxEStateIndex           1.000000          -0.659260       -0.524018   \n",
       "...                           ...                ...             ...   \n",
       "fr_unbrch_alkane        -0.211122           0.250655        0.092583   \n",
       "fr_urea                  0.029812          -0.060518        0.038566   \n",
       "log10_IC50, mM           0.094559           0.002802       -0.109344   \n",
       "log10_CC50, mM          -0.048508           0.045462       -0.012487   \n",
       "log10_SI                -0.163913           0.039860        0.124154   \n",
       "\n",
       "                        qed       SPS     MolWt  ...  fr_term_acetylene  \\\n",
       "IC50, mM           0.102420 -0.067422 -0.156589  ...           0.017069   \n",
       "CC50, mM           0.115097  0.123613 -0.308940  ...           0.019403   \n",
       "SI                 0.041375 -0.004323 -0.042891  ...          -0.003323   \n",
       "MaxAbsEStateIndex -0.162496 -0.403843  0.389745  ...          -0.055106   \n",
       "MaxEStateIndex    -0.162496 -0.403843  0.389745  ...          -0.055106   \n",
       "...                     ...       ...       ...  ...                ...   \n",
       "fr_unbrch_alkane  -0.257897  0.024377  0.215800  ...          -0.005461   \n",
       "fr_urea            0.077893  0.040994 -0.046936  ...          -0.002750   \n",
       "log10_IC50, mM     0.016885 -0.031012 -0.030607  ...           0.033423   \n",
       "log10_CC50, mM     0.095707  0.068463 -0.156744  ...           0.026008   \n",
       "log10_SI           0.070241  0.103865 -0.111363  ...          -0.016791   \n",
       "\n",
       "                   fr_tetrazole  fr_thiazole  fr_thiocyan  fr_thiophene  \\\n",
       "IC50, mM               0.058218    -0.078845          NaN      0.007438   \n",
       "CC50, mM               0.017808    -0.078597          NaN     -0.042534   \n",
       "SI                    -0.003380    -0.021893          NaN     -0.024143   \n",
       "MaxAbsEStateIndex      0.011353     0.138921          NaN      0.114346   \n",
       "MaxEStateIndex         0.011353     0.138921          NaN      0.114346   \n",
       "...                         ...          ...          ...           ...   \n",
       "fr_unbrch_alkane      -0.005461    -0.040464          NaN     -0.046682   \n",
       "fr_urea               -0.002750    -0.020378          NaN     -0.023510   \n",
       "log10_IC50, mM         0.045076    -0.004717          NaN      0.068636   \n",
       "log10_CC50, mM         0.025364    -0.005052          NaN      0.041835   \n",
       "log10_SI              -0.031906     0.001053          NaN     -0.045518   \n",
       "\n",
       "                   fr_unbrch_alkane   fr_urea  log10_IC50, mM  log10_CC50, mM  \\\n",
       "IC50, mM                  -0.048959  0.012797        0.663748        0.424983   \n",
       "CC50, mM                  -0.010502  0.085480        0.452648        0.750404   \n",
       "SI                        -0.007742 -0.005060       -0.292309       -0.003147   \n",
       "MaxAbsEStateIndex         -0.211122  0.029812        0.094559       -0.048508   \n",
       "MaxEStateIndex            -0.211122  0.029812        0.094559       -0.048508   \n",
       "...                             ...       ...             ...             ...   \n",
       "fr_unbrch_alkane           1.000000 -0.014494       -0.069962       -0.002420   \n",
       "fr_urea                   -0.014494  1.000000        0.042115        0.077977   \n",
       "log10_IC50, mM            -0.069962  0.042115        1.000000        0.614217   \n",
       "log10_CC50, mM            -0.002420  0.077977        0.614217        1.000000   \n",
       "log10_SI                   0.084747  0.021942       -0.658700        0.189166   \n",
       "\n",
       "                   log10_SI  \n",
       "IC50, mM          -0.420719  \n",
       "CC50, mM           0.152232  \n",
       "SI                 0.360728  \n",
       "MaxAbsEStateIndex -0.163913  \n",
       "MaxEStateIndex    -0.163913  \n",
       "...                     ...  \n",
       "fr_unbrch_alkane   0.084747  \n",
       "fr_urea            0.021942  \n",
       "log10_IC50, mM    -0.658700  \n",
       "log10_CC50, mM     0.189166  \n",
       "log10_SI           1.000000  \n",
       "\n",
       "[216 rows x 216 columns]"
      ]
     },
     "execution_count": 16,
     "metadata": {},
     "output_type": "execute_result"
    }
   ],
   "source": [
    "data.corr()"
   ]
  },
  {
   "cell_type": "code",
   "execution_count": 17,
   "id": "a4b0880b",
   "metadata": {},
   "outputs": [
    {
     "data": {
      "image/png": "[encoded data removed]",
      "text/plain": [
       "<Figure size 1000x800 with 2 Axes>"
      ]
     },
     "metadata": {},
     "output_type": "display_data"
    }
   ],
   "source": [
    "plt.figure(figsize=(10, 8))\n",
    "sns.heatmap(data.corr(), annot=False, cmap='coolwarm')\n",
    "plt.title(\"Корреляция признаков\")\n",
    "plt.show()"
   ]
  },
  {
   "cell_type": "code",
   "execution_count": 18,
   "id": "5b359fd4",
   "metadata": {},
   "outputs": [
    {
     "name": "stdout",
     "output_type": "stream",
     "text": [
      "Пары признаков с корреляцией > 0.9:\n",
      "\n",
      "MaxAbsEStateIndex — MaxEStateIndex: 1.000\n",
      "NumAromaticCarbocycles — fr_benzene: 1.000\n",
      "fr_Ar_NH — fr_Nhpyrrole: 1.000\n",
      "fr_COO — fr_COO2: 1.000\n",
      "fr_phenol — fr_phenol_noOrthoHbond: 1.000\n",
      "MolWt — ExactMolWt: 1.000\n",
      "Chi1 — HeavyAtomCount: 0.999\n",
      "MolWt — HeavyAtomMolWt: 0.997\n",
      "HeavyAtomMolWt — ExactMolWt: 0.997\n",
      "Chi0 — HeavyAtomCount: 0.996\n",
      "NumValenceElectrons — Chi0: 0.995\n",
      "LabuteASA — HeavyAtomCount: 0.994\n",
      "Chi0n — Chi0v: 0.993\n",
      "Chi1 — LabuteASA: 0.993\n",
      "Chi0 — Chi1: 0.991\n",
      "fr_Ar_OH — fr_phenol: 0.991\n",
      "fr_Ar_OH — fr_phenol_noOrthoHbond: 0.991\n",
      "NumValenceElectrons — LabuteASA: 0.991\n",
      "NumValenceElectrons — HeavyAtomCount: 0.991\n",
      "fr_Al_COO — fr_COO: 0.990\n",
      "fr_Al_COO — fr_COO2: 0.990\n",
      "Chi0n — Chi1n: 0.990\n",
      "Chi0 — LabuteASA: 0.990\n",
      "ExactMolWt — HeavyAtomCount: 0.989\n",
      "MolWt — HeavyAtomCount: 0.989\n",
      "Chi0v — Chi1v: 0.989\n",
      "Chi0v — MolMR: 0.989\n",
      "ExactMolWt — LabuteASA: 0.989\n",
      "MolWt — LabuteASA: 0.988\n",
      "ExactMolWt — Chi1: 0.987\n",
      "MolWt — Chi1: 0.987\n",
      "ExactMolWt — Chi0: 0.987\n",
      "NumValenceElectrons — Kappa1: 0.987\n",
      "MolWt — Chi0: 0.987\n",
      "LabuteASA — MolMR: 0.986\n",
      "NumValenceElectrons — Chi1: 0.985\n",
      "Chi1n — Chi1v: 0.984\n",
      "HeavyAtomMolWt — HeavyAtomCount: 0.983\n",
      "HeavyAtomMolWt — Chi1: 0.982\n",
      "Chi0v — Chi1n: 0.982\n",
      "NHOHCount — NumHDonors: 0.981\n",
      "ExactMolWt — NumValenceElectrons: 0.981\n",
      "MolWt — NumValenceElectrons: 0.981\n",
      "Chi0v — LabuteASA: 0.981\n",
      "Chi0n — MolMR: 0.980\n",
      "Chi0 — Kappa1: 0.980\n",
      "Chi0n — Chi1v: 0.979\n",
      "HeavyAtomMolWt — Chi0: 0.978\n",
      "Chi1v — MolMR: 0.977\n",
      "HeavyAtomMolWt — LabuteASA: 0.977\n",
      "NumValenceElectrons — Chi0n: 0.976\n",
      "fr_C_O — fr_C_O_noCOO: 0.976\n",
      "NumValenceElectrons — Chi0v: 0.975\n",
      "MaxPartialCharge — MinAbsPartialCharge: 0.974\n",
      "Chi3n — Chi3v: 0.972\n",
      "Chi0n — LabuteASA: 0.972\n",
      "Chi2n — Chi2v: 0.971\n",
      "Chi1n — MolMR: 0.969\n",
      "HeavyAtomCount — MolMR: 0.968\n",
      "NumValenceElectrons — MolMR: 0.968\n",
      "Chi1 — MolMR: 0.968\n",
      "Kappa1 — LabuteASA: 0.968\n",
      "Chi2n — Chi3n: 0.967\n",
      "Chi0n — Kappa1: 0.967\n",
      "HeavyAtomMolWt — NumValenceElectrons: 0.966\n",
      "Chi4n — Chi4v: 0.966\n",
      "Chi3v — Chi4v: 0.965\n",
      "Chi2v — Chi3v: 0.965\n",
      "Chi3n — Chi4n: 0.965\n",
      "Kappa1 — HeavyAtomCount: 0.964\n",
      "Chi0v — Kappa1: 0.964\n",
      "Chi0 — MolMR: 0.961\n",
      "Chi0 — Chi0v: 0.960\n",
      "Chi1v — LabuteASA: 0.960\n",
      "ExactMolWt — Kappa1: 0.960\n",
      "Chi0 — Chi0n: 0.960\n",
      "MolWt — Kappa1: 0.960\n",
      "Chi0v — HeavyAtomCount: 0.959\n",
      "SMR_VSA7 — SlogP_VSA6: 0.959\n",
      "ExactMolWt — MolMR: 0.957\n",
      "MolWt — MolMR: 0.957\n",
      "fr_nitro_arom — fr_nitro_arom_nonortho: 0.957\n",
      "Kappa1 — Kappa2: 0.956\n",
      "NOCount — NumHAcceptors: 0.956\n",
      "fr_Al_OH — fr_Al_OH_noTert: 0.956\n",
      "Chi0n — HeavyAtomCount: 0.955\n",
      "Chi1 — Kappa1: 0.955\n",
      "ExactMolWt — Chi0v: 0.954\n",
      "MolWt — Chi0v: 0.954\n",
      "Chi0v — Chi1: 0.954\n",
      "NumValenceElectrons — Chi1n: 0.953\n",
      "Chi1n — LabuteASA: 0.951\n",
      "NumValenceElectrons — Chi1v: 0.950\n",
      "Kappa1 — MolMR: 0.950\n",
      "Chi0n — Chi1: 0.948\n",
      "FpDensityMorgan1 — FpDensityMorgan2: 0.948\n",
      "Chi2n — Chi3v: 0.948\n",
      "Chi1v — Chi2v: 0.940\n",
      "HeavyAtomMolWt — Kappa1: 0.940\n",
      "FpDensityMorgan2 — FpDensityMorgan3: 0.940\n",
      "Chi3v — Chi4n: 0.938\n",
      "HeavyAtomMolWt — MolMR: 0.937\n",
      "Chi1n — Kappa1: 0.937\n",
      "Kappa2 — Kappa3: 0.936\n",
      "TPSA — NOCount: 0.936\n",
      "ExactMolWt — Chi0n: 0.935\n",
      "Chi1n — Chi2n: 0.935\n",
      "MolWt — Chi0n: 0.935\n",
      "Chi1v — Kappa1: 0.934\n",
      "Chi2n — Chi4n: 0.932\n",
      "Chi1v — HeavyAtomCount: 0.932\n",
      "Chi3n — Chi4v: 0.930\n",
      "Chi2v — Chi3n: 0.930\n",
      "Chi2v — Chi4v: 0.930\n",
      "HeavyAtomMolWt — Chi0v: 0.929\n",
      "Chi0 — Chi1v: 0.928\n",
      "Chi1n — HeavyAtomCount: 0.928\n",
      "NumValenceElectrons — Kappa2: 0.928\n",
      "ExactMolWt — Chi1v: 0.927\n",
      "MolWt — Chi1v: 0.927\n",
      "Chi1 — Chi1v: 0.927\n",
      "Chi0 — Chi1n: 0.927\n",
      "NumAliphaticCarbocycles — NumSaturatedCarbocycles: 0.925\n",
      "HeavyAtomMolWt — BertzCT: 0.924\n",
      "Chi1n — Chi2v: 0.924\n",
      "SlogP_VSA6 — VSA_EState6: 0.923\n",
      "NOCount — NumHeteroatoms: 0.923\n",
      "Chi0 — Kappa2: 0.923\n",
      "Chi1 — Chi1n: 0.922\n",
      "VSA_EState3 — NumHDonors: 0.919\n",
      "BertzCT — Chi1: 0.916\n",
      "Kappa2 — LabuteASA: 0.915\n",
      "Kappa2 — HeavyAtomCount: 0.913\n",
      "SMR_VSA9 — SlogP_VSA11: 0.913\n",
      "Chi1 — Kappa2: 0.913\n",
      "Chi1v — Chi2n: 0.910\n",
      "SMR_VSA7 — NumAromaticCarbocycles: 0.909\n",
      "SMR_VSA7 — fr_benzene: 0.909\n",
      "ExactMolWt — Kappa2: 0.907\n",
      "BertzCT — HeavyAtomCount: 0.907\n",
      "MolWt — Kappa2: 0.907\n",
      "Chi0v — Chi2v: 0.907\n",
      "HeavyAtomMolWt — Chi0n: 0.906\n",
      "Chi2n — Chi4v: 0.906\n",
      "Kappa2 — MolMR: 0.905\n",
      "ExactMolWt — Chi1n: 0.905\n",
      "MolWt — Chi1n: 0.905\n",
      "VSA_EState2 — fr_C_O: 0.905\n",
      "Chi0n — Chi2n: 0.903\n",
      "SMR_VSA7 — VSA_EState6: 0.902\n",
      "MolWt — BertzCT: 0.902\n",
      "ExactMolWt — BertzCT: 0.902\n"
     ]
    }
   ],
   "source": [
    "# Считаем матрицу корреляций только по числовым признакам\n",
    "corr_matrix = data.corr(numeric_only=True)\n",
    "\n",
    "# Ищем пары с корреляцией > 0.9\n",
    "high_corr_pairs = []\n",
    "\n",
    "for i in range(len(corr_matrix.columns)):\n",
    "    for j in range(i + 1, len(corr_matrix.columns)):\n",
    "        col1 = corr_matrix.columns[i]\n",
    "        col2 = corr_matrix.columns[j]\n",
    "        corr_val = corr_matrix.iloc[i, j]\n",
    "        if corr_val > 0.9:  # только сильная положительная корреляция\n",
    "            high_corr_pairs.append((col1, col2, corr_val))\n",
    "\n",
    "# Сортировка по убыванию корреляции\n",
    "high_corr_pairs = sorted(high_corr_pairs, key=lambda x: -x[2])\n",
    "\n",
    "# Вывод\n",
    "print(\"Пары признаков с корреляцией > 0.9:\\n\")\n",
    "for col1, col2, val in high_corr_pairs:\n",
    "    print(f\"{col1} — {col2}: {val:.3f}\")"
   ]
  },
  {
   "cell_type": "code",
   "execution_count": 19,
   "id": "f1ec2ef6",
   "metadata": {},
   "outputs": [
    {
     "name": "stdout",
     "output_type": "stream",
     "text": [
      "Удалённые признаки: ['BertzCT', 'Chi0', 'Chi0n', 'Chi0v', 'Chi1', 'Chi1n', 'Chi1v', 'Chi2v', 'Chi3n', 'Chi3v', 'Chi4n', 'Chi4v', 'ExactMolWt', 'FpDensityMorgan2', 'HeavyAtomCount', 'HeavyAtomMolWt', 'Kappa1', 'Kappa2', 'LabuteASA', 'MaxAbsPartialCharge', 'MaxEStateIndex', 'MinAbsPartialCharge', 'MolMR', 'NOCount', 'NumAromaticCarbocycles', 'NumHDonors', 'NumSaturatedCarbocycles', 'NumValenceElectrons', 'SlogP_VSA11', 'SlogP_VSA6', 'VSA_EState6', 'fr_Al_OH_noTert', 'fr_COO', 'fr_COO2', 'fr_C_O', 'fr_Nhpyrrole', 'fr_benzene', 'fr_nitro_arom_nonortho', 'fr_phenol', 'fr_phenol_noOrthoHbond']\n"
     ]
    }
   ],
   "source": [
    "def drop_correlated_groups(df, threshold=0.9):\n",
    "    \"\"\"\n",
    "    Удаляет признаки из групп сильно коррелированных (оставляет по одному).\n",
    "\n",
    "    Параметры:\n",
    "        df (pd.DataFrame): исходный датафрейм\n",
    "        threshold (float): порог корреляции (по умолчанию 0.9)\n",
    "\n",
    "    Возвращает:\n",
    "        df_new (pd.DataFrame): датафрейм без удалённых признаков\n",
    "        dropped_features (list): список удалённых признаков\n",
    "    \"\"\"\n",
    "    corr_matrix = df.corr(numeric_only=True).abs()\n",
    "    columns = set(corr_matrix.columns)\n",
    "    dropped = set()\n",
    "\n",
    "    for col in corr_matrix.columns:\n",
    "        if col not in dropped:\n",
    "            # находим сильно скоррелированные признаки с col\n",
    "            high_corr = corr_matrix.index[\n",
    "                (corr_matrix[col] > threshold) & (corr_matrix.index != col)\n",
    "            ]\n",
    "            for hc in high_corr:\n",
    "                if hc in columns:\n",
    "                    dropped.add(hc)\n",
    "                    columns.remove(hc)\n",
    "\n",
    "    df_new = df[list(columns)].copy()\n",
    "    print(\"Удалённые признаки:\", sorted(list(dropped)))\n",
    "    return df_new, sorted(list(dropped))\n",
    "\n",
    "\n",
    "# пример использования\n",
    "data, removed = drop_correlated_groups(data, threshold=0.9)"
   ]
  },
  {
   "cell_type": "markdown",
   "id": "5e8e6c2a",
   "metadata": {},
   "source": [
    "Теперь поищем выбросы"
   ]
  },
  {
   "cell_type": "code",
   "execution_count": 20,
   "id": "a0adfce9",
   "metadata": {},
   "outputs": [
    {
     "name": "stdout",
     "output_type": "stream",
     "text": [
      "Таблица выбросов:\n"
     ]
    },
    {
     "data": {
      "text/html": [
       "<div>\n",
       "<style scoped>\n",
       "    .dataframe tbody tr th:only-of-type {\n",
       "        vertical-align: middle;\n",
       "    }\n",
       "\n",
       "    .dataframe tbody tr th {\n",
       "        vertical-align: top;\n",
       "    }\n",
       "\n",
       "    .dataframe thead th {\n",
       "        text-align: right;\n",
       "    }\n",
       "</style>\n",
       "<table border=\"1\" class=\"dataframe\">\n",
       "  <thead>\n",
       "    <tr style=\"text-align: right;\">\n",
       "      <th></th>\n",
       "      <th>column</th>\n",
       "      <th>outlier_count</th>\n",
       "    </tr>\n",
       "  </thead>\n",
       "  <tbody>\n",
       "    <tr>\n",
       "      <th>0</th>\n",
       "      <td>fr_amide</td>\n",
       "      <td>239</td>\n",
       "    </tr>\n",
       "    <tr>\n",
       "      <th>1</th>\n",
       "      <td>fr_Al_OH</td>\n",
       "      <td>238</td>\n",
       "    </tr>\n",
       "    <tr>\n",
       "      <th>2</th>\n",
       "      <td>VSA_EState9</td>\n",
       "      <td>237</td>\n",
       "    </tr>\n",
       "    <tr>\n",
       "      <th>3</th>\n",
       "      <td>fr_aniline</td>\n",
       "      <td>221</td>\n",
       "    </tr>\n",
       "    <tr>\n",
       "      <th>4</th>\n",
       "      <td>fr_allylic_oxid</td>\n",
       "      <td>206</td>\n",
       "    </tr>\n",
       "    <tr>\n",
       "      <th>...</th>\n",
       "      <td>...</td>\n",
       "      <td>...</td>\n",
       "    </tr>\n",
       "    <tr>\n",
       "      <th>171</th>\n",
       "      <td>SPS</td>\n",
       "      <td>0</td>\n",
       "    </tr>\n",
       "    <tr>\n",
       "      <th>172</th>\n",
       "      <td>fr_prisulfonamd</td>\n",
       "      <td>0</td>\n",
       "    </tr>\n",
       "    <tr>\n",
       "      <th>173</th>\n",
       "      <td>fr_isocyan</td>\n",
       "      <td>0</td>\n",
       "    </tr>\n",
       "    <tr>\n",
       "      <th>174</th>\n",
       "      <td>fr_N_O</td>\n",
       "      <td>0</td>\n",
       "    </tr>\n",
       "    <tr>\n",
       "      <th>175</th>\n",
       "      <td>fr_azide</td>\n",
       "      <td>0</td>\n",
       "    </tr>\n",
       "  </tbody>\n",
       "</table>\n",
       "<p>176 rows × 2 columns</p>\n",
       "</div>"
      ],
      "text/plain": [
       "              column  outlier_count\n",
       "0           fr_amide            239\n",
       "1           fr_Al_OH            238\n",
       "2        VSA_EState9            237\n",
       "3         fr_aniline            221\n",
       "4    fr_allylic_oxid            206\n",
       "..               ...            ...\n",
       "171              SPS              0\n",
       "172  fr_prisulfonamd              0\n",
       "173       fr_isocyan              0\n",
       "174           fr_N_O              0\n",
       "175         fr_azide              0\n",
       "\n",
       "[176 rows x 2 columns]"
      ]
     },
     "metadata": {},
     "output_type": "display_data"
    },
    {
     "data": {
      "image/png": "[encoded data removed]",
      "text/plain": [
       "<Figure size 1000x600 with 1 Axes>"
      ]
     },
     "metadata": {},
     "output_type": "display_data"
    }
   ],
   "source": [
    "def detect_outliers(df, column):\n",
    "    Q1 = df[column].quantile(0.25)\n",
    "    Q3 = df[column].quantile(0.75)\n",
    "    IQR = Q3 - Q1\n",
    "    lower_bound = Q1 - 1.5 * IQR\n",
    "    upper_bound = Q3 + 1.5 * IQR\n",
    "    return df[(df[column] < lower_bound) | (df[column] > upper_bound)].shape[0]\n",
    "\n",
    "\n",
    "# Считаем количество выбросов для числовых признаков\n",
    "outlier_counts = {}\n",
    "for col in data.select_dtypes(include=[\"float64\", \"int64\"]).columns:\n",
    "    cnt = detect_outliers(data, col)\n",
    "    outlier_counts[col] = cnt\n",
    "\n",
    "# Преобразуем в датафрейм\n",
    "outlier_df = pd.DataFrame(\n",
    "    list(outlier_counts.items()), columns=[\"column\", \"outlier_count\"]\n",
    ")\n",
    "outlier_df = outlier_df.sort_values(by=\"outlier_count\", ascending=False).reset_index(\n",
    "    drop=True\n",
    ")\n",
    "\n",
    "print(\"Таблица выбросов:\")\n",
    "display(outlier_df)\n",
    "\n",
    "top_n = 20\n",
    "plt.figure(figsize=(10, 6))\n",
    "sns.barplot(data=outlier_df.head(top_n), x=\"outlier_count\", y=\"column\")\n",
    "plt.title(f\"Топ-{top_n} признаков по числу выбросов\")\n",
    "plt.xlabel(\"Количество выбросов\")\n",
    "plt.ylabel(\"Признак\")\n",
    "plt.show()"
   ]
  },
  {
   "cell_type": "code",
   "execution_count": 21,
   "id": "6e57e671",
   "metadata": {},
   "outputs": [
    {
     "name": "stdout",
     "output_type": "stream",
     "text": [
      "Удалены признаки (дисперсия < 0.1): ['fr_azo', 'fr_phos_ester', 'fr_Ar_NH', 'fr_SH', 'fr_epoxide', 'fr_benzodiazepine', 'MaxPartialCharge', 'fr_piperdine', 'fr_priamide', 'fr_pyridine', 'fr_aldehyde', 'BCUT2D_LOGPHI', 'fr_furan', 'fr_barbitur', 'SMR_VSA8', 'fr_lactam', 'fr_lactone', 'fr_thiocyan', 'fr_dihydropyridine', 'fr_nitrile', 'fr_nitro_arom', 'fr_hdrzone', 'fr_C_S', 'fr_sulfide', 'fr_nitroso', 'fr_Ar_COO', 'FpDensityMorgan1', 'fr_N_O', 'fr_imide', 'fr_oxazole', 'fr_hdrzine', 'fr_imidazole', 'BCUT2D_MRLOW', 'fr_azide', 'fr_thiophene', 'fr_guanido', 'fr_sulfonamd', 'fr_piperzine', 'fr_ArN', 'fr_prisulfonamd', 'fr_phos_acid', 'fr_alkyl_carbamate', 'fr_Al_COO', 'fr_isothiocyan', 'FractionCSP3', 'fr_HOCCN', 'fr_Ndealkylation2', 'SlogP_VSA9', 'fr_diazo', 'fr_thiazole', 'BCUT2D_CHGHI', 'BCUT2D_CHGLO', 'fr_Ndealkylation1', 'fr_term_acetylene', 'fr_quatN', 'fr_isocyan', 'qed', 'MinAbsEStateIndex', 'MinPartialCharge', 'fr_tetrazole', 'fr_sulfone', 'fr_amidine', 'fr_oxime', 'NumRadicalElectrons', 'fr_nitro', 'fr_urea', 'BCUT2D_LOGPLOW']\n"
     ]
    }
   ],
   "source": [
    "def drop_low_variance_features(df, threshold=0.1):\n",
    "    \"\"\"\n",
    "    Удаляет признаки с дисперсией ниже threshold.\n",
    "    \"\"\"\n",
    "    # считаем дисперсию только для числовых признаков\n",
    "    variances = df.var(numeric_only=True)\n",
    "\n",
    "    # выбираем признаки с низкой дисперсией\n",
    "    low_var_features = variances[variances < threshold].index.tolist()\n",
    "\n",
    "    print(f\"Удалены признаки (дисперсия < {threshold}):\", low_var_features)\n",
    "\n",
    "    return df.drop(columns=low_var_features), low_var_features\n",
    "\n",
    "\n",
    "data, removed_low_var = drop_low_variance_features(data, threshold=0.1)"
   ]
  },
  {
   "cell_type": "code",
   "execution_count": 22,
   "id": "4ab4281a",
   "metadata": {},
   "outputs": [],
   "source": [
    "data.to_excel('data/data.xlsx', index=False)"
   ]
  }
 ],
 "metadata": {
  "kernelspec": {
   "display_name": "base",
   "language": "python",
   "name": "python3"
  },
  "language_info": {
   "codemirror_mode": {
    "name": "ipython",
    "version": 3
   },
   "file_extension": ".py",
   "mimetype": "text/x-python",
   "name": "python",
   "nbconvert_exporter": "python",
   "pygments_lexer": "ipython3",
   "version": "3.12.7"
  }
 },
 "nbformat": 4,
 "nbformat_minor": 5
}
