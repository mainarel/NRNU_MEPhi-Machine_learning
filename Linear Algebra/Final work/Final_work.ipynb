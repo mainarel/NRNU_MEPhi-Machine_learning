{
 "cells": [
  {
   "cell_type": "code",
   "execution_count": 1,
   "metadata": {},
   "outputs": [],
   "source": [
    "import numpy as np"
   ]
  },
  {
   "cell_type": "markdown",
   "metadata": {},
   "source": [
    "# Задание 1"
   ]
  },
  {
   "cell_type": "code",
   "execution_count": 6,
   "metadata": {},
   "outputs": [],
   "source": [
    "def multiplication_order(A: np.array, B: np.array, C: np.array) -> str:\n",
    "\n",
    "    # Извлекаем размеры матриц\n",
    "    m1, n1 = A.shape\n",
    "    m2, n2 = B.shape\n",
    "    _, n3 = C.shape\n",
    "\n",
    "    # Расчет количества операций для каждого варианта\n",
    "    cost1 = (m1 * n1 * n2) + (m1 * n2 * n3)  # (A*B)*C\n",
    "    cost2 = (m2 * n2 * n3) + (m1 * n1 * n3)  # A*(B*C)\n",
    "\n",
    "    if cost1 <= cost2:\n",
    "        return \"(AxB)xC\"\n",
    "    else:\n",
    "        return \"Ax(BxC)\""
   ]
  },
  {
   "cell_type": "markdown",
   "metadata": {},
   "source": [
    "Проверка на тестовых данных:"
   ]
  },
  {
   "cell_type": "code",
   "execution_count": 5,
   "metadata": {},
   "outputs": [
    {
     "data": {
      "text/plain": [
       "'(AxB)xC'"
      ]
     },
     "execution_count": 5,
     "metadata": {},
     "output_type": "execute_result"
    }
   ],
   "source": [
    "A = np.array([[1, 2]])\n",
    "B = np.array([[2], [1]])\n",
    "C = np.array([[5]])\n",
    "\n",
    "multiplication_order(A, B, C)"
   ]
  },
  {
   "cell_type": "markdown",
   "metadata": {},
   "source": [
    "# Задание 2"
   ]
  },
  {
   "cell_type": "code",
   "execution_count": 7,
   "metadata": {},
   "outputs": [],
   "source": [
    "def best_worst(X: np.array, Y: np.array):\n",
    "\n",
    "    # Добавим Y как столбец в X для расчета корреляции\n",
    "    X_with_Y = np.column_stack((X, Y))\n",
    "\n",
    "    # Вычисляем корреляционную матрицу\n",
    "    corr_matrix = np.corrcoef(X_with_Y, rowvar=False)\n",
    "\n",
    "    # Получаем корреляции между признаками X и Y (последний столбец корреляционной матрицы)\n",
    "    corr_with_Y = corr_matrix[-1, :-1]\n",
    "\n",
    "    # Находим индекс максимальной и минимальной корреляции по абсолютному значению\n",
    "    max_corr_idx = np.argmax(np.abs(corr_with_Y))\n",
    "    min_corr_idx = np.argmin(np.abs(corr_with_Y))\n",
    "\n",
    "    return (max_corr_idx, min_corr_idx)"
   ]
  },
  {
   "cell_type": "markdown",
   "metadata": {},
   "source": [
    "Проверка на тестовых данных:"
   ]
  },
  {
   "cell_type": "code",
   "execution_count": 9,
   "metadata": {},
   "outputs": [],
   "source": [
    "data = np.array(\n",
    "    [\n",
    "        [3, 51, 3, 0, 1, 0, 2200],\n",
    "        [1, 30, 1, 0, 1, 0, 1600],\n",
    "        [2, 45, 2, 0, 1, 0, 1900],\n",
    "        [3, 55, 1, 0, 1, 0, 2000],\n",
    "        [1, 45, 3, 1, 0, 0, 4500],\n",
    "        [3, 100, 3, 1, 0, 0, 7000],\n",
    "        [2, 71, 2, 1, 0, 0, 5000],\n",
    "        [1, 31, 2, 0, 0, 1, 1700],\n",
    "        [3, 53, 5, 0, 0, 1, 2100],\n",
    "        [1, 33, 3, 0, 0, 1, 1500],\n",
    "        [2, 43, 5, 0, 0, 1, 2000],\n",
    "    ]\n",
    ")"
   ]
  },
  {
   "cell_type": "code",
   "execution_count": 11,
   "metadata": {},
   "outputs": [
    {
     "data": {
      "text/plain": [
       "(3, 2)"
      ]
     },
     "execution_count": 11,
     "metadata": {},
     "output_type": "execute_result"
    }
   ],
   "source": [
    "best_worst(data[:, :-1], data[:, -1])"
   ]
  },
  {
   "cell_type": "markdown",
   "metadata": {},
   "source": [
    "# Задание 3"
   ]
  },
  {
   "cell_type": "code",
   "execution_count": 14,
   "metadata": {},
   "outputs": [],
   "source": [
    "def corr_rank(X: np.array) -> int:\n",
    "\n",
    "    # Вычисляем корреляционную матрицу для признаков X\n",
    "    corr_matrix = np.corrcoef(X, rowvar=False)\n",
    "\n",
    "    # Находим ранг корреляционной матрицы\n",
    "    rank = np.linalg.matrix_rank(corr_matrix)\n",
    "\n",
    "    return rank"
   ]
  },
  {
   "cell_type": "markdown",
   "metadata": {},
   "source": [
    "Проверка на тестовых данных:"
   ]
  },
  {
   "cell_type": "code",
   "execution_count": 18,
   "metadata": {},
   "outputs": [
    {
     "data": {
      "text/plain": [
       "5"
      ]
     },
     "execution_count": 18,
     "metadata": {},
     "output_type": "execute_result"
    }
   ],
   "source": [
    "corr_rank(data[:, :-1])"
   ]
  },
  {
   "cell_type": "markdown",
   "metadata": {},
   "source": [
    "# Задание 4"
   ]
  },
  {
   "cell_type": "code",
   "execution_count": 26,
   "metadata": {},
   "outputs": [],
   "source": [
    "def inverse_matrix(A: np.array) -> np.array:\n",
    "    \n",
    "    # Если определитель слишком мал (по абсолютному значению), матрица необратима\n",
    "    if abs(np.linalg.det(A)) < 0.001:\n",
    "        return None\n",
    "    else:\n",
    "        # Иначе вычисляем и возвращаем обратную матрицу\n",
    "        return np.linalg.inv(A)"
   ]
  },
  {
   "cell_type": "markdown",
   "metadata": {},
   "source": [
    "Проверка на тестовых данных:"
   ]
  },
  {
   "cell_type": "code",
   "execution_count": 27,
   "metadata": {},
   "outputs": [
    {
     "data": {
      "text/plain": [
       "array([[-0.33333333,  0.66666667],\n",
       "       [ 0.66666667, -0.33333333]])"
      ]
     },
     "execution_count": 27,
     "metadata": {},
     "output_type": "execute_result"
    }
   ],
   "source": [
    "A = np.array([[1, 2], [2, 1]])\n",
    "\n",
    "inverse_matrix(A)"
   ]
  },
  {
   "cell_type": "markdown",
   "metadata": {},
   "source": [
    "# Задание 5"
   ]
  },
  {
   "cell_type": "code",
   "execution_count": 32,
   "metadata": {},
   "outputs": [],
   "source": [
    "def fit_model(X, y):\n",
    "    return np.linalg.inv(X.T @ X) @ X.T @ y"
   ]
  },
  {
   "cell_type": "markdown",
   "metadata": {},
   "source": [
    "Проверка на тестовых данных:"
   ]
  },
  {
   "cell_type": "code",
   "execution_count": 33,
   "metadata": {},
   "outputs": [
    {
     "data": {
      "text/plain": [
       "array([-574.12295766,   65.33255763,  141.80223878, 1566.16246224,\n",
       "         12.32450391, -315.34552489])"
      ]
     },
     "execution_count": 33,
     "metadata": {},
     "output_type": "execute_result"
    }
   ],
   "source": [
    "fit_model(data[:, :-1], data[:, -1])"
   ]
  }
 ],
 "metadata": {
  "kernelspec": {
   "display_name": "base",
   "language": "python",
   "name": "python3"
  },
  "language_info": {
   "codemirror_mode": {
    "name": "ipython",
    "version": 3
   },
   "file_extension": ".py",
   "mimetype": "text/x-python",
   "name": "python",
   "nbconvert_exporter": "python",
   "pygments_lexer": "ipython3",
   "version": "3.12.7"
  }
 },
 "nbformat": 4,
 "nbformat_minor": 2
}
